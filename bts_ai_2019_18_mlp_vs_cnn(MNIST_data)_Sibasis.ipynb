{
  "nbformat": 4,
  "nbformat_minor": 0,
  "metadata": {
    "colab": {
      "name": "bts_ai_2019_18_mlp_vs_cnn(MNIST data)_Sibasis.ipynb",
      "version": "0.3.2",
      "provenance": [],
      "collapsed_sections": [],
      "include_colab_link": true
    },
    "kernelspec": {
      "name": "python3",
      "display_name": "Python 3"
    },
    "accelerator": "GPU"
  },
  "cells": [
    {
      "cell_type": "markdown",
      "metadata": {
        "id": "view-in-github",
        "colab_type": "text"
      },
      "source": [
        "<a href=\"https://colab.research.google.com/github/SibasisDash/bts_artifiical_intelligence/blob/master/bts_ai_2019_18_mlp_vs_cnn(MNIST_data)_Sibasis.ipynb\" target=\"_parent\"><img src=\"https://colab.research.google.com/assets/colab-badge.svg\" alt=\"Open In Colab\"/></a>"
      ]
    },
    {
      "cell_type": "markdown",
      "metadata": {
        "id": "5D3U6h6e3HBz",
        "colab_type": "text"
      },
      "source": [
        "Notebook created by [Daniel Fojo](https://www.linkedin.com/in/daniel-fojo/) - [UPC School](https://www.talent.upc.edu/ing/estudis/formacio/curs/310400/postgrau-artificial-intelligence-deep-learning/) **2019**\n",
        "\n",
        "Updates: [Xavier Giro](https://imatge.upc.edu/web/people/xavier-giro) - [Barcelona Technology School](https://barcelonatechnologyschool.com/master/master-in-big-data-solutions/) **2019**"
      ]
    },
    {
      "cell_type": "markdown",
      "metadata": {
        "id": "FFOw5rs6TKSd",
        "colab_type": "text"
      },
      "source": [
        "# Image Classification \n",
        "\n",
        "\n",
        "----\n",
        "\n",
        "The problem we are trying to solve here is to classify grayscale images of handwritten digits (28 pixels by 28 pixels), into their 10 categories (0 to 9). The dataset we will use is the MNIST dataset, a classic dataset in the machine learning community, which has been around for almost as long as the field itself and has been very intensively studied. It's a set of 60,000 training images, plus 10,000 test images, assembled by the National Institute of Standards and Technology (the NIST in MNIST) in the 1980s. You can think of \"solving\" MNIST as the \"Hello World\" of deep learning -- it's what you do to verify that your algorithms are working as expected. As you become a machine learning practitioner, you will see MNIST come up over and over again, in scientific papers, blog posts, and so on.\n",
        "\n",
        "The MNIST dataset comes pre-loaded in Keras, in the form of a set of four Numpy arrays:\n"
      ]
    },
    {
      "cell_type": "code",
      "metadata": {
        "id": "ATLrBKlwVMp5",
        "colab_type": "code",
        "colab": {}
      },
      "source": [
        "# Set the random seed 123 from numpy\n",
        "# https://docs.scipy.org/doc/numpy/reference/generated/numpy.random.seed.html\n",
        "import numpy as np\n",
        "np.random.seed(123)"
      ],
      "execution_count": 0,
      "outputs": []
    },
    {
      "cell_type": "code",
      "metadata": {
        "id": "IkV7hb-_0v3b",
        "colab_type": "code",
        "colab": {
          "base_uri": "https://localhost:8080/",
          "height": 52
        },
        "outputId": "c67146b8-27f1-471a-b0fa-551c546b1c95"
      },
      "source": [
        "# Print the Keras version\n",
        "import keras\n",
        "keras.__version__"
      ],
      "execution_count": 2,
      "outputs": [
        {
          "output_type": "stream",
          "text": [
            "Using TensorFlow backend.\n"
          ],
          "name": "stderr"
        },
        {
          "output_type": "execute_result",
          "data": {
            "text/plain": [
              "'2.2.4'"
            ]
          },
          "metadata": {
            "tags": []
          },
          "execution_count": 2
        }
      ]
    },
    {
      "cell_type": "code",
      "metadata": {
        "id": "Kr2SBUfCVXZB",
        "colab_type": "code",
        "colab": {
          "base_uri": "https://localhost:8080/",
          "height": 52
        },
        "outputId": "6246b4b1-9abe-4d3c-d5d9-98f661a22062"
      },
      "source": [
        "# Load the MNIST dataset from Keras. Store training data in train_images & train_labels, and test data in test_images & test_labels\n",
        "# https://keras.io/datasets/\n",
        "\n",
        "from keras.datasets import mnist\n",
        "\n",
        "(train_images, train_labels), (test_images, test_labels) = mnist.load_data()"
      ],
      "execution_count": 4,
      "outputs": [
        {
          "output_type": "stream",
          "text": [
            "Downloading data from https://s3.amazonaws.com/img-datasets/mnist.npz\n",
            "11493376/11490434 [==============================] - 1s 0us/step\n"
          ],
          "name": "stdout"
        }
      ]
    },
    {
      "cell_type": "markdown",
      "metadata": {
        "id": "rR0hkZ3JVsLB",
        "colab_type": "text"
      },
      "source": [
        "\n",
        "train_images and train_labels form the \"training set\", the data that the model will learn from. The model will then be tested on the \"test set\", test_images and test_labels. Our images are encoded as Numpy arrays, and the labels are simply an array of digits, ranging from 0 to 9. There is a one-to-one correspondence between the images and the labels.\n",
        "\n",
        "Let's have a look at the training data:"
      ]
    },
    {
      "cell_type": "code",
      "metadata": {
        "id": "2D9goI5SVxJt",
        "colab_type": "code",
        "colab": {
          "base_uri": "https://localhost:8080/",
          "height": 35
        },
        "outputId": "33b72084-36cc-4bd6-a8e9-0d52ad1bc236"
      },
      "source": [
        "# Check the dimensions of the train_images numpy array\n",
        "# https://docs.scipy.org/doc/numpy/reference/generated/numpy.ndarray.shape.html\n",
        "\n",
        "train_images.shape"
      ],
      "execution_count": 5,
      "outputs": [
        {
          "output_type": "execute_result",
          "data": {
            "text/plain": [
              "(60000, 28, 28)"
            ]
          },
          "metadata": {
            "tags": []
          },
          "execution_count": 5
        }
      ]
    },
    {
      "cell_type": "markdown",
      "metadata": {
        "id": "j8AfjoQlWOyc",
        "colab_type": "text"
      },
      "source": [
        "And now let's check the labels:\n",
        "\n"
      ]
    },
    {
      "cell_type": "code",
      "metadata": {
        "id": "f18OzfOJWa-W",
        "colab_type": "code",
        "colab": {
          "base_uri": "https://localhost:8080/",
          "height": 35
        },
        "outputId": "cb5585ed-1a56-4e26-f545-006554c3338f"
      },
      "source": [
        "# Check the dimensions of the train_labels numpy array\n",
        "\n",
        "train_labels.shape"
      ],
      "execution_count": 6,
      "outputs": [
        {
          "output_type": "execute_result",
          "data": {
            "text/plain": [
              "(60000,)"
            ]
          },
          "metadata": {
            "tags": []
          },
          "execution_count": 6
        }
      ]
    },
    {
      "cell_type": "markdown",
      "metadata": {
        "id": "uIWzrI3sW-1g",
        "colab_type": "text"
      },
      "source": [
        "And now let's look at the kind of images we are dealing with:"
      ]
    },
    {
      "cell_type": "code",
      "metadata": {
        "id": "vjJ95WBKXC8E",
        "colab_type": "code",
        "colab": {
          "base_uri": "https://localhost:8080/",
          "height": 269
        },
        "outputId": "699155e6-9a4a-4c26-e434-cf3c95dfe860"
      },
      "source": [
        "import matplotlib.pyplot as plt\n",
        "import random\n",
        "\n",
        "# Definition of a Python function that plots a NxN grid of images contained\n",
        "# in the images array\n",
        "def plot_samples(images,N=5):\n",
        "\n",
        "    '''\n",
        "    Plots N**2 randomly selected images from training data in a NxN grid\n",
        "    '''\n",
        "    \n",
        "    # Randomly select NxN images and save them in ps\n",
        "    ps = random.sample(range(0,images.shape[0]), N**2)\n",
        "\n",
        "    # Allocates figure f divided in subplots contained in an NxN axarr\n",
        "    # https://matplotlib.org/3.1.0/api/_as_gen/matplotlib.pyplot.subplots.html\n",
        "    f, axarr = plt.subplots(N, N)\n",
        "\n",
        "    # Index for the images in ps to be plotted\n",
        "    p = 0\n",
        "    \n",
        "    # Scan the NxN positions of the grid\n",
        "    for i in range(N):\n",
        "        for j in range(N):\n",
        "          \n",
        "            # Load the image pointed by p\n",
        "            im = images[ps[p]]\n",
        "          \n",
        "            # If images are encoded in grayscale \n",
        "            # (a tensor of 3 dimensions: width x height x luma)...\n",
        "            if len(images.shape) == 3:\n",
        "              # ...specify the colormap as grayscale\n",
        "              # https://matplotlib.org/3.1.0/api/_as_gen/matplotlib.pyplot.imshow.html\n",
        "              axarr[i,j].imshow(im,cmap='gray')            \n",
        "            else:              \n",
        "              # ...no need to specify any color map\n",
        "              axarr[i,j].imshow(im)\n",
        "              \n",
        "            # Remove axis\n",
        "            axarr[i,j].axis('off')\n",
        "            \n",
        "            # Point to the next image from the random selection\n",
        "            p+=1\n",
        "    # Show the plotted figure         \n",
        "    plt.show()\n",
        "\n",
        "# Call of the function defined in the previous lines of code\n",
        "plot_samples(train_images)"
      ],
      "execution_count": 7,
      "outputs": [
        {
          "output_type": "display_data",
          "data": {
            "image/png": "[encoded data removed]",
            "text/plain": [
              "<Figure size 432x288 with 25 Axes>"
            ]
          },
          "metadata": {
            "tags": []
          }
        }
      ]
    },
    {
      "cell_type": "markdown",
      "metadata": {
        "id": "TkkrNZ6KYRBJ",
        "colab_type": "text"
      },
      "source": [
        "# Training a Multi-Layer Perceptron (MLP)\n",
        "\n",
        "\n",
        "\n",
        "Our workflow will be as follow: first we will train our neural network with the training data, train_images and train_labels. The network will then learn to associate images and labels. Finally, we will ask the network to produce predictions for test_images, and we will verify if these predictions match the labels from test_labels.\n",
        "\n",
        "For the time being, we will use a very simple network. It consists of a sequence of two Dense layers, which are densely-connected (also called \"fully-connected\") neural layers. The second (and last) layer is a 10-way \"softmax\" layer, which means it will return an array of 10 probability scores (summing to 1). Each score will be the probability that the current digit image belongs to one of our 10 digit classes.\n",
        "\n",
        "\n"
      ]
    },
    {
      "cell_type": "code",
      "metadata": {
        "id": "q_RJrYIqlgwC",
        "colab_type": "code",
        "colab": {}
      },
      "source": [
        "from keras import models\n",
        "from keras import layers\n",
        "\n",
        "# Define a variable 'network' by instantiating a Keras sequential model\n",
        "# https://keras.io/getting-started/sequential-model-guide/\n",
        "network = models.Sequential()\n",
        "\n",
        "# Add a fully connected layer ('Dense') with 512 neurons with a ReLU activation \n",
        "# on top of an input layer with a rolled-out MNIST digit\n",
        "network.add(layers.Dense(512, activation='relu', input_shape=(784,)))#28X28=784\n",
        "\n",
        "# Add an output layer with a softmax activation to solve  MNIST classification\n",
        "network.add(layers.Dense(10, activation='softmax'))"
      ],
      "execution_count": 0,
      "outputs": []
    },
    {
      "cell_type": "markdown",
      "metadata": {
        "id": "XL72aS8RBf5d",
        "colab_type": "text"
      },
      "source": [
        "Now we can check which is the architecture of the network, and the number of parameters of each layer:"
      ]
    },
    {
      "cell_type": "code",
      "metadata": {
        "id": "wtHlf2B6nqwL",
        "colab_type": "code",
        "colab": {
          "base_uri": "https://localhost:8080/",
          "height": 208
        },
        "outputId": "c707ca03-fa49-4ab9-c614-42e9e6672afd"
      },
      "source": [
        "network.summary()"
      ],
      "execution_count": 17,
      "outputs": [
        {
          "output_type": "stream",
          "text": [
            "_________________________________________________________________\n",
            "Layer (type)                 Output Shape              Param #   \n",
            "=================================================================\n",
            "dense_6 (Dense)              (None, 512)               401920    \n",
            "_________________________________________________________________\n",
            "dense_7 (Dense)              (None, 10)                5130      \n",
            "=================================================================\n",
            "Total params: 407,050\n",
            "Trainable params: 407,050\n",
            "Non-trainable params: 0\n",
            "_________________________________________________________________\n"
          ],
          "name": "stdout"
        }
      ]
    },
    {
      "cell_type": "markdown",
      "metadata": {
        "id": "VoE6YJNyltNi",
        "colab_type": "text"
      },
      "source": [
        "\n",
        "To make our network ready for training, we need to pick three more things, as part of \"compilation\" step:\n",
        "\n",
        "\n",
        "*    **A loss function**: this is how the network will be able to measure how good a job works on its training data, and thus how it will be able to steer itself in the right direction.\n",
        "*   **An optimizer**: this is the mechanism through which the network will update itself based on the data it sees and its loss function.\n",
        "*   ** Metrics to monitor during training and testing**. Here we will only care about accuracy (the fraction of the images that were correctly classified).\n",
        "\n",
        "\n",
        "\n"
      ]
    },
    {
      "cell_type": "code",
      "metadata": {
        "id": "t8F41Fm-me3T",
        "colab_type": "code",
        "colab": {}
      },
      "source": [
        "# Compile teh defined architecture with the specific optimizer, loss and metric\n",
        "# https://keras.io/getting-started/sequential-model-guide/\n",
        "\n",
        "network.compile(loss='categorical_crossentropy',\n",
        "              optimizer='rmsprop',\n",
        "              metrics=['accuracy'])"
      ],
      "execution_count": 0,
      "outputs": []
    },
    {
      "cell_type": "markdown",
      "metadata": {
        "id": "-1KGwVGNmi-t",
        "colab_type": "text"
      },
      "source": [
        "Before training, we will preprocess our data by reshaping it into the shape that the network expects, and scaling it so that all values are in the [0, 1] interval. Previously, our training images for instance were stored in an array of shape (60000, 28, 28) of type uint8 with values in the [0, 255] interval. We transform it into a float32 array of shape (60000, 28 * 28) with values between 0 and 1."
      ]
    },
    {
      "cell_type": "code",
      "metadata": {
        "id": "h31BVqUhnI6a",
        "colab_type": "code",
        "colab": {}
      },
      "source": [
        "# Transform the shape of the train and test images from (N,28,28) to (N,784)\n",
        "# https://docs.scipy.org/doc/numpy/reference/generated/numpy.reshape.html\n",
        "train_images = train_images.reshape(train_images.shape[0],784)\n",
        "test_images = test_images.reshape(test_images.shape[0],784)"
      ],
      "execution_count": 0,
      "outputs": []
    },
    {
      "cell_type": "code",
      "metadata": {
        "id": "klWQ04naDdxH",
        "colab_type": "code",
        "colab": {}
      },
      "source": [
        "# Transform the data from uint8 data type to float32\n",
        "train_images = train_images.astype('float32')\n",
        "test_images = test_images.astype('float32')"
      ],
      "execution_count": 0,
      "outputs": []
    },
    {
      "cell_type": "code",
      "metadata": {
        "id": "G6P_KgD7DT2H",
        "colab_type": "code",
        "colab": {}
      },
      "source": [
        "# Transform the range of values between [0,255] to [0,1]\n",
        "train_images /= 255.0\n",
        "test_images /= 255.0"
      ],
      "execution_count": 0,
      "outputs": []
    },
    {
      "cell_type": "markdown",
      "metadata": {
        "id": "serjqj5ynQqU",
        "colab_type": "text"
      },
      "source": [
        "The MNIST labels from 0-9 must be encoded as a one hot vector to be predicted by the output neurons of the MLP"
      ]
    },
    {
      "cell_type": "code",
      "metadata": {
        "id": "qXsL2p5Eo1BC",
        "colab_type": "code",
        "colab": {
          "base_uri": "https://localhost:8080/",
          "height": 35
        },
        "outputId": "a12edd43-6af5-47a7-a556-ee9e180212b5"
      },
      "source": [
        "# Observe the class encoding provided by default in one sample of the MNIST dataset\n",
        "train_labels[3]"
      ],
      "execution_count": 31,
      "outputs": [
        {
          "output_type": "execute_result",
          "data": {
            "text/plain": [
              "1"
            ]
          },
          "metadata": {
            "tags": []
          },
          "execution_count": 31
        }
      ]
    },
    {
      "cell_type": "code",
      "metadata": {
        "id": "5cXIV1l0pB5U",
        "colab_type": "code",
        "colab": {}
      },
      "source": [
        "# Use this utility from Keras to convert into a one hot encoding\n",
        "# https://www.tensorflow.org/api_docs/python/tf/keras/utils/to_categorical\n",
        "from keras.utils import to_categorical\n",
        "\n",
        "train_labels = to_categorical(train_labels,dtype='float32')\n",
        "test_labels = to_categorical(test_labels,dtype='float32')\n"
      ],
      "execution_count": 0,
      "outputs": []
    },
    {
      "cell_type": "markdown",
      "metadata": {
        "id": "p8h1JWrepEDy",
        "colab_type": "text"
      },
      "source": [
        "Is represented by a vector of all 0s and a 1 in the Nth position "
      ]
    },
    {
      "cell_type": "code",
      "metadata": {
        "id": "MWewerBRpK6P",
        "colab_type": "code",
        "colab": {
          "base_uri": "https://localhost:8080/",
          "height": 35
        },
        "outputId": "fda51496-a095-4eab-8260-869404063f91"
      },
      "source": [
        "# Observe the class encoding after the transformation\n",
        "\n",
        "train_labels[0]"
      ],
      "execution_count": 33,
      "outputs": [
        {
          "output_type": "execute_result",
          "data": {
            "text/plain": [
              "array([0., 0., 0., 0., 0., 1., 0., 0., 0., 0.], dtype=float32)"
            ]
          },
          "metadata": {
            "tags": []
          },
          "execution_count": 33
        }
      ]
    },
    {
      "cell_type": "markdown",
      "metadata": {
        "id": "6Yw8w_zjpPFa",
        "colab_type": "text"
      },
      "source": [
        "We are now ready to train our network, which in Keras is done via a call to the fit method of the network: we \"fit\" the model to its training data."
      ]
    },
    {
      "cell_type": "code",
      "metadata": {
        "id": "wSVQwRpvpctb",
        "colab_type": "code",
        "colab": {
          "base_uri": "https://localhost:8080/",
          "height": 263
        },
        "outputId": "2ef0204d-0e23-49d8-92ee-4ef4ee1a1eaa"
      },
      "source": [
        "# Train the model during 5 epochs, using a mini-batch size of 128 samples\n",
        "# https://keras.io/getting-started/sequential-model-guide/\n",
        "history = network.fit(train_images, train_labels, epochs=5, batch_size=128)"
      ],
      "execution_count": 34,
      "outputs": [
        {
          "output_type": "stream",
          "text": [
            "WARNING:tensorflow:From /usr/local/lib/python3.6/dist-packages/tensorflow/python/ops/math_ops.py:3066: to_int32 (from tensorflow.python.ops.math_ops) is deprecated and will be removed in a future version.\n",
            "Instructions for updating:\n",
            "Use tf.cast instead.\n",
            "Epoch 1/5\n",
            "60000/60000 [==============================] - 4s 73us/step - loss: 0.2571 - acc: 0.9250\n",
            "Epoch 2/5\n",
            "60000/60000 [==============================] - 1s 22us/step - loss: 0.1047 - acc: 0.9685\n",
            "Epoch 3/5\n",
            "60000/60000 [==============================] - 1s 23us/step - loss: 0.0685 - acc: 0.9793\n",
            "Epoch 4/5\n",
            "60000/60000 [==============================] - 1s 22us/step - loss: 0.0501 - acc: 0.9854\n",
            "Epoch 5/5\n",
            "60000/60000 [==============================] - 1s 23us/step - loss: 0.0375 - acc: 0.9890\n"
          ],
          "name": "stdout"
        }
      ]
    },
    {
      "cell_type": "markdown",
      "metadata": {
        "id": "aTLightupnbr",
        "colab_type": "text"
      },
      "source": [
        "Two quantities are being displayed during training: the \"loss\" of the network over the training data, and the accuracy of the network over the training data.\n",
        "\n",
        "We quickly reach an accuracy of 0.989 (i.e. 98.9%) on the training data. Now let's check that our model performs well on the test set too:\n"
      ]
    },
    {
      "cell_type": "code",
      "metadata": {
        "id": "mCsCgoyoptyU",
        "colab_type": "code",
        "colab": {}
      },
      "source": [
        "# Evaluate the model on the test data\n",
        "# https://keras.io/getting-started/sequential-model-guide/\n",
        "\n",
        "test_loss, test_acc = network.evaluate(test_images, test_labels, verbose=0)"
      ],
      "execution_count": 0,
      "outputs": []
    },
    {
      "cell_type": "code",
      "metadata": {
        "id": "LDw4XXrDp1p-",
        "colab_type": "code",
        "colab": {
          "base_uri": "https://localhost:8080/",
          "height": 35
        },
        "outputId": "d2588946-d850-4e24-a615-c60fdecfa053"
      },
      "source": [
        "# Plot the accuracy over the test data\n",
        "print('test_acc:', test_acc)"
      ],
      "execution_count": 37,
      "outputs": [
        {
          "output_type": "stream",
          "text": [
            "test_acc: 0.9803\n"
          ],
          "name": "stdout"
        }
      ]
    },
    {
      "cell_type": "markdown",
      "metadata": {
        "id": "VI-0sEN6p5rI",
        "colab_type": "text"
      },
      "source": [
        "Our test set accuracy turns out to be around 98% -- that's quite a bit lower than the training set accuracy (take into account that this dataset is really simple - state of the art methods can reach 99.8%). This gap between training accuracy and test accuracy is an example of \"overfitting\", the fact that machine learning models tend to perform worse on new data than on their training data. Overfitting will be a central topic in the next session."
      ]
    },
    {
      "cell_type": "markdown",
      "metadata": {
        "id": "6mJXKk-YYfGN",
        "colab_type": "text"
      },
      "source": [
        "# Training a Convolutional Neural Network (CNN)"
      ]
    },
    {
      "cell_type": "markdown",
      "metadata": {
        "id": "Fptuotu4qRQZ",
        "colab_type": "text"
      },
      "source": [
        "We have trained a network using fully connected layers, but in the lectures we have learned that when dealing with images, Convolutional Neural Networks (CNNs) are more convenient. So, in this second part of the lab, we are going to train a convolutional neural network for multiclass classification. \n",
        "\n",
        "The following lines show what a basic convnet looks like. It's a stack of Conv2D and MaxPooling2D layers.  \n",
        "\n",
        "Importantly, a convnet takes as input tensors of shape (image_height, image_width, image_channels) (not including the batch dimension). In our case, we will configure our convnet to process inputs of size (28, 28, 1), which is the format of MNIST images. We do this via passing the argument input_shape=(28, 28, 1) to our first layer."
      ]
    },
    {
      "cell_type": "code",
      "metadata": {
        "id": "3sZmdCC9TKSh",
        "colab_type": "code",
        "colab": {}
      },
      "source": [
        "from keras import layers\n",
        "from keras import models\n",
        "\n",
        "model = models.Sequential()\n",
        "model.add(layers.Conv2D(32, (3, 3), activation='relu', input_shape=(28, 28, 1)))\n",
        "model.add(layers.MaxPooling2D((2, 2)))\n",
        "model.add(layers.Conv2D(64, (3, 3), activation='relu'))\n",
        "model.add(layers.MaxPooling2D((2, 2)))\n",
        "model.add(layers.Conv2D(64, (3, 3), activation='relu'))"
      ],
      "execution_count": 0,
      "outputs": []
    },
    {
      "cell_type": "code",
      "metadata": {
        "id": "4U4hnOhVTKSt",
        "colab_type": "code",
        "colab": {
          "base_uri": "https://localhost:8080/",
          "height": 312
        },
        "outputId": "ad0449e1-064f-4ecf-cb03-700ba34eea42"
      },
      "source": [
        "# Display the architecture of the defined convnet.\n",
        "model.summary()"
      ],
      "execution_count": 39,
      "outputs": [
        {
          "output_type": "stream",
          "text": [
            "_________________________________________________________________\n",
            "Layer (type)                 Output Shape              Param #   \n",
            "=================================================================\n",
            "conv2d_1 (Conv2D)            (None, 26, 26, 32)        320       \n",
            "_________________________________________________________________\n",
            "max_pooling2d_1 (MaxPooling2 (None, 13, 13, 32)        0         \n",
            "_________________________________________________________________\n",
            "conv2d_2 (Conv2D)            (None, 11, 11, 64)        18496     \n",
            "_________________________________________________________________\n",
            "max_pooling2d_2 (MaxPooling2 (None, 5, 5, 64)          0         \n",
            "_________________________________________________________________\n",
            "conv2d_3 (Conv2D)            (None, 3, 3, 64)          36928     \n",
            "=================================================================\n",
            "Total params: 55,744\n",
            "Trainable params: 55,744\n",
            "Non-trainable params: 0\n",
            "_________________________________________________________________\n"
          ],
          "name": "stdout"
        }
      ]
    },
    {
      "cell_type": "markdown",
      "metadata": {
        "id": "L9L1fACeTKS3",
        "colab_type": "text"
      },
      "source": [
        "You can see above that the output of every `Conv2D` and `MaxPooling2D` layer is a 3D tensor of shape `(height, width, channels)`. The width \n",
        "and height dimensions are typically designed to shrink as we go deeper in the network. The number of channels is controlled by the first argument passed to \n",
        "the `Conv2D` layers (in our case, 32 or 64).\n",
        "\n",
        "The next step would be to feed our last output tensor (of shape `(3, 3, 64)`) into a densely-connected classifier network like those you are \n",
        "already familiar with: a stack of `Dense` layers. These classifiers process vectors, which are 1D, whereas our current output is a 3D tensor. \n",
        "So first, we will have to flatten our 3D outputs to 1D, and then add a two `Dense` layers on top to solve MNIST image classification."
      ]
    },
    {
      "cell_type": "code",
      "metadata": {
        "id": "1qLDPFaTTKS5",
        "colab_type": "code",
        "colab": {}
      },
      "source": [
        "# Flatten the last output tensor\n",
        "# https://www.tensorflow.org/api_docs/python/tf/keras/layers/Flatten\n",
        "model.add(layers.Flatten())\n",
        "\n",
        "# Add a dense layer with 64 neurons and a ReLU activation\n",
        "model.add(layers.Dense(64, activation='relu'))\n",
        "\n",
        "# Add a final layer with a softmax classifier to solve MNIST\n",
        "model.add(layers.Dense(10, activation='softmax'))"
      ],
      "execution_count": 0,
      "outputs": []
    },
    {
      "cell_type": "code",
      "metadata": {
        "id": "oaZcrdT3TKTB",
        "colab_type": "code",
        "colab": {
          "base_uri": "https://localhost:8080/",
          "height": 416
        },
        "outputId": "02642b19-0491-459d-ca5b-bcbcb61b5a9f"
      },
      "source": [
        "# Show the complete architecture of the CNN\n",
        "model.summary()"
      ],
      "execution_count": 41,
      "outputs": [
        {
          "output_type": "stream",
          "text": [
            "_________________________________________________________________\n",
            "Layer (type)                 Output Shape              Param #   \n",
            "=================================================================\n",
            "conv2d_1 (Conv2D)            (None, 26, 26, 32)        320       \n",
            "_________________________________________________________________\n",
            "max_pooling2d_1 (MaxPooling2 (None, 13, 13, 32)        0         \n",
            "_________________________________________________________________\n",
            "conv2d_2 (Conv2D)            (None, 11, 11, 64)        18496     \n",
            "_________________________________________________________________\n",
            "max_pooling2d_2 (MaxPooling2 (None, 5, 5, 64)          0         \n",
            "_________________________________________________________________\n",
            "conv2d_3 (Conv2D)            (None, 3, 3, 64)          36928     \n",
            "_________________________________________________________________\n",
            "flatten_1 (Flatten)          (None, 576)               0         \n",
            "_________________________________________________________________\n",
            "dense_8 (Dense)              (None, 64)                36928     \n",
            "_________________________________________________________________\n",
            "dense_9 (Dense)              (None, 10)                650       \n",
            "=================================================================\n",
            "Total params: 93,322\n",
            "Trainable params: 93,322\n",
            "Non-trainable params: 0\n",
            "_________________________________________________________________\n"
          ],
          "name": "stdout"
        }
      ]
    },
    {
      "cell_type": "markdown",
      "metadata": {
        "id": "DpdXjfxkTKTL",
        "colab_type": "text"
      },
      "source": [
        "Now, let's train our convnet on the MNIST digits. "
      ]
    },
    {
      "cell_type": "code",
      "metadata": {
        "id": "zQsnmxyITKTP",
        "colab_type": "code",
        "colab": {}
      },
      "source": [
        "# Re-process data to make this second part self-contained\n",
        "from keras.datasets import mnist\n",
        "from keras.utils import to_categorical\n",
        "\n",
        "(train_images, train_labels), (test_images, test_labels) = mnist.load_data()\n",
        "\n",
        "train_images = train_images.reshape((60000, 28, 28, 1))\n",
        "train_images = train_images.astype('float32') / 255\n",
        "\n",
        "test_images = test_images.reshape((10000, 28, 28, 1))\n",
        "test_images = test_images.astype('float32') / 255\n",
        "\n",
        "train_labels = to_categorical(train_labels)\n",
        "test_labels = to_categorical(test_labels)"
      ],
      "execution_count": 0,
      "outputs": []
    },
    {
      "cell_type": "code",
      "metadata": {
        "id": "GJdlY3TyTKTW",
        "colab_type": "code",
        "colab": {}
      },
      "source": [
        "# Compile and train the model, as previously done with the same parameters\n",
        "# as with the MLP for a fair comparison (same amount of epochs and mini-batch size)\n",
        "model.compile(loss='categorical_crossentropy',\n",
        "              optimizer='rmsprop',\n",
        "              metrics=['accuracy'])"
      ],
      "execution_count": 0,
      "outputs": []
    },
    {
      "cell_type": "markdown",
      "metadata": {
        "id": "CiE-0hojTKTj",
        "colab_type": "text"
      },
      "source": [
        "Let's evaluate the model on the test data:"
      ]
    },
    {
      "cell_type": "code",
      "metadata": {
        "id": "CglC80rChQ_A",
        "colab_type": "code",
        "colab": {
          "base_uri": "https://localhost:8080/",
          "height": 191
        },
        "outputId": "e8fab93a-fb5b-4323-f0e0-a1900e0f23a8"
      },
      "source": [
        "history = model.fit(train_images, train_labels,\n",
        "                    batch_size=128,\n",
        "                    epochs=5)"
      ],
      "execution_count": 46,
      "outputs": [
        {
          "output_type": "stream",
          "text": [
            "Epoch 1/5\n",
            "60000/60000 [==============================] - 3s 50us/step - loss: 0.2388 - acc: 0.9246\n",
            "Epoch 2/5\n",
            "60000/60000 [==============================] - 3s 44us/step - loss: 0.0559 - acc: 0.9828\n",
            "Epoch 3/5\n",
            "60000/60000 [==============================] - 3s 44us/step - loss: 0.0377 - acc: 0.9882\n",
            "Epoch 4/5\n",
            "60000/60000 [==============================] - 3s 42us/step - loss: 0.0281 - acc: 0.9912\n",
            "Epoch 5/5\n",
            "60000/60000 [==============================] - 2s 41us/step - loss: 0.0230 - acc: 0.9931\n"
          ],
          "name": "stdout"
        }
      ]
    },
    {
      "cell_type": "code",
      "metadata": {
        "id": "ias6PIT2TKTl",
        "colab_type": "code",
        "colab": {}
      },
      "source": [
        "test_loss, test_acc = model.evaluate(test_images, test_labels, verbose=0)"
      ],
      "execution_count": 0,
      "outputs": []
    },
    {
      "cell_type": "code",
      "metadata": {
        "id": "1p-uPfC5TKTw",
        "colab_type": "code",
        "colab": {
          "base_uri": "https://localhost:8080/",
          "height": 35
        },
        "outputId": "54af05a7-8d00-4288-bbbe-8cf990512c50"
      },
      "source": [
        "# Plot the accuracy over the test data\n",
        "print('test_acc:', test_acc)"
      ],
      "execution_count": 48,
      "outputs": [
        {
          "output_type": "stream",
          "text": [
            "test_acc: 0.9907\n"
          ],
          "name": "stdout"
        }
      ]
    },
    {
      "cell_type": "markdown",
      "metadata": {
        "id": "TAS92nFrTKT4",
        "colab_type": "text"
      },
      "source": [
        "While our densely-connected network we had a test accuracy of 97.8%, our basic convnet has a test accuracy of 99.0%."
      ]
    }
  ]
}