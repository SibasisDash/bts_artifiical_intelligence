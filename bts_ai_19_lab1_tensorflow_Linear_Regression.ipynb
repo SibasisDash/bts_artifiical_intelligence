{
  "nbformat": 4,
  "nbformat_minor": 0,
  "metadata": {
    "colab": {
      "name": "bts_ai_19_lab1_tensorflow_Linear Regression.ipynb",
      "version": "0.3.2",
      "provenance": [],
      "collapsed_sections": []
    },
    "kernelspec": {
      "name": "python3",
      "display_name": "Python 3"
    },
    "accelerator": "GPU"
  },
  "cells": [
    {
      "cell_type": "markdown",
      "metadata": {
        "id": "w_iK2Hig1OFs",
        "colab_type": "text"
      },
      "source": [
        "**Notebook by [Daniel Fojo](https://www.linkedin.com/in/daniel-fojo/)**"
      ]
    },
    {
      "cell_type": "markdown",
      "metadata": {
        "id": "4_NFxCdEav_j",
        "colab_type": "text"
      },
      "source": [
        "# Linear Regression with TensorFlow"
      ]
    },
    {
      "cell_type": "markdown",
      "metadata": {
        "id": "A-lRoL9sas23",
        "colab_type": "text"
      },
      "source": [
        "## Necessary imports\n",
        "Tested for TensorFlow 1.13.1"
      ]
    },
    {
      "cell_type": "code",
      "metadata": {
        "id": "f_5wnKBrXBpZ",
        "colab_type": "code",
        "outputId": "29b759e4-8920-4685-e839-a60b8ca0a1bb",
        "colab": {
          "base_uri": "https://localhost:8080/",
          "height": 35
        }
      },
      "source": [
        "import numpy as np\n",
        "import matplotlib.pyplot as plt\n",
        "\n",
        "import tensorflow as tf\n",
        "tf.__version__"
      ],
      "execution_count": 0,
      "outputs": [
        {
          "output_type": "execute_result",
          "data": {
            "text/plain": [
              "'1.13.1'"
            ]
          },
          "metadata": {
            "tags": []
          },
          "execution_count": 1
        }
      ]
    },
    {
      "cell_type": "markdown",
      "metadata": {
        "id": "8-C9k8NDa05L",
        "colab_type": "text"
      },
      "source": [
        "## Data loading\n",
        "We will try to predict new values for $x$ given the following pairs of values. If our regressor works properly it should learn approximately $W=5$, $b=3$."
      ]
    },
    {
      "cell_type": "code",
      "metadata": {
        "id": "Vg2BIUsgXNWk",
        "colab_type": "code",
        "outputId": "b8f1a85b-2f76-445f-827f-973fb028d95c",
        "colab": {
          "base_uri": "https://localhost:8080/",
          "height": 156
        }
      },
      "source": [
        "# Training Data\n",
        "train_X = np.random.randn(20)\n",
        "train_Y = 5*train_X + 3 + np.random.randn(20)/3\n",
        "n_samples = train_X.shape[0]\n",
        "print(\"X: \", train_X, \"\\nY: \", train_Y)"
      ],
      "execution_count": 0,
      "outputs": [
        {
          "output_type": "stream",
          "text": [
            "X:  [ 1.24576045 -1.97365488  1.05470419  0.06148743 -0.63537638  2.20323748\n",
            " -0.14119531  1.6086722  -0.68252082 -0.63787958  0.44786438  0.71295363\n",
            " -0.21546296 -1.34591377  0.89343033 -1.26618021 -0.46662309  0.01559851\n",
            "  0.99199977 -0.61808561] \n",
            "Y:  [ 8.9802903  -7.04339523  8.93566227  3.26131023  0.22168671 13.92964197\n",
            "  2.48449274 11.26201493 -0.62499698 -0.20891011  6.12042894  7.01624624\n",
            "  2.27099763 -3.38807304  7.69115517 -3.38163181  0.75798866  3.55131569\n",
            "  7.86122364 -0.07560479]\n"
          ],
          "name": "stdout"
        }
      ]
    },
    {
      "cell_type": "markdown",
      "metadata": {
        "id": "aVSkQl15bCt7",
        "colab_type": "text"
      },
      "source": [
        "## Declaring the graph\n",
        "In TensorFlow, we have to define the computational graph first."
      ]
    },
    {
      "cell_type": "code",
      "metadata": {
        "id": "5dGTBYLmXSzT",
        "colab_type": "code",
        "outputId": "dc6429a2-2a2d-40f9-898d-180871123083",
        "colab": {
          "base_uri": "https://localhost:8080/",
          "height": 89
        }
      },
      "source": [
        "# Inputs\n",
        "X = tf.placeholder(tf.float32)\n",
        "Y = tf.placeholder(tf.float32)\n",
        "\n",
        "# Set model weights\n",
        "W = tf.get_variable(name=\"weight\", shape=[1])\n",
        "b = tf.get_variable(name=\"bias\", shape=[1])\n",
        "\n",
        "# Construct a linear model\n",
        "pred = tf.add(tf.multiply(X, W), b)"
      ],
      "execution_count": 0,
      "outputs": [
        {
          "output_type": "stream",
          "text": [
            "WARNING:tensorflow:From /usr/local/lib/python3.6/dist-packages/tensorflow/python/framework/op_def_library.py:263: colocate_with (from tensorflow.python.framework.ops) is deprecated and will be removed in a future version.\n",
            "Instructions for updating:\n",
            "Colocations handled automatically by placer.\n"
          ],
          "name": "stdout"
        }
      ]
    },
    {
      "cell_type": "markdown",
      "metadata": {
        "id": "AOjoMBDabbOJ",
        "colab_type": "text"
      },
      "source": [
        "As you can see, the variables don't have any numerical value yet."
      ]
    },
    {
      "cell_type": "code",
      "metadata": {
        "id": "yb170kNVX8c2",
        "colab_type": "code",
        "outputId": "40efc71e-ad4f-40ba-a168-67f9e8671654",
        "colab": {
          "base_uri": "https://localhost:8080/",
          "height": 104
        }
      },
      "source": [
        "print('X:', X)\n",
        "print('Y:', Y)\n",
        "print('W:', W)\n",
        "print('b:', b)\n",
        "print('pred:', pred)"
      ],
      "execution_count": 0,
      "outputs": [
        {
          "output_type": "stream",
          "text": [
            "X: Tensor(\"Placeholder:0\", dtype=float32)\n",
            "Y: Tensor(\"Placeholder_1:0\", dtype=float32)\n",
            "W: <tf.Variable 'weight:0' shape=(1,) dtype=float32_ref>\n",
            "b: <tf.Variable 'bias:0' shape=(1,) dtype=float32_ref>\n",
            "pred: Tensor(\"Add:0\", dtype=float32)\n"
          ],
          "name": "stdout"
        }
      ]
    },
    {
      "cell_type": "code",
      "metadata": {
        "id": "e74q2TYXYB8c",
        "colab_type": "code",
        "outputId": "f4479fee-edc9-48bd-a187-6f003a22773f",
        "colab": {
          "base_uri": "https://localhost:8080/",
          "height": 89
        }
      },
      "source": [
        "# Mean square error\n",
        "cost = tf.reduce_sum(tf.pow(pred-Y, 2))/n_samples\n",
        "# Gradient descent optimizer to minimize the MSE\n",
        "optimizer = tf.train.GradientDescentOptimizer(0.1).minimize(cost)"
      ],
      "execution_count": 0,
      "outputs": [
        {
          "output_type": "stream",
          "text": [
            "WARNING:tensorflow:From /usr/local/lib/python3.6/dist-packages/tensorflow/python/ops/math_ops.py:3066: to_int32 (from tensorflow.python.ops.math_ops) is deprecated and will be removed in a future version.\n",
            "Instructions for updating:\n",
            "Use tf.cast instead.\n"
          ],
          "name": "stdout"
        }
      ]
    },
    {
      "cell_type": "markdown",
      "metadata": {
        "id": "93VJ9pxoboov",
        "colab_type": "text"
      },
      "source": [
        "We should now initialize the session, to start feeding data to our regressor."
      ]
    },
    {
      "cell_type": "code",
      "metadata": {
        "id": "Los7CdGrYT80",
        "colab_type": "code",
        "colab": {}
      },
      "source": [
        "# Create session\n",
        "sess = tf.InteractiveSession()\n",
        "\n",
        "# Initialize the variables before performing any computation\n",
        "init = sess.run(tf.global_variables_initializer())"
      ],
      "execution_count": 0,
      "outputs": []
    },
    {
      "cell_type": "code",
      "metadata": {
        "id": "FdRBbQ6zbQ9U",
        "colab_type": "code",
        "outputId": "c992ea76-8749-41b8-822a-4fd3b5bdb035",
        "colab": {
          "base_uri": "https://localhost:8080/",
          "height": 271
        }
      },
      "source": [
        "# Graphic display *before* training\n",
        "plt.plot(train_X, train_Y, 'ro', label='Original data')\n",
        "plt.plot(train_X, sess.run(W) * train_X + sess.run(b), label='Fitted line')\n",
        "plt.legend()\n",
        "plt.show()"
      ],
      "execution_count": 0,
      "outputs": [
        {
          "output_type": "display_data",
          "data": {
            "image/png": "[encoded data removed]",
            "text/plain": [
              "<Figure size 432x288 with 1 Axes>"
            ]
          },
          "metadata": {
            "tags": []
          }
        }
      ]
    },
    {
      "cell_type": "code",
      "metadata": {
        "id": "AJJOoCaBYddz",
        "colab_type": "code",
        "outputId": "822806fd-ee90-4a3d-9bca-a6410fb42b51",
        "colab": {
          "base_uri": "https://localhost:8080/",
          "height": 225
        }
      },
      "source": [
        "# Fit all training data\n",
        "for epoch in range(100):\n",
        "    for (x, y) in zip(train_X, train_Y):\n",
        "        sess.run(optimizer, feed_dict={X: x, Y: y})\n",
        "\n",
        "    # Display logs per epoch step\n",
        "    if (epoch+1) % 10 == 0:\n",
        "        # Calculate the average cost for the epoch saving each step in `all_costs`\n",
        "        all_costs = []\n",
        "        for (x, y) in zip(train_X, train_Y):\n",
        "            all_costs.append(sess.run(cost, feed_dict={X: x, Y: y}))\n",
        "        print(\"Epoch:\", '%04d' % (epoch+1), \"cost=\", \"{:.9f}\".format(np.mean(all_costs)), \\\n",
        "            \"W=\", sess.run(W), \"b=\", sess.run(b))\n",
        "\n",
        "print(\"Optimization Finished!\")\n",
        "all_costs = []\n",
        "for (x, y) in zip(train_X, train_Y):\n",
        "    all_costs.append(sess.run(cost, feed_dict={X: x, Y: y}))\n",
        "print(\"Training cost=\", np.mean(all_costs), \"W=\", sess.run(W), \"b=\", sess.run(b))\n"
      ],
      "execution_count": 0,
      "outputs": [
        {
          "output_type": "stream",
          "text": [
            "Epoch: 0010 cost= 0.017773740 W= [4.628958] b= [2.9002316]\n",
            "Epoch: 0020 cost= 0.004490945 W= [5.0001583] b= [3.1376438]\n",
            "Epoch: 0030 cost= 0.004360937 W= [5.0367627] b= [3.163763]\n",
            "Epoch: 0040 cost= 0.004360429 W= [5.040329] b= [3.1667006]\n",
            "Epoch: 0050 cost= 0.004360517 W= [5.0406685] b= [3.167039]\n",
            "Epoch: 0060 cost= 0.004360526 W= [5.0407014] b= [3.167079]\n",
            "Epoch: 0070 cost= 0.004360525 W= [5.0407033] b= [3.1670842]\n",
            "Epoch: 0080 cost= 0.004360528 W= [5.0407033] b= [3.1670845]\n",
            "Epoch: 0090 cost= 0.004360528 W= [5.0407033] b= [3.1670845]\n",
            "Epoch: 0100 cost= 0.004360528 W= [5.0407033] b= [3.1670845]\n",
            "Optimization Finished!\n",
            "Training cost= 0.0043605277 W= [5.0407033] b= [3.1670845]\n"
          ],
          "name": "stdout"
        }
      ]
    },
    {
      "cell_type": "code",
      "metadata": {
        "id": "RXmXLCjPYpoc",
        "colab_type": "code",
        "outputId": "236bf39e-da54-40bc-dc36-c0911ff82baa",
        "colab": {
          "base_uri": "https://localhost:8080/",
          "height": 269
        }
      },
      "source": [
        "# Graphic display *after* training\n",
        "plt.plot(train_X, train_Y, 'ro', label='Original data')\n",
        "plt.plot(train_X, sess.run(W) * train_X + sess.run(b), label='Fitted line')\n",
        "plt.legend()\n",
        "plt.show()"
      ],
      "execution_count": 0,
      "outputs": [
        {
          "output_type": "display_data",
          "data": {
            "image/png": "[encoded data removed]",
            "text/plain": [
              "<Figure size 432x288 with 1 Axes>"
            ]
          },
          "metadata": {
            "tags": []
          }
        }
      ]
    },
    {
      "cell_type": "markdown",
      "metadata": {
        "id": "0ylLoingcaK0",
        "colab_type": "text"
      },
      "source": [
        "## Exercise 1:\n",
        "What is the predicted value for $x=0.5$?"
      ]
    },
    {
      "cell_type": "code",
      "metadata": {
        "id": "EHZE2ekF0UCW",
        "colab_type": "code",
        "outputId": "0337de59-976a-4206-c9cb-886fc23278aa",
        "colab": {
          "base_uri": "https://localhost:8080/",
          "height": 35
        }
      },
      "source": [
        "y = sess.run(W) * 0.5 +sess.run(b)\n",
        "y"
      ],
      "execution_count": 0,
      "outputs": [
        {
          "output_type": "execute_result",
          "data": {
            "text/plain": [
              "array([5.687436], dtype=float32)"
            ]
          },
          "metadata": {
            "tags": []
          },
          "execution_count": 15
        }
      ]
    },
    {
      "cell_type": "code",
      "metadata": {
        "id": "Mwxsu-yI2XlA",
        "colab_type": "code",
        "outputId": "13b6df3b-c94a-4d92-d9b5-2e7385e4ad6a",
        "colab": {
          "base_uri": "https://localhost:8080/",
          "height": 35
        }
      },
      "source": [
        "x = tf.placeholder(tf.float32)\n",
        "y = W*x+b\n",
        "print(sess.run(y, feed_dict={x:0.5}))"
      ],
      "execution_count": 0,
      "outputs": [
        {
          "output_type": "stream",
          "text": [
            "[5.687436]\n"
          ],
          "name": "stdout"
        }
      ]
    },
    {
      "cell_type": "markdown",
      "metadata": {
        "id": "bdY_ToqocRPN",
        "colab_type": "text"
      },
      "source": [
        "## Exercise 2:\n",
        "Train a 2 input regression given the following data:"
      ]
    },
    {
      "cell_type": "code",
      "metadata": {
        "id": "kRhQQ6lTcXGq",
        "colab_type": "code",
        "outputId": "37965cdc-cc46-4fa9-ef68-98988f2fbd4f",
        "colab": {
          "base_uri": "https://localhost:8080/",
          "height": 433
        }
      },
      "source": [
        "train_X = np.random.randn(20, 2)\n",
        "train_Y = -1*train_X[:, 0] + 4*train_X[:, 1] + 2 + np.random.randn(20)/3\n",
        "print(\"X: \", train_X, \"\\nY: \", train_Y)"
      ],
      "execution_count": 0,
      "outputs": [
        {
          "output_type": "stream",
          "text": [
            "X:  [[ 0.60762092 -0.83549556]\n",
            " [ 0.35730478 -0.21725364]\n",
            " [-1.74692372 -1.4465264 ]\n",
            " [ 1.60759977  0.99889108]\n",
            " [-0.89401749  0.47158332]\n",
            " [ 0.37381518 -0.04247181]\n",
            " [-0.44681438  0.35519005]\n",
            " [ 0.73660661 -0.55018617]\n",
            " [ 0.85842421  0.93932212]\n",
            " [-0.01637569 -0.21855464]\n",
            " [-0.45321926  0.37944652]\n",
            " [ 1.59729252 -0.58117632]\n",
            " [-0.32989152 -0.00319161]\n",
            " [-0.19482245 -0.2015509 ]\n",
            " [ 0.38919609 -0.26839947]\n",
            " [-0.03645934 -0.43098002]\n",
            " [-1.09449638  1.03904921]\n",
            " [ 0.34090191 -0.74129948]\n",
            " [-1.84508728  0.08834671]\n",
            " [-1.51726692  0.34473108]] \n",
            "Y:  [-1.87378557  1.02002998 -1.64800585  4.67007128  4.77837592  0.98893597\n",
            "  3.98454557 -0.75602195  4.80333077  1.10336203  3.21232974 -1.8385888\n",
            "  2.23452551  1.52234136  0.47358115  0.09171056  7.4207902  -1.26019622\n",
            "  4.14954524  4.81267675]\n"
          ],
          "name": "stdout"
        }
      ]
    },
    {
      "cell_type": "markdown",
      "metadata": {
        "id": "DXFw2yLFe9Za",
        "colab_type": "text"
      },
      "source": [
        "**Hint:** In TensorFlow each variable should have a different name, so you cannot use the names \"weight\" and \"bias\""
      ]
    },
    {
      "cell_type": "code",
      "metadata": {
        "id": "3Q-raygAdbeK",
        "colab_type": "code",
        "colab": {}
      },
      "source": [
        "# Inputs\n",
        "X = tf.placeholder(tf.float32)\n",
        "Y = tf.placeholder(tf.float32)\n",
        "\n",
        "# Set model weights\n",
        "W = tf.get_variable(name=\"weight3\", shape=[2])\n",
        "b = tf.get_variable(name=\"bias3\", shape=[1])\n",
        "\n",
        "# Construct a linear model\n",
        "pred = tf.add(tf.reduce_sum(tf.multiply(X, W)), b)"
      ],
      "execution_count": 0,
      "outputs": []
    },
    {
      "cell_type": "code",
      "metadata": {
        "id": "yuI3CerI5C6Y",
        "colab_type": "code",
        "colab": {}
      },
      "source": [
        "# Mean square error\n",
        "cost = tf.reduce_sum(tf.pow(pred-Y, 2))/n_samples\n",
        "# Gradient descent optimizer to minimize the MSE\n",
        "optimizer = tf.train.GradientDescentOptimizer(0.1).minimize(cost)"
      ],
      "execution_count": 0,
      "outputs": []
    },
    {
      "cell_type": "code",
      "metadata": {
        "id": "S_UizCPB5DGl",
        "colab_type": "code",
        "outputId": "df303414-3996-47f3-a2e4-59c4b7ee155f",
        "colab": {
          "base_uri": "https://localhost:8080/",
          "height": 72
        }
      },
      "source": [
        "# Create session\n",
        "sess = tf.InteractiveSession()\n",
        "\n",
        "# Initialize the variables before performing any computation\n",
        "init = sess.run(tf.global_variables_initializer())"
      ],
      "execution_count": 0,
      "outputs": [
        {
          "output_type": "stream",
          "text": [
            "/usr/local/lib/python3.6/dist-packages/tensorflow/python/client/session.py:1702: UserWarning: An interactive session is already active. This can cause out-of-memory errors in some cases. You must explicitly call `InteractiveSession.close()` to release resources held by the other session(s).\n",
            "  warnings.warn('An interactive session is already active. This can '\n"
          ],
          "name": "stderr"
        }
      ]
    },
    {
      "cell_type": "code",
      "metadata": {
        "id": "3Szitehz5DJb",
        "colab_type": "code",
        "outputId": "344a36d7-6582-40bb-8e40-6df1a2b44181",
        "colab": {
          "base_uri": "https://localhost:8080/",
          "height": 225
        }
      },
      "source": [
        "# Fit all training data\n",
        "for epoch in range(100):\n",
        "    for (x, y) in zip(train_X, train_Y):\n",
        "        sess.run(optimizer, feed_dict={X: x, Y: y})\n",
        "\n",
        "    # Display logs per epoch step\n",
        "    if (epoch+1) % 10 == 0:\n",
        "        # Calculate the average cost for the epoch saving each step in `all_costs`\n",
        "        all_costs = []\n",
        "        for (x, y) in zip(train_X, train_Y):\n",
        "            all_costs.append(sess.run(cost, feed_dict={X: x, Y: y}))\n",
        "        print(\"Epoch:\", '%04d' % (epoch+1), \"cost=\", \"{:.9f}\".format(np.mean(all_costs)), \\\n",
        "            \"W=\", sess.run(W), \"b=\", sess.run(b))\n",
        "\n",
        "print(\"Optimization Finished!\")\n",
        "all_costs = []\n",
        "for (x, y) in zip(train_X, train_Y):\n",
        "    all_costs.append(sess.run(cost, feed_dict={X: x, Y: y}))\n",
        "print(\"Training cost=\", np.mean(all_costs), \"W=\", sess.run(W), \"b=\", sess.run(b))"
      ],
      "execution_count": 0,
      "outputs": [
        {
          "output_type": "stream",
          "text": [
            "Epoch: 0010 cost= 0.052624833 W= [-0.9211705  2.3485634] b= [1.7933581]\n",
            "Epoch: 0020 cost= 0.012875224 W= [-0.9849778  3.2119877] b= [1.9260467]\n",
            "Epoch: 0030 cost= 0.005001798 W= [-0.99012774  3.6009102 ] b= [1.9628984]\n",
            "Epoch: 0040 cost= 0.003427356 W= [-0.98939294  3.7753427 ] b= [1.9770331]\n",
            "Epoch: 0050 cost= 0.003113700 W= [-0.98865616  3.8534923 ] b= [1.9831302]\n",
            "Epoch: 0060 cost= 0.003051778 W= [-0.98826987  3.8884966 ] b= [1.9858414]\n",
            "Epoch: 0070 cost= 0.003039805 W= [-0.98808855  3.9041748 ] b= [1.9870542]\n",
            "Epoch: 0080 cost= 0.003037605 W= [-0.98800635  3.9111962 ] b= [1.987598]\n",
            "Epoch: 0090 cost= 0.003037253 W= [-0.9879693  3.914339 ] b= [1.9878411]\n",
            "Epoch: 0100 cost= 0.003037225 W= [-0.98795253  3.9157465 ] b= [1.9879503]\n",
            "Optimization Finished!\n",
            "Training cost= 0.003037225 W= [-0.98795253  3.9157465 ] b= [1.9879503]\n"
          ],
          "name": "stdout"
        }
      ]
    },
    {
      "cell_type": "code",
      "metadata": {
        "id": "doOasveS5DMj",
        "colab_type": "code",
        "outputId": "980c647a-b9ab-4578-9766-68f314c547f3",
        "colab": {
          "base_uri": "https://localhost:8080/",
          "height": 35
        }
      },
      "source": [
        "x = tf.placeholder(tf.float32)\n",
        "y = tf.reduce_sum(W*x)+b\n",
        "print(sess.run(y, feed_dict={x:[0.5,1.5]}))"
      ],
      "execution_count": 0,
      "outputs": [
        {
          "output_type": "stream",
          "text": [
            "[7.367594]\n"
          ],
          "name": "stdout"
        }
      ]
    },
    {
      "cell_type": "code",
      "metadata": {
        "id": "EeEVC6Sn5s3q",
        "colab_type": "code",
        "colab": {}
      },
      "source": [
        ""
      ],
      "execution_count": 0,
      "outputs": []
    }
  ]
}