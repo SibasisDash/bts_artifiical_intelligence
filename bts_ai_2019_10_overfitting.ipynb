{
  "nbformat": 4,
  "nbformat_minor": 0,
  "metadata": {
    "colab": {
      "name": "bts_ai_2019_10_overfitting.ipynb",
      "version": "0.3.2",
      "provenance": [],
      "collapsed_sections": [],
      "include_colab_link": true
    },
    "kernelspec": {
      "name": "python3",
      "display_name": "Python 3"
    },
    "accelerator": "GPU"
  },
  "cells": [
    {
      "cell_type": "markdown",
      "metadata": {
        "id": "view-in-github",
        "colab_type": "text"
      },
      "source": [
        "<a href=\"https://colab.research.google.com/github/SibasisDash/bts_artifiical_intelligence/blob/master/bts_ai_2019_10_overfitting.ipynb\" target=\"_parent\"><img src=\"https://colab.research.google.com/assets/colab-badge.svg\" alt=\"Open In Colab\"/></a>"
      ]
    },
    {
      "cell_type": "markdown",
      "metadata": {
        "id": "JAkZzyGZ7Jqj",
        "colab_type": "text"
      },
      "source": [
        "Notebook created by  [Míriam Bellver](https://imatge.upc.edu/web/people/miriam-bellver) - Barcelona Supercomputing Center 2018"
      ]
    },
    {
      "cell_type": "code",
      "metadata": {
        "id": "LZQly301zBXH",
        "colab_type": "code",
        "colab": {
          "base_uri": "https://localhost:8080/",
          "height": 35
        },
        "outputId": "5f67d0dc-5af5-4b67-b7e3-653718394afd"
      },
      "source": [
        "import numpy as np\n",
        "import keras\n",
        "keras.__version__\n",
        "np.random.seed(123)"
      ],
      "execution_count": 1,
      "outputs": [
        {
          "output_type": "stream",
          "text": [
            "Using TensorFlow backend.\n"
          ],
          "name": "stderr"
        }
      ]
    },
    {
      "cell_type": "markdown",
      "metadata": {
        "id": "8nAUoPtFzBXU",
        "colab_type": "text"
      },
      "source": [
        "\n",
        "\n",
        "Two-class classification, or binary classification, may be the most widely applied kind of machine learning problem. In this example, we will learn to classify movie reviews into \"positive\" reviews and \"negative\" reviews, just based on the text content of the reviews.\n",
        "\n",
        "# The IMDB dataset\n",
        "\n",
        "We'll be working with \"IMDB dataset\", a set of 50,000 highly-polarized reviews from the Internet Movie Database. They are split into 25,000 reviews for training and 25,000 reviews for testing, each set consisting in 50% negative and 50% positive reviews.\n",
        "\n",
        "Why do we have these two separate training and test sets? You should never test a machine learning model on the same data that you used to train it! Just because a model performs well on its training data doesn't mean that it will perform well on data it has never seen, and what you actually care about is your model's performance on new data (since you already know the labels of your training data -- obviously you don't need your model to predict those). For instance, it is possible that your model could end up merely memorizing a mapping between your training samples and their targets -- which would be completely useless for the task of predicting targets for data never seen before.  This is something that we will deal in this session, learning what is overfitting and underfitting with real examples.\n",
        "\n",
        "Just like the MNIST dataset, the IMDB dataset comes packaged with Keras. It has already been preprocessed: the reviews (sequences of words) have been turned into sequences of integers, where each integer stands for a specific word in a dictionary.\n",
        "\n",
        "The following code will load the dataset (when you run it for the first time, about 80MB of data will be downloaded to your machine):\n"
      ]
    },
    {
      "cell_type": "code",
      "metadata": {
        "id": "PPeovnAo7iIw",
        "colab_type": "code",
        "colab": {
          "base_uri": "https://localhost:8080/",
          "height": 297
        },
        "outputId": "d176d1ff-87f6-49f8-c6d1-933706f1a2b6"
      },
      "source": [
        "!pip install numpy==1.16.1"
      ],
      "execution_count": 3,
      "outputs": [
        {
          "output_type": "stream",
          "text": [
            "Collecting numpy==1.16.1\n",
            "\u001b[?25l  Downloading https://files.pythonhosted.org/packages/f5/bf/4981bcbee43934f0adb8f764a1e70ab0ee5a448f6505bd04a87a2fda2a8b/numpy-1.16.1-cp36-cp36m-manylinux1_x86_64.whl (17.3MB)\n",
            "\u001b[K     |████████████████████████████████| 17.3MB 2.8MB/s \n",
            "\u001b[31mERROR: datascience 0.10.6 has requirement folium==0.2.1, but you'll have folium 0.8.3 which is incompatible.\u001b[0m\n",
            "\u001b[31mERROR: albumentations 0.1.12 has requirement imgaug<0.2.7,>=0.2.5, but you'll have imgaug 0.2.9 which is incompatible.\u001b[0m\n",
            "\u001b[?25hInstalling collected packages: numpy\n",
            "  Found existing installation: numpy 1.16.3\n",
            "    Uninstalling numpy-1.16.3:\n",
            "      Successfully uninstalled numpy-1.16.3\n",
            "Successfully installed numpy-1.16.1\n"
          ],
          "name": "stdout"
        },
        {
          "output_type": "display_data",
          "data": {
            "application/vnd.colab-display-data+json": {
              "pip_warning": {
                "packages": [
                  "numpy"
                ]
              }
            }
          },
          "metadata": {
            "tags": []
          }
        }
      ]
    },
    {
      "cell_type": "code",
      "metadata": {
        "id": "l291fFVjzBXX",
        "colab_type": "code",
        "colab": {}
      },
      "source": [
        "from keras.datasets import imdb\n",
        "import numpy as np\n",
        "\n",
        "(train_data, train_labels), (test_data, test_labels) = imdb.load_data(num_words=10000)\n"
      ],
      "execution_count": 0,
      "outputs": []
    },
    {
      "cell_type": "markdown",
      "metadata": {
        "id": "cx-MlQHW4fR3",
        "colab_type": "text"
      },
      "source": [
        "\n",
        "\n",
        "The argument num_words=10000 means that we will only keep the top 10,000 most frequently occurring words in the training data. Rare words will be discarded. This allows us to work with vector data of manageable size.\n",
        "\n",
        "The variables train_data and test_data are lists of reviews, each review being a list of word indices (encoding a sequence of words). train_labels and test_labels are lists of 0s and 1s, where 0 stands for \"negative\" and 1 stands for \"positive\":\n"
      ]
    },
    {
      "cell_type": "code",
      "metadata": {
        "id": "nwpVFR-t5Fl2",
        "colab_type": "code",
        "colab": {
          "base_uri": "https://localhost:8080/",
          "height": 3796
        },
        "outputId": "84a2eebf-bd52-4436-e6d9-cd02e68304e9"
      },
      "source": [
        "train_data[0]"
      ],
      "execution_count": 3,
      "outputs": [
        {
          "output_type": "execute_result",
          "data": {
            "text/plain": [
              "[1,\n",
              " 14,\n",
              " 22,\n",
              " 16,\n",
              " 43,\n",
              " 530,\n",
              " 973,\n",
              " 1622,\n",
              " 1385,\n",
              " 65,\n",
              " 458,\n",
              " 4468,\n",
              " 66,\n",
              " 3941,\n",
              " 4,\n",
              " 173,\n",
              " 36,\n",
              " 256,\n",
              " 5,\n",
              " 25,\n",
              " 100,\n",
              " 43,\n",
              " 838,\n",
              " 112,\n",
              " 50,\n",
              " 670,\n",
              " 2,\n",
              " 9,\n",
              " 35,\n",
              " 480,\n",
              " 284,\n",
              " 5,\n",
              " 150,\n",
              " 4,\n",
              " 172,\n",
              " 112,\n",
              " 167,\n",
              " 2,\n",
              " 336,\n",
              " 385,\n",
              " 39,\n",
              " 4,\n",
              " 172,\n",
              " 4536,\n",
              " 1111,\n",
              " 17,\n",
              " 546,\n",
              " 38,\n",
              " 13,\n",
              " 447,\n",
              " 4,\n",
              " 192,\n",
              " 50,\n",
              " 16,\n",
              " 6,\n",
              " 147,\n",
              " 2025,\n",
              " 19,\n",
              " 14,\n",
              " 22,\n",
              " 4,\n",
              " 1920,\n",
              " 4613,\n",
              " 469,\n",
              " 4,\n",
              " 22,\n",
              " 71,\n",
              " 87,\n",
              " 12,\n",
              " 16,\n",
              " 43,\n",
              " 530,\n",
              " 38,\n",
              " 76,\n",
              " 15,\n",
              " 13,\n",
              " 1247,\n",
              " 4,\n",
              " 22,\n",
              " 17,\n",
              " 515,\n",
              " 17,\n",
              " 12,\n",
              " 16,\n",
              " 626,\n",
              " 18,\n",
              " 2,\n",
              " 5,\n",
              " 62,\n",
              " 386,\n",
              " 12,\n",
              " 8,\n",
              " 316,\n",
              " 8,\n",
              " 106,\n",
              " 5,\n",
              " 4,\n",
              " 2223,\n",
              " 5244,\n",
              " 16,\n",
              " 480,\n",
              " 66,\n",
              " 3785,\n",
              " 33,\n",
              " 4,\n",
              " 130,\n",
              " 12,\n",
              " 16,\n",
              " 38,\n",
              " 619,\n",
              " 5,\n",
              " 25,\n",
              " 124,\n",
              " 51,\n",
              " 36,\n",
              " 135,\n",
              " 48,\n",
              " 25,\n",
              " 1415,\n",
              " 33,\n",
              " 6,\n",
              " 22,\n",
              " 12,\n",
              " 215,\n",
              " 28,\n",
              " 77,\n",
              " 52,\n",
              " 5,\n",
              " 14,\n",
              " 407,\n",
              " 16,\n",
              " 82,\n",
              " 2,\n",
              " 8,\n",
              " 4,\n",
              " 107,\n",
              " 117,\n",
              " 5952,\n",
              " 15,\n",
              " 256,\n",
              " 4,\n",
              " 2,\n",
              " 7,\n",
              " 3766,\n",
              " 5,\n",
              " 723,\n",
              " 36,\n",
              " 71,\n",
              " 43,\n",
              " 530,\n",
              " 476,\n",
              " 26,\n",
              " 400,\n",
              " 317,\n",
              " 46,\n",
              " 7,\n",
              " 4,\n",
              " 2,\n",
              " 1029,\n",
              " 13,\n",
              " 104,\n",
              " 88,\n",
              " 4,\n",
              " 381,\n",
              " 15,\n",
              " 297,\n",
              " 98,\n",
              " 32,\n",
              " 2071,\n",
              " 56,\n",
              " 26,\n",
              " 141,\n",
              " 6,\n",
              " 194,\n",
              " 7486,\n",
              " 18,\n",
              " 4,\n",
              " 226,\n",
              " 22,\n",
              " 21,\n",
              " 134,\n",
              " 476,\n",
              " 26,\n",
              " 480,\n",
              " 5,\n",
              " 144,\n",
              " 30,\n",
              " 5535,\n",
              " 18,\n",
              " 51,\n",
              " 36,\n",
              " 28,\n",
              " 224,\n",
              " 92,\n",
              " 25,\n",
              " 104,\n",
              " 4,\n",
              " 226,\n",
              " 65,\n",
              " 16,\n",
              " 38,\n",
              " 1334,\n",
              " 88,\n",
              " 12,\n",
              " 16,\n",
              " 283,\n",
              " 5,\n",
              " 16,\n",
              " 4472,\n",
              " 113,\n",
              " 103,\n",
              " 32,\n",
              " 15,\n",
              " 16,\n",
              " 5345,\n",
              " 19,\n",
              " 178,\n",
              " 32]"
            ]
          },
          "metadata": {
            "tags": []
          },
          "execution_count": 3
        }
      ]
    },
    {
      "cell_type": "code",
      "metadata": {
        "id": "OPwl7KbQ5bQA",
        "colab_type": "code",
        "colab": {
          "base_uri": "https://localhost:8080/",
          "height": 35
        },
        "outputId": "982de64e-8214-449c-f747-6384a7b80902"
      },
      "source": [
        "train_labels[0]"
      ],
      "execution_count": 4,
      "outputs": [
        {
          "output_type": "execute_result",
          "data": {
            "text/plain": [
              "1"
            ]
          },
          "metadata": {
            "tags": []
          },
          "execution_count": 4
        }
      ]
    },
    {
      "cell_type": "markdown",
      "metadata": {
        "id": "fbkjnvZz5hb2",
        "colab_type": "text"
      },
      "source": [
        "\n",
        "\n",
        "Since we restricted ourselves to the top 10,000 most frequent words, no word index will exceed 10,000:\n"
      ]
    },
    {
      "cell_type": "code",
      "metadata": {
        "id": "1IJA-qep5khu",
        "colab_type": "code",
        "colab": {
          "base_uri": "https://localhost:8080/",
          "height": 35
        },
        "outputId": "e48784fd-7ab3-40a7-c5d7-51f93dc049b6"
      },
      "source": [
        "max([max(sequence) for sequence in train_data])"
      ],
      "execution_count": 5,
      "outputs": [
        {
          "output_type": "execute_result",
          "data": {
            "text/plain": [
              "9999"
            ]
          },
          "metadata": {
            "tags": []
          },
          "execution_count": 5
        }
      ]
    },
    {
      "cell_type": "markdown",
      "metadata": {
        "id": "gLwKIJob5nZf",
        "colab_type": "text"
      },
      "source": [
        "\n",
        "\n",
        "Here's how you can quickly decode one of these reviews back to English words:\n"
      ]
    },
    {
      "cell_type": "code",
      "metadata": {
        "id": "PS4iky4m5slf",
        "colab_type": "code",
        "colab": {
          "base_uri": "https://localhost:8080/",
          "height": 52
        },
        "outputId": "bd9dbe3d-1279-4dfe-8213-6a44669dcc60"
      },
      "source": [
        "\n",
        "\n",
        "# word_index is a dictionary mapping words to an integer index\n",
        "word_index = imdb.get_word_index()\n",
        "# We reverse it, mapping integer indices to words\n",
        "reverse_word_index = dict([(value, key) for (key, value) in word_index.items()])\n",
        "# We decode the review; note that our indices were offset by 3\n",
        "# because 0, 1 and 2 are reserved indices for \"padding\", \"start of sequence\", and \"unknown\".\n",
        "decoded_review = ' '.join([reverse_word_index.get(i - 3, '?') for i in train_data[0]])\n",
        "\n"
      ],
      "execution_count": 6,
      "outputs": [
        {
          "output_type": "stream",
          "text": [
            "Downloading data from https://s3.amazonaws.com/text-datasets/imdb_word_index.json\n",
            "1646592/1641221 [==============================] - 0s 0us/step\n"
          ],
          "name": "stdout"
        }
      ]
    },
    {
      "cell_type": "code",
      "metadata": {
        "id": "C4kTNBCk51Qs",
        "colab_type": "code",
        "colab": {
          "base_uri": "https://localhost:8080/",
          "height": 55
        },
        "outputId": "1f1e38c0-c34d-4096-c0b0-b33f7545a169"
      },
      "source": [
        "decoded_review"
      ],
      "execution_count": 7,
      "outputs": [
        {
          "output_type": "execute_result",
          "data": {
            "text/plain": [
              "\"? this film was just brilliant casting location scenery story direction everyone's really suited the part they played and you could just imagine being there robert ? is an amazing actor and now the same being director ? father came from the same scottish island as myself so i loved the fact there was a real connection with this film the witty remarks throughout the film were great it was just brilliant so much that i bought the film as soon as it was released for ? and would recommend it to everyone to watch and the fly fishing was amazing really cried at the end it was so sad and you know what they say if you cry at a film it must have been good and this definitely was also ? to the two little boy's that played the ? of norman and paul they were just brilliant children are often left out of the ? list i think because the stars that play them all grown up are such a big profile for the whole film but these children are amazing and should be praised for what they have done don't you think the whole story was so lovely because it was true and was someone's life after all that was shared with us all\""
            ]
          },
          "metadata": {
            "tags": []
          },
          "execution_count": 7
        }
      ]
    },
    {
      "cell_type": "markdown",
      "metadata": {
        "id": "SOWC9yWK6Dzk",
        "colab_type": "text"
      },
      "source": [
        "# Preparing the data\n",
        "\n",
        "We cannot feed lists of integers into a neural network. We have to turn our lists into tensors. We can one-hot-encode our lists to turn them into vectors of 0s and 1s. Concretely, this would mean for instance turning the sequence [3, 5] into a 10,000-dimensional vector that would be all-zeros except for indices 3 and 5, which would be ones. Then we could use as first layer in our network a Dense layer, capable of handling floating point vector data. The following function implements it: \n",
        "\n",
        "\n",
        "\n",
        "\n"
      ]
    },
    {
      "cell_type": "code",
      "metadata": {
        "id": "kR3FO5Qt4dOH",
        "colab_type": "code",
        "colab": {}
      },
      "source": [
        "import numpy as np\n",
        "\n",
        "def vectorize_sequences(sequences, dimension=10000):\n",
        "    # Create an all-zero matrix of shape (len(sequences), dimension)\n",
        "    results = np.zeros((len(sequences), dimension))\n",
        "    for i, sequence in enumerate(sequences):\n",
        "        results[i, sequence] = 1.  # set specific indices of results[i] to 1s\n",
        "    return results\n",
        "\n",
        "# Our vectorized training data\n",
        "x_train = vectorize_sequences(train_data)\n",
        "# Our vectorized test data\n",
        "x_test = vectorize_sequences(test_data)"
      ],
      "execution_count": 0,
      "outputs": []
    },
    {
      "cell_type": "markdown",
      "metadata": {
        "id": "szBNzY108T5m",
        "colab_type": "text"
      },
      "source": [
        "\n",
        "\n",
        "Here's what our samples look like now:\n"
      ]
    },
    {
      "cell_type": "code",
      "metadata": {
        "id": "G2t1ITWB50cM",
        "colab_type": "code",
        "colab": {
          "base_uri": "https://localhost:8080/",
          "height": 35
        },
        "outputId": "34d38822-0a82-46eb-ee2a-f5d3481bb40d"
      },
      "source": [
        "x_train[0]"
      ],
      "execution_count": 9,
      "outputs": [
        {
          "output_type": "execute_result",
          "data": {
            "text/plain": [
              "array([0., 1., 1., ..., 0., 0., 0.])"
            ]
          },
          "metadata": {
            "tags": []
          },
          "execution_count": 9
        }
      ]
    },
    {
      "cell_type": "markdown",
      "metadata": {
        "id": "bUDesWmS5gzE",
        "colab_type": "text"
      },
      "source": [
        "\n",
        "\n",
        "We should also vectorize our labels, which is straightforward:\n"
      ]
    },
    {
      "cell_type": "code",
      "metadata": {
        "id": "cwk0DWqb8gyx",
        "colab_type": "code",
        "colab": {}
      },
      "source": [
        "# Our vectorized labels\n",
        "y_train = np.asarray(train_labels).astype('float32')\n",
        "y_test = np.asarray(test_labels).astype('float32')"
      ],
      "execution_count": 0,
      "outputs": []
    },
    {
      "cell_type": "code",
      "metadata": {
        "id": "8GfQYCHB1G-D",
        "colab_type": "code",
        "colab": {
          "base_uri": "https://localhost:8080/",
          "height": 35
        },
        "outputId": "1b77e7b3-4f7e-4088-b5aa-6aca46d23cd0"
      },
      "source": [
        "y_train[0]"
      ],
      "execution_count": 11,
      "outputs": [
        {
          "output_type": "execute_result",
          "data": {
            "text/plain": [
              "1.0"
            ]
          },
          "metadata": {
            "tags": []
          },
          "execution_count": 11
        }
      ]
    },
    {
      "cell_type": "markdown",
      "metadata": {
        "id": "3H96ZGVH8knm",
        "colab_type": "text"
      },
      "source": [
        "\n",
        "\n",
        "Now our data is ready to be fed into a neural network.\n"
      ]
    },
    {
      "cell_type": "markdown",
      "metadata": {
        "id": "uMFCThqP-yeF",
        "colab_type": "text"
      },
      "source": [
        "# Building the network\n",
        "\n",
        "We will build a fully connected neural network with one hidden layer."
      ]
    },
    {
      "cell_type": "code",
      "metadata": {
        "id": "bfu24Cq7-8Rn",
        "colab_type": "code",
        "colab": {
          "base_uri": "https://localhost:8080/",
          "height": 89
        },
        "outputId": "aee0f6b9-f490-42f6-94a0-beda77632426"
      },
      "source": [
        "from keras import models\n",
        "from keras import layers\n",
        "\n",
        "model = models.Sequential()\n",
        "model.add(layers.Dense(16, activation='relu', input_shape=(10000,)))\n",
        "model.add(layers.Dense(16, activation='relu'))\n",
        "model.add(layers.Dense(1, activation='sigmoid'))"
      ],
      "execution_count": 12,
      "outputs": [
        {
          "output_type": "stream",
          "text": [
            "WARNING:tensorflow:From /usr/local/lib/python3.6/dist-packages/tensorflow/python/framework/op_def_library.py:263: colocate_with (from tensorflow.python.framework.ops) is deprecated and will be removed in a future version.\n",
            "Instructions for updating:\n",
            "Colocations handled automatically by placer.\n"
          ],
          "name": "stdout"
        }
      ]
    },
    {
      "cell_type": "code",
      "metadata": {
        "id": "ryJQ27Qu_MA2",
        "colab_type": "code",
        "colab": {}
      },
      "source": [
        "model.compile(optimizer='rmsprop',\n",
        "              loss='binary_crossentropy',\n",
        "              metrics=['accuracy'])"
      ],
      "execution_count": 0,
      "outputs": []
    },
    {
      "cell_type": "markdown",
      "metadata": {
        "id": "ZeCC3VOr_XzY",
        "colab_type": "text"
      },
      "source": [
        "# Validating our approach\n",
        "\n",
        "In order to monitor during training the accuracy of the model on data that it has never seen before, we will create a \"validation set\" by setting apart 10,000 samples from the original training data:"
      ]
    },
    {
      "cell_type": "code",
      "metadata": {
        "id": "7LreidFb_gX7",
        "colab_type": "code",
        "colab": {}
      },
      "source": [
        "x_val = x_train[:10000]\n",
        "partial_x_train = x_train[10000:]\n",
        "\n",
        "y_val = y_train[:10000]\n",
        "partial_y_train = y_train[10000:]"
      ],
      "execution_count": 0,
      "outputs": []
    },
    {
      "cell_type": "markdown",
      "metadata": {
        "id": "X5UNXG5s_3Zj",
        "colab_type": "text"
      },
      "source": [
        "We will now train our model for 20 epochs (20 iterations over all samples in the x_train and y_train tensors), in mini-batches of 512 samples. At this same time we will monitor loss and accuracy on the 10,000 samples that we set apart. This is done by passing the validation data as the validation_data argument:"
      ]
    },
    {
      "cell_type": "code",
      "metadata": {
        "id": "erZGeEim_3CT",
        "colab_type": "code",
        "colab": {
          "base_uri": "https://localhost:8080/",
          "height": 800
        },
        "outputId": "7de793bb-9e89-4cc5-e38b-5e04036d60cc"
      },
      "source": [
        "history = model.fit(partial_x_train,\n",
        "                    partial_y_train,\n",
        "                    epochs=20,\n",
        "                    batch_size=512,\n",
        "                    validation_data=(x_val, y_val))\n",
        "original_hist = history"
      ],
      "execution_count": 15,
      "outputs": [
        {
          "output_type": "stream",
          "text": [
            "WARNING:tensorflow:From /usr/local/lib/python3.6/dist-packages/tensorflow/python/ops/math_ops.py:3066: to_int32 (from tensorflow.python.ops.math_ops) is deprecated and will be removed in a future version.\n",
            "Instructions for updating:\n",
            "Use tf.cast instead.\n",
            "Train on 15000 samples, validate on 10000 samples\n",
            "Epoch 1/20\n",
            "15000/15000 [==============================] - 4s 283us/step - loss: 0.5084 - acc: 0.7813 - val_loss: 0.3797 - val_acc: 0.8684\n",
            "Epoch 2/20\n",
            "15000/15000 [==============================] - 1s 98us/step - loss: 0.3004 - acc: 0.9047 - val_loss: 0.3004 - val_acc: 0.8897\n",
            "Epoch 3/20\n",
            "15000/15000 [==============================] - 1s 95us/step - loss: 0.2179 - acc: 0.9285 - val_loss: 0.3085 - val_acc: 0.8711\n",
            "Epoch 4/20\n",
            "15000/15000 [==============================] - 1s 94us/step - loss: 0.1750 - acc: 0.9437 - val_loss: 0.2840 - val_acc: 0.8832\n",
            "Epoch 5/20\n",
            "15000/15000 [==============================] - 1s 94us/step - loss: 0.1427 - acc: 0.9543 - val_loss: 0.2841 - val_acc: 0.8872\n",
            "Epoch 6/20\n",
            "15000/15000 [==============================] - 1s 95us/step - loss: 0.1150 - acc: 0.9650 - val_loss: 0.3166 - val_acc: 0.8772\n",
            "Epoch 7/20\n",
            "15000/15000 [==============================] - 1s 94us/step - loss: 0.0980 - acc: 0.9705 - val_loss: 0.3127 - val_acc: 0.8846\n",
            "Epoch 8/20\n",
            "15000/15000 [==============================] - 1s 94us/step - loss: 0.0807 - acc: 0.9763 - val_loss: 0.3859 - val_acc: 0.8649\n",
            "Epoch 9/20\n",
            "15000/15000 [==============================] - 1s 94us/step - loss: 0.0661 - acc: 0.9821 - val_loss: 0.3635 - val_acc: 0.8782\n",
            "Epoch 10/20\n",
            "15000/15000 [==============================] - 1s 96us/step - loss: 0.0561 - acc: 0.9853 - val_loss: 0.3841 - val_acc: 0.8792\n",
            "Epoch 11/20\n",
            "15000/15000 [==============================] - 1s 94us/step - loss: 0.0439 - acc: 0.9893 - val_loss: 0.4153 - val_acc: 0.8779\n",
            "Epoch 12/20\n",
            "15000/15000 [==============================] - 1s 94us/step - loss: 0.0381 - acc: 0.9921 - val_loss: 0.4525 - val_acc: 0.8690\n",
            "Epoch 13/20\n",
            "15000/15000 [==============================] - 1s 94us/step - loss: 0.0300 - acc: 0.9928 - val_loss: 0.4698 - val_acc: 0.8729\n",
            "Epoch 14/20\n",
            "15000/15000 [==============================] - 1s 93us/step - loss: 0.0247 - acc: 0.9945 - val_loss: 0.5022 - val_acc: 0.8726\n",
            "Epoch 15/20\n",
            "15000/15000 [==============================] - 1s 93us/step - loss: 0.0175 - acc: 0.9979 - val_loss: 0.5340 - val_acc: 0.8693\n",
            "Epoch 16/20\n",
            "15000/15000 [==============================] - 1s 94us/step - loss: 0.0149 - acc: 0.9983 - val_loss: 0.5709 - val_acc: 0.8698\n",
            "Epoch 17/20\n",
            "15000/15000 [==============================] - 1s 95us/step - loss: 0.0151 - acc: 0.9971 - val_loss: 0.6024 - val_acc: 0.8697\n",
            "Epoch 18/20\n",
            "15000/15000 [==============================] - 1s 93us/step - loss: 0.0075 - acc: 0.9996 - val_loss: 0.6782 - val_acc: 0.8633\n",
            "Epoch 19/20\n",
            "15000/15000 [==============================] - 1s 91us/step - loss: 0.0117 - acc: 0.9975 - val_loss: 0.6693 - val_acc: 0.8674\n",
            "Epoch 20/20\n",
            "15000/15000 [==============================] - 1s 91us/step - loss: 0.0041 - acc: 0.9999 - val_loss: 0.6941 - val_acc: 0.8658\n"
          ],
          "name": "stdout"
        }
      ]
    },
    {
      "cell_type": "markdown",
      "metadata": {
        "id": "bTfUtSYgBOwl",
        "colab_type": "text"
      },
      "source": [
        "Note that the call to model.fit() returns a History object. This object has a member history, which is a dictionary containing data about everything that happened during training. Let's take a look at it:"
      ]
    },
    {
      "cell_type": "code",
      "metadata": {
        "id": "ci1RRtJABRUR",
        "colab_type": "code",
        "colab": {
          "base_uri": "https://localhost:8080/",
          "height": 35
        },
        "outputId": "a0465ba8-38f0-4070-d6db-823978312a07"
      },
      "source": [
        "history_dict = history.history\n",
        "history_dict.keys()"
      ],
      "execution_count": 16,
      "outputs": [
        {
          "output_type": "execute_result",
          "data": {
            "text/plain": [
              "dict_keys(['val_loss', 'val_acc', 'loss', 'acc'])"
            ]
          },
          "metadata": {
            "tags": []
          },
          "execution_count": 16
        }
      ]
    },
    {
      "cell_type": "markdown",
      "metadata": {
        "id": "vewyEwT8BWXE",
        "colab_type": "text"
      },
      "source": [
        "\n",
        "\n",
        "It contains 4 entries: one per metric that was being monitored, during training and during validation. Let's use Matplotlib to plot the training and validation loss side by side, as well as the training and validation accuracy:\n"
      ]
    },
    {
      "cell_type": "code",
      "metadata": {
        "id": "oicW9icQBZdN",
        "colab_type": "code",
        "colab": {
          "base_uri": "https://localhost:8080/",
          "height": 295
        },
        "outputId": "0ebf90e1-ec80-4d90-9666-a82280980ab0"
      },
      "source": [
        "import matplotlib.pyplot as plt\n",
        "\n",
        "acc = history.history['acc']\n",
        "val_acc = history.history['val_acc']\n",
        "loss = history.history['loss']\n",
        "val_loss = history.history['val_loss']\n",
        "\n",
        "epochs = range(1, len(acc) + 1)\n",
        "\n",
        "# \"bo\" is for \"blue dot\"\n",
        "plt.plot(epochs, loss, 'bo', label='Training loss')\n",
        "# b is for \"solid blue line\"\n",
        "plt.plot(epochs, val_loss, 'b', label='Validation loss')\n",
        "plt.title('Training and validation loss')\n",
        "plt.xlabel('Epochs')\n",
        "plt.ylabel('Loss')\n",
        "plt.legend()\n",
        "\n",
        "plt.show()"
      ],
      "execution_count": 17,
      "outputs": [
        {
          "output_type": "display_data",
          "data": {
            "image/png": "[encoded data removed]",
            "text/plain": [
              "<Figure size 432x288 with 1 Axes>"
            ]
          },
          "metadata": {
            "tags": []
          }
        }
      ]
    },
    {
      "cell_type": "code",
      "metadata": {
        "id": "vkHLlMtJBjIQ",
        "colab_type": "code",
        "colab": {
          "base_uri": "https://localhost:8080/",
          "height": 295
        },
        "outputId": "a61393d5-b682-4210-beb5-315fe1f8926c"
      },
      "source": [
        "plt.clf()   # clear figure\n",
        "acc_values = history_dict['acc']\n",
        "val_acc_values = history_dict['val_acc']\n",
        "\n",
        "plt.plot(epochs, acc, 'bo', label='Training acc')\n",
        "plt.plot(epochs, val_acc, 'b', label='Validation acc')\n",
        "plt.title('Training and validation accuracy')\n",
        "plt.xlabel('Epochs')\n",
        "plt.ylabel('Accuracy')\n",
        "plt.legend()\n",
        "\n",
        "plt.show()"
      ],
      "execution_count": 18,
      "outputs": [
        {
          "output_type": "display_data",
          "data": {
            "image/png": "[encoded data removed]",
            "text/plain": [
              "<Figure size 432x288 with 1 Axes>"
            ]
          },
          "metadata": {
            "tags": []
          }
        }
      ]
    },
    {
      "cell_type": "markdown",
      "metadata": {
        "id": "q8AW2076BoT3",
        "colab_type": "text"
      },
      "source": [
        "The dots are the training loss and accuracy, while the solid lines are the validation loss and accuracy. Note that your own results may vary slightly due to a different random initialization of your network.\n",
        "\n",
        "As you can see, the training loss decreases with every epoch and the training accuracy increases with every epoch. That's what you would expect when running gradient descent optimization -- the quantity you are trying to minimize should get lower with every iteration. But that isn't the case for the validation loss and accuracy: they seem to peak at the fourth epoch. This is an example of what we were warning against earlier: a model that performs better on the training data isn't necessarily a model that will do better on data it has never seen before. In precise terms, what you are seeing is \"overfitting\": after the second epoch, we are over-optimizing on the training data, and we ended up learning representations that are specific to the training data and do not generalize to data outside of the training set.\n",
        "\n",
        "In this case, to prevent overfitting, we could simply stop training after three epochs. In general, there is a range of techniques you can leverage to mitigate overfitting."
      ]
    },
    {
      "cell_type": "markdown",
      "metadata": {
        "id": "7EAUutOX4qtn",
        "colab_type": "text"
      },
      "source": [
        "# Overfitting and underfitting\n",
        "\n",
        "When training networks, we can notice that the performance of our model on the validation data would always peak after a few epochs and would then start \n",
        "degrading, i.e. our model would quickly start to _overfit_ to the training data. Overfitting happens in every single machine learning \n",
        "problem. Learning how to deal with overfitting is essential to mastering machine learning.\n",
        "\n",
        "The fundamental issue in machine learning is the tension between optimization and generalization. \"Optimization\" refers to the process of \n",
        "adjusting a model to get the best performance possible on the training data (the \"learning\" in \"machine learning\"), while \"generalization\" \n",
        "refers to how well the trained model would perform on data it has never seen before. The goal of the game is to get good generalization, of \n",
        "course, but you do not control generalization; you can only adjust the model based on its training data.\n",
        "\n",
        "At the beginning of training, optimization and generalization are correlated: the lower your loss on training data, the lower your loss on \n",
        "test data. While this is happening, your model is said to be _under-fit_: there is still progress to be made; the network hasn't yet \n",
        "modeled all relevant patterns in the training data. But after a certain number of iterations on the training data, generalization stops \n",
        "improving, validation metrics stall then start degrading: the model is then starting to over-fit, i.e. is it starting to learn patterns \n",
        "that are specific to the training data but that are misleading or irrelevant when it comes to new data.\n",
        "\n",
        "To prevent a model from learning misleading or irrelevant patterns found in the training data, _the best solution is of course to get \n",
        "more training data_. A model trained on more data will naturally generalize better. When that is no longer possible, the next best solution \n",
        "is to modulate the quantity of information that your model is allowed to store, or to add constraints on what information it is allowed to \n",
        "store. If a network can only afford to memorize a small number of patterns, the optimization process will force it to focus on the most \n",
        "prominent patterns, which have a better chance of generalizing well.\n",
        "\n",
        "The processing of fighting overfitting in this way is called _regularization_. Let's review some of the most common regularization \n",
        "techniques, and let's apply them in practice to improve our movie classification model.\n"
      ]
    },
    {
      "cell_type": "markdown",
      "metadata": {
        "id": "UMTfztD6zBXg",
        "colab_type": "text"
      },
      "source": [
        "# Fighting overfitting\n",
        "\n",
        "## Reducing the network's size\n",
        "\n",
        "\n",
        "The simplest way to prevent overfitting is to reduce the size of the model, i.e. the number of learnable parameters in the model (which is \n",
        "determined by the number of layers and the number of units per layer). In deep learning, the number of learnable parameters in a model is \n",
        "often referred to as the model's \"capacity\". Intuitively, a model with more parameters will have more \"memorization capacity\" and therefore \n",
        "will be able to easily learn a perfect dictionary-like mapping between training samples and their targets, a mapping without any \n",
        "generalization power. For instance, a model with 500,000 binary parameters could easily be made to learn the class of every digits in the \n",
        "MNIST training set: we would only need 10 binary parameters for each of the 50,000 digits. Such a model would be useless for classifying \n",
        "new digit samples. Always keep this in mind: deep learning models tend to be good at fitting to the training data, but the real challenge \n",
        "is generalization, not fitting.\n",
        "\n",
        "On the other hand, if the network has limited memorization resources, it will not be able to learn this mapping as easily, and thus, in \n",
        "order to minimize its loss, it will have to resort to learning compressed representations that have predictive power regarding the targets \n",
        "-- precisely the type of representations that we are interested in. At the same time, keep in mind that you should be using models that have \n",
        "enough parameters that they won't be underfitting: your model shouldn't be starved for memorization resources. There is a compromise to be \n",
        "found between \"too much capacity\" and \"not enough capacity\".\n",
        "\n",
        "Unfortunately, there is no magical formula to determine what the right number of layers is, or what the right size for each layer is. You \n",
        "will have to evaluate an array of different architectures (on your validation set, not on your test set, of course) in order to find the \n",
        "right model size for your data. The general workflow to find an appropriate model size is to start with relatively few layers and \n",
        "parameters, and start increasing the size of the layers or adding new layers until you see diminishing returns with regard to the \n",
        "validation loss.\n",
        "\n",
        "Let's try this on our movie review classification network. Our original network was as such:"
      ]
    },
    {
      "cell_type": "code",
      "metadata": {
        "id": "9eo2bIK4zBXi",
        "colab_type": "code",
        "colab": {}
      },
      "source": [
        "from keras import models\n",
        "from keras import layers\n",
        "\n",
        "original_model = models.Sequential()\n",
        "original_model.add(layers.Dense(16, activation='relu', input_shape=(10000,)))\n",
        "original_model.add(layers.Dense(16, activation='relu'))\n",
        "original_model.add(layers.Dense(1, activation='sigmoid'))\n",
        "\n",
        "original_model.compile(optimizer='rmsprop',\n",
        "                       loss='binary_crossentropy',\n",
        "                       metrics=['acc'])"
      ],
      "execution_count": 0,
      "outputs": []
    },
    {
      "cell_type": "markdown",
      "metadata": {
        "id": "56NqXlLSzBXr",
        "colab_type": "text"
      },
      "source": [
        "Now let's try to replace it with this smaller network:"
      ]
    },
    {
      "cell_type": "code",
      "metadata": {
        "id": "Nfbvla4XzBXs",
        "colab_type": "code",
        "colab": {}
      },
      "source": [
        "smaller_model = models.Sequential()\n",
        "smaller_model.add(layers.Dense(4, activation='relu', input_shape=(10000,)))\n",
        "smaller_model.add(layers.Dense(4, activation='relu'))\n",
        "smaller_model.add(layers.Dense(1, activation='sigmoid'))\n",
        "\n",
        "smaller_model.compile(optimizer='rmsprop',\n",
        "                      loss='binary_crossentropy',\n",
        "                      metrics=['acc'])"
      ],
      "execution_count": 0,
      "outputs": []
    },
    {
      "cell_type": "markdown",
      "metadata": {
        "id": "e5XfRtPEzBXy",
        "colab_type": "text"
      },
      "source": [
        "\n",
        "Here's a comparison of the validation losses of the original network and the smaller network. The dots are the validation loss values of \n",
        "the smaller network, and the crosses are the initial network (remember: a lower validation loss signals a better model)."
      ]
    },
    {
      "cell_type": "code",
      "metadata": {
        "id": "HLtfbF8izBX8",
        "colab_type": "code",
        "colab": {
          "base_uri": "https://localhost:8080/",
          "height": 728
        },
        "outputId": "69243001-5b04-4c3a-9279-2c398ad3e2ac"
      },
      "source": [
        "original_hist = history\n",
        "smaller_model_hist = smaller_model.fit(x_train, y_train,\n",
        "                                       epochs=20,\n",
        "                                       batch_size=512,\n",
        "                                       validation_data=(x_test, y_test))"
      ],
      "execution_count": 21,
      "outputs": [
        {
          "output_type": "stream",
          "text": [
            "Train on 25000 samples, validate on 25000 samples\n",
            "Epoch 1/20\n",
            "25000/25000 [==============================] - 3s 131us/step - loss: 0.6553 - acc: 0.6089 - val_loss: 0.6239 - val_acc: 0.6886\n",
            "Epoch 2/20\n",
            "25000/25000 [==============================] - 3s 117us/step - loss: 0.5878 - acc: 0.7418 - val_loss: 0.5737 - val_acc: 0.7433\n",
            "Epoch 3/20\n",
            "25000/25000 [==============================] - 3s 116us/step - loss: 0.5362 - acc: 0.8059 - val_loss: 0.5338 - val_acc: 0.8026\n",
            "Epoch 4/20\n",
            "25000/25000 [==============================] - 3s 116us/step - loss: 0.4951 - acc: 0.8432 - val_loss: 0.5028 - val_acc: 0.8302\n",
            "Epoch 5/20\n",
            "25000/25000 [==============================] - 3s 117us/step - loss: 0.4615 - acc: 0.8709 - val_loss: 0.4787 - val_acc: 0.8453\n",
            "Epoch 6/20\n",
            "25000/25000 [==============================] - 3s 117us/step - loss: 0.4328 - acc: 0.8891 - val_loss: 0.4580 - val_acc: 0.8662\n",
            "Epoch 7/20\n",
            "25000/25000 [==============================] - 3s 117us/step - loss: 0.4076 - acc: 0.9045 - val_loss: 0.4423 - val_acc: 0.8732\n",
            "Epoch 8/20\n",
            "25000/25000 [==============================] - 3s 116us/step - loss: 0.3848 - acc: 0.9172 - val_loss: 0.4305 - val_acc: 0.8749\n",
            "Epoch 9/20\n",
            "25000/25000 [==============================] - 3s 118us/step - loss: 0.3643 - acc: 0.9274 - val_loss: 0.4215 - val_acc: 0.8777\n",
            "Epoch 10/20\n",
            "25000/25000 [==============================] - 3s 116us/step - loss: 0.3455 - acc: 0.9356 - val_loss: 0.4152 - val_acc: 0.8770\n",
            "Epoch 11/20\n",
            "25000/25000 [==============================] - 3s 116us/step - loss: 0.3283 - acc: 0.9425 - val_loss: 0.4080 - val_acc: 0.8800\n",
            "Epoch 12/20\n",
            "25000/25000 [==============================] - 3s 116us/step - loss: 0.3121 - acc: 0.9482 - val_loss: 0.4051 - val_acc: 0.8802\n",
            "Epoch 13/20\n",
            "25000/25000 [==============================] - 3s 117us/step - loss: 0.2969 - acc: 0.9538 - val_loss: 0.4025 - val_acc: 0.8802\n",
            "Epoch 14/20\n",
            "25000/25000 [==============================] - 3s 117us/step - loss: 0.2826 - acc: 0.9580 - val_loss: 0.4074 - val_acc: 0.8766\n",
            "Epoch 15/20\n",
            "25000/25000 [==============================] - 3s 116us/step - loss: 0.2692 - acc: 0.9618 - val_loss: 0.3996 - val_acc: 0.8790\n",
            "Epoch 16/20\n",
            "25000/25000 [==============================] - 3s 115us/step - loss: 0.2564 - acc: 0.9659 - val_loss: 0.4052 - val_acc: 0.8773\n",
            "Epoch 17/20\n",
            "25000/25000 [==============================] - 3s 114us/step - loss: 0.2446 - acc: 0.9684 - val_loss: 0.4023 - val_acc: 0.8778\n",
            "Epoch 18/20\n",
            "25000/25000 [==============================] - 3s 113us/step - loss: 0.2331 - acc: 0.9713 - val_loss: 0.4155 - val_acc: 0.8743\n",
            "Epoch 19/20\n",
            "25000/25000 [==============================] - 3s 113us/step - loss: 0.2222 - acc: 0.9740 - val_loss: 0.4203 - val_acc: 0.8738\n",
            "Epoch 20/20\n",
            "25000/25000 [==============================] - 3s 116us/step - loss: 0.2117 - acc: 0.9764 - val_loss: 0.4254 - val_acc: 0.8724\n"
          ],
          "name": "stdout"
        }
      ]
    },
    {
      "cell_type": "code",
      "metadata": {
        "id": "LLePF3_9zBYD",
        "colab_type": "code",
        "colab": {}
      },
      "source": [
        "epochs = range(1, 21)\n",
        "original_val_loss = original_hist.history['val_loss']\n",
        "original_train_loss = original_hist.history['loss']\n",
        "smaller_model_val_loss = smaller_model_hist.history['val_loss']\n",
        "smaller_model_train_loss = smaller_model_hist.history['loss']\n",
        "\n",
        "\n"
      ],
      "execution_count": 0,
      "outputs": []
    },
    {
      "cell_type": "code",
      "metadata": {
        "id": "1md8kRNuzBYL",
        "colab_type": "code",
        "colab": {
          "base_uri": "https://localhost:8080/",
          "height": 283
        },
        "outputId": "f64844e2-387a-4a3c-a4c4-b1adb21e0bb0"
      },
      "source": [
        "import matplotlib.pyplot as plt\n",
        "\n",
        "# b is for \"blue line\"\n",
        "plt.plot(epochs, original_val_loss, 'b', label='Original model')\n",
        "# \"bo\" is for \"blue dot\"\n",
        "plt.plot(epochs, smaller_model_val_loss, 'bo', label='Smaller model')\n",
        "plt.xlabel('Epochs')\n",
        "plt.ylabel('Validation loss')\n",
        "plt.legend()\n",
        "\n",
        "plt.show()"
      ],
      "execution_count": 23,
      "outputs": [
        {
          "output_type": "display_data",
          "data": {
            "image/png": "[encoded data removed]",
            "text/plain": [
              "<Figure size 432x288 with 1 Axes>"
            ]
          },
          "metadata": {
            "tags": []
          }
        }
      ]
    },
    {
      "cell_type": "markdown",
      "metadata": {
        "id": "oMs31azHzBYT",
        "colab_type": "text"
      },
      "source": [
        "\n",
        "As you can see, the smaller network starts overfitting later than the reference one (after 6 epochs rather than 4) and its performance \n",
        "degrades much more slowly once it starts overfitting.\n",
        "\n",
        "Now, for kicks, let's add to this benchmark a network that has much more capacity, far more than the problem would warrant:\n"
      ]
    },
    {
      "cell_type": "code",
      "metadata": {
        "id": "qs0UrVnCzBYV",
        "colab_type": "code",
        "colab": {}
      },
      "source": [
        "bigger_model = models.Sequential()\n",
        "bigger_model.add(layers.Dense(512, activation='relu', input_shape=(10000,)))\n",
        "bigger_model.add(layers.Dense(512, activation='relu'))\n",
        "bigger_model.add(layers.Dense(1, activation='sigmoid'))\n",
        "\n",
        "bigger_model.compile(optimizer='rmsprop',\n",
        "                     loss='binary_crossentropy',\n",
        "                     metrics=['acc'])"
      ],
      "execution_count": 0,
      "outputs": []
    },
    {
      "cell_type": "code",
      "metadata": {
        "id": "0I7hkehEzBYd",
        "colab_type": "code",
        "colab": {
          "base_uri": "https://localhost:8080/",
          "height": 728
        },
        "outputId": "11860010-3823-4291-d153-7dc5c2023d89"
      },
      "source": [
        "bigger_model_hist = bigger_model.fit(x_train, y_train,\n",
        "                                     epochs=20,\n",
        "                                     batch_size=512,\n",
        "                                     validation_data=(x_test, y_test))"
      ],
      "execution_count": 25,
      "outputs": [
        {
          "output_type": "stream",
          "text": [
            "Train on 25000 samples, validate on 25000 samples\n",
            "Epoch 1/20\n",
            "25000/25000 [==============================] - 4s 166us/step - loss: 0.4737 - acc: 0.7908 - val_loss: 0.2813 - val_acc: 0.8874\n",
            "Epoch 2/20\n",
            "25000/25000 [==============================] - 4s 145us/step - loss: 0.2193 - acc: 0.9139 - val_loss: 0.3075 - val_acc: 0.8740\n",
            "Epoch 3/20\n",
            "25000/25000 [==============================] - 4s 145us/step - loss: 0.1321 - acc: 0.9508 - val_loss: 0.3674 - val_acc: 0.8598\n",
            "Epoch 4/20\n",
            "25000/25000 [==============================] - 4s 147us/step - loss: 0.0753 - acc: 0.9760 - val_loss: 0.3389 - val_acc: 0.8686\n",
            "Epoch 5/20\n",
            "25000/25000 [==============================] - 4s 145us/step - loss: 0.0117 - acc: 0.9979 - val_loss: 1.7929 - val_acc: 0.7242\n",
            "Epoch 6/20\n",
            "25000/25000 [==============================] - 4s 144us/step - loss: 0.0469 - acc: 0.9907 - val_loss: 0.6389 - val_acc: 0.8787\n",
            "Epoch 7/20\n",
            "25000/25000 [==============================] - 4s 145us/step - loss: 0.0856 - acc: 0.9892 - val_loss: 0.6729 - val_acc: 0.8735\n",
            "Epoch 8/20\n",
            "25000/25000 [==============================] - 4s 146us/step - loss: 9.9346e-04 - acc: 0.9999 - val_loss: 0.7188 - val_acc: 0.8746\n",
            "Epoch 9/20\n",
            "25000/25000 [==============================] - 4s 145us/step - loss: 0.0740 - acc: 0.9902 - val_loss: 0.6383 - val_acc: 0.8782\n",
            "Epoch 10/20\n",
            "25000/25000 [==============================] - 4s 145us/step - loss: 0.0554 - acc: 0.9912 - val_loss: 0.7068 - val_acc: 0.8587\n",
            "Epoch 11/20\n",
            "25000/25000 [==============================] - 4s 146us/step - loss: 0.0025 - acc: 0.9997 - val_loss: 2.7525 - val_acc: 0.6740\n",
            "Epoch 12/20\n",
            "25000/25000 [==============================] - 4s 145us/step - loss: 0.0513 - acc: 0.9906 - val_loss: 0.7405 - val_acc: 0.8782\n",
            "Epoch 13/20\n",
            "25000/25000 [==============================] - 4s 145us/step - loss: 9.1328e-05 - acc: 1.0000 - val_loss: 0.8455 - val_acc: 0.8770\n",
            "Epoch 14/20\n",
            "25000/25000 [==============================] - 4s 145us/step - loss: 0.0663 - acc: 0.9928 - val_loss: 0.9206 - val_acc: 0.8652\n",
            "Epoch 15/20\n",
            "25000/25000 [==============================] - 4s 144us/step - loss: 0.0028 - acc: 0.9994 - val_loss: 0.7998 - val_acc: 0.8767\n",
            "Epoch 16/20\n",
            "25000/25000 [==============================] - 4s 146us/step - loss: 2.2024e-05 - acc: 1.0000 - val_loss: 0.8776 - val_acc: 0.8775\n",
            "Epoch 17/20\n",
            "25000/25000 [==============================] - 4s 147us/step - loss: 4.3976e-06 - acc: 1.0000 - val_loss: 0.9549 - val_acc: 0.8786\n",
            "Epoch 18/20\n",
            "25000/25000 [==============================] - 4s 145us/step - loss: 8.4980e-07 - acc: 1.0000 - val_loss: 1.0181 - val_acc: 0.8770\n",
            "Epoch 19/20\n",
            "25000/25000 [==============================] - 4s 147us/step - loss: 2.3300e-07 - acc: 1.0000 - val_loss: 1.0775 - val_acc: 0.8775\n",
            "Epoch 20/20\n",
            "25000/25000 [==============================] - 4s 147us/step - loss: 1.3584e-07 - acc: 1.0000 - val_loss: 1.1076 - val_acc: 0.8773\n"
          ],
          "name": "stdout"
        }
      ]
    },
    {
      "cell_type": "markdown",
      "metadata": {
        "id": "tzqSKIRkTiSh",
        "colab_type": "text"
      },
      "source": [
        "You can plot your curves:"
      ]
    },
    {
      "cell_type": "code",
      "metadata": {
        "id": "XSCC7r7pTk87",
        "colab_type": "code",
        "colab": {}
      },
      "source": [
        "bigger_model_val_loss = bigger_model_hist.history['val_loss']\n",
        "bigger_model_train_loss = bigger_model_hist.history['loss']"
      ],
      "execution_count": 0,
      "outputs": []
    },
    {
      "cell_type": "markdown",
      "metadata": {
        "id": "6IFeMFdjHi4S",
        "colab_type": "text"
      },
      "source": [
        "Here's how the bigger network fares compared to the reference one. The dots are the validation loss values of the bigger network, and the crosses are the initial network."
      ]
    },
    {
      "cell_type": "code",
      "metadata": {
        "id": "H4TlHGwFzBYm",
        "colab_type": "code",
        "colab": {
          "base_uri": "https://localhost:8080/",
          "height": 283
        },
        "outputId": "67a3c5e5-b251-4682-ebf1-a23261fed3fe"
      },
      "source": [
        "\n",
        "plt.plot(epochs, original_val_loss, 'b', label='Original model')\n",
        "plt.plot(epochs, bigger_model_val_loss, 'bo', label='Bigger model')\n",
        "plt.xlabel('Epochs')\n",
        "plt.ylabel('Validation loss')\n",
        "plt.legend()\n",
        "\n",
        "plt.show()"
      ],
      "execution_count": 27,
      "outputs": [
        {
          "output_type": "display_data",
          "data": {
            "image/png": "[encoded data removed]",
            "text/plain": [
              "<Figure size 432x288 with 1 Axes>"
            ]
          },
          "metadata": {
            "tags": []
          }
        }
      ]
    },
    {
      "cell_type": "markdown",
      "metadata": {
        "id": "gg5YNd6tzBYw",
        "colab_type": "text"
      },
      "source": [
        "The bigger network starts overfitting almost right away, after just one epoch, and overfits much more severely. Its validation loss is also more noisy.\n",
        "\n",
        "Meanwhile, here are the training losses for our two networks:\n"
      ]
    },
    {
      "cell_type": "code",
      "metadata": {
        "id": "4VACjKvezBYy",
        "colab_type": "code",
        "colab": {
          "base_uri": "https://localhost:8080/",
          "height": 283
        },
        "outputId": "644f3090-f9cf-4d6d-ea68-b0c2c68d2f71"
      },
      "source": [
        "plt.plot(epochs, original_train_loss, 'b', label='Original model')\n",
        "plt.plot(epochs, bigger_model_train_loss, 'bo', label='Bigger model')\n",
        "plt.xlabel('Epochs')\n",
        "plt.ylabel('Training loss')\n",
        "plt.legend()\n",
        "\n",
        "plt.show()"
      ],
      "execution_count": 28,
      "outputs": [
        {
          "output_type": "display_data",
          "data": {
            "image/png": "[encoded data removed]",
            "text/plain": [
              "<Figure size 432x288 with 1 Axes>"
            ]
          },
          "metadata": {
            "tags": []
          }
        }
      ]
    },
    {
      "cell_type": "markdown",
      "metadata": {
        "id": "sbbUtRphzBY3",
        "colab_type": "text"
      },
      "source": [
        "## Adding weight regularization\n",
        "\n",
        "\n",
        "You may be familiar with _Occam's Razor_ principle: given two explanations for something, the explanation most likely to be correct is the \n",
        "\"simplest\" one, the one that makes the least amount of assumptions. This also applies to the models learned by neural networks: given some \n",
        "training data and a network architecture, there are multiple sets of weights values (multiple _models_) that could explain the data, and \n",
        "simpler models are less likely to overfit than complex ones.\n",
        "\n",
        "A \"simple model\" in this context is a model where the distribution of parameter values has less entropy (or a model with fewer \n",
        "parameters altogether, as we saw in the section above). Thus a common way to mitigate overfitting is to put constraints on the complexity \n",
        "of a network by forcing its weights to only take small values, which makes the distribution of weight values more \"regular\". This is called \n",
        "\"weight regularization\", and it is done by adding to the loss function of the network a _cost_ associated with having large weights. This \n",
        "cost comes in two flavors:\n",
        "\n",
        "* L1 regularization, where the cost added is proportional to the _absolute value of the weights coefficients_ (i.e. to what is called the \n",
        "\"L1 norm\" of the weights).\n",
        "* L2 regularization, where the cost added is proportional to the _square of the value of the weights coefficients_ (i.e. to what is called \n",
        "the \"L2 norm\" of the weights). L2 regularization is also called _weight decay_ in the context of neural networks. Don't let the different \n",
        "name confuse you: weight decay is mathematically the exact same as L2 regularization.\n",
        "\n",
        "In Keras, weight regularization is added by passing _weight regularizer instances_ to layers as keyword arguments. Let's add L2 weight \n",
        "regularization to our movie review classification network:"
      ]
    },
    {
      "cell_type": "code",
      "metadata": {
        "id": "PZnOigg1zBY4",
        "colab_type": "code",
        "colab": {}
      },
      "source": [
        "from keras import regularizers\n",
        "\n",
        "l2_model = models.Sequential()\n",
        "l2_model.add(layers.Dense(16, kernel_regularizer=regularizers.l2(0.001),\n",
        "                          activation='relu', input_shape=(10000,)))\n",
        "l2_model.add(layers.Dense(16, kernel_regularizer=regularizers.l2(0.001),\n",
        "                          activation='relu'))\n",
        "l2_model.add(layers.Dense(1, activation='sigmoid'))"
      ],
      "execution_count": 0,
      "outputs": []
    },
    {
      "cell_type": "code",
      "metadata": {
        "id": "6S7cFF54zBY7",
        "colab_type": "code",
        "colab": {}
      },
      "source": [
        "l2_model.compile(optimizer='rmsprop',\n",
        "                 loss='binary_crossentropy',\n",
        "                 metrics=['acc'])"
      ],
      "execution_count": 0,
      "outputs": []
    },
    {
      "cell_type": "markdown",
      "metadata": {
        "id": "ZxTysrg-zBZC",
        "colab_type": "text"
      },
      "source": [
        "`l2(0.001)` means that every coefficient in the weight matrix of the layer will add `0.001 * weight_coefficient_value` to the total loss of \n",
        "the network. Note that because this penalty is _only added at training time_, the loss for this network will be much higher at training \n",
        "than at test time.\n",
        "\n",
        "Here's the impact of our L2 regularization penalty:"
      ]
    },
    {
      "cell_type": "code",
      "metadata": {
        "id": "K4mpHavOzBZN",
        "colab_type": "code",
        "colab": {
          "base_uri": "https://localhost:8080/",
          "height": 728
        },
        "outputId": "a29797fe-39a5-4031-d629-0a04bf9fbd49"
      },
      "source": [
        "l2_model_hist = l2_model.fit(x_train, y_train,\n",
        "                             epochs=20,\n",
        "                             batch_size=512,\n",
        "                             validation_data=(x_test, y_test))"
      ],
      "execution_count": 31,
      "outputs": [
        {
          "output_type": "stream",
          "text": [
            "Train on 25000 samples, validate on 25000 samples\n",
            "Epoch 1/20\n",
            "25000/25000 [==============================] - 3s 133us/step - loss: 0.4991 - acc: 0.8138 - val_loss: 0.3828 - val_acc: 0.8800\n",
            "Epoch 2/20\n",
            "25000/25000 [==============================] - 3s 117us/step - loss: 0.3201 - acc: 0.9034 - val_loss: 0.3347 - val_acc: 0.8898\n",
            "Epoch 3/20\n",
            "25000/25000 [==============================] - 3s 117us/step - loss: 0.2751 - acc: 0.9180 - val_loss: 0.3297 - val_acc: 0.8891\n",
            "Epoch 4/20\n",
            "25000/25000 [==============================] - 3s 118us/step - loss: 0.2524 - acc: 0.9283 - val_loss: 0.3346 - val_acc: 0.8870\n",
            "Epoch 5/20\n",
            "25000/25000 [==============================] - 3s 119us/step - loss: 0.2451 - acc: 0.9302 - val_loss: 0.3421 - val_acc: 0.8846\n",
            "Epoch 6/20\n",
            "25000/25000 [==============================] - 3s 117us/step - loss: 0.2332 - acc: 0.9352 - val_loss: 0.3495 - val_acc: 0.8825\n",
            "Epoch 7/20\n",
            "25000/25000 [==============================] - 3s 116us/step - loss: 0.2294 - acc: 0.9375 - val_loss: 0.3848 - val_acc: 0.8696\n",
            "Epoch 8/20\n",
            "25000/25000 [==============================] - 3s 117us/step - loss: 0.2188 - acc: 0.9418 - val_loss: 0.3881 - val_acc: 0.8696\n",
            "Epoch 9/20\n",
            "25000/25000 [==============================] - 3s 115us/step - loss: 0.2195 - acc: 0.9398 - val_loss: 0.3680 - val_acc: 0.8790\n",
            "Epoch 10/20\n",
            "25000/25000 [==============================] - 3s 115us/step - loss: 0.2144 - acc: 0.9432 - val_loss: 0.3730 - val_acc: 0.8770\n",
            "Epoch 11/20\n",
            "25000/25000 [==============================] - 3s 116us/step - loss: 0.2100 - acc: 0.9437 - val_loss: 0.3815 - val_acc: 0.8754\n",
            "Epoch 12/20\n",
            "25000/25000 [==============================] - 3s 116us/step - loss: 0.2069 - acc: 0.9459 - val_loss: 0.3907 - val_acc: 0.8728\n",
            "Epoch 13/20\n",
            "25000/25000 [==============================] - 3s 116us/step - loss: 0.2054 - acc: 0.9450 - val_loss: 0.4025 - val_acc: 0.8694\n",
            "Epoch 14/20\n",
            "25000/25000 [==============================] - 3s 117us/step - loss: 0.2022 - acc: 0.9464 - val_loss: 0.3915 - val_acc: 0.8741\n",
            "Epoch 15/20\n",
            "25000/25000 [==============================] - 3s 118us/step - loss: 0.1978 - acc: 0.9504 - val_loss: 0.4014 - val_acc: 0.8706\n",
            "Epoch 16/20\n",
            "25000/25000 [==============================] - 3s 116us/step - loss: 0.1959 - acc: 0.9496 - val_loss: 0.4220 - val_acc: 0.8657\n",
            "Epoch 17/20\n",
            "25000/25000 [==============================] - 3s 117us/step - loss: 0.1917 - acc: 0.9506 - val_loss: 0.4347 - val_acc: 0.8638\n",
            "Epoch 18/20\n",
            "25000/25000 [==============================] - 3s 115us/step - loss: 0.1908 - acc: 0.9514 - val_loss: 0.4249 - val_acc: 0.8658\n",
            "Epoch 19/20\n",
            "25000/25000 [==============================] - 3s 117us/step - loss: 0.1895 - acc: 0.9528 - val_loss: 0.4208 - val_acc: 0.8691\n",
            "Epoch 20/20\n",
            "25000/25000 [==============================] - 3s 116us/step - loss: 0.1878 - acc: 0.9515 - val_loss: 0.4219 - val_acc: 0.8693\n"
          ],
          "name": "stdout"
        }
      ]
    },
    {
      "cell_type": "code",
      "metadata": {
        "id": "ToySB7KLzBZU",
        "colab_type": "code",
        "colab": {
          "base_uri": "https://localhost:8080/",
          "height": 283
        },
        "outputId": "b38030fc-0465-44a3-94ea-4792d26344cf"
      },
      "source": [
        "l2_model_val_loss = l2_model_hist.history['val_loss']\n",
        "\n",
        "plt.plot(epochs, original_val_loss, 'b', label='Original model')\n",
        "plt.plot(epochs, l2_model_val_loss, 'bo', label='L2-regularized model')\n",
        "plt.xlabel('Epochs')\n",
        "plt.ylabel('Validation loss')\n",
        "plt.legend()\n",
        "\n",
        "plt.show()"
      ],
      "execution_count": 32,
      "outputs": [
        {
          "output_type": "display_data",
          "data": {
            "image/png": "[encoded data removed]",
            "text/plain": [
              "<Figure size 432x288 with 1 Axes>"
            ]
          },
          "metadata": {
            "tags": []
          }
        }
      ]
    },
    {
      "cell_type": "markdown",
      "metadata": {
        "id": "UqvqvhWazBZf",
        "colab_type": "text"
      },
      "source": [
        "\n",
        "\n",
        "As you can see, the model with L2 regularization (dots) has become much more resistant to overfitting than the reference model (crosses), \n",
        "even though both models have the same number of parameters."
      ]
    },
    {
      "cell_type": "markdown",
      "metadata": {
        "id": "axTTPeUPzBZi",
        "colab_type": "text"
      },
      "source": [
        "## Adding dropout\n",
        "\n",
        "\n",
        "Dropout is one of the most effective and most commonly used regularization techniques for neural networks, developed by Hinton and his \n",
        "students at the University of Toronto. Dropout, applied to a layer, consists of randomly \"dropping out\" (i.e. setting to zero) a number of \n",
        "output features of the layer during training. Let's say a given layer would normally have returned a vector `[0.2, 0.5, 1.3, 0.8, 1.1]` for a \n",
        "given input sample during training; after applying dropout, this vector will have a few zero entries distributed at random, e.g. `[0, 0.5, \n",
        "1.3, 0, 1.1]`. The \"dropout rate\" is the fraction of the features that are being zeroed-out; it is usually set between 0.2 and 0.5. At test \n",
        "time, no units are dropped out, and instead the layer's output values are scaled down by a factor equal to the dropout rate, so as to \n",
        "balance for the fact that more units are active than at training time.\n",
        "\n",
        "This technique may seem strange and arbitrary. Why would this help reduce overfitting? Geoff Hinton has said that he was inspired, among \n",
        "other things, by a fraud prevention mechanism used by banks -- in his own words: _\"I went to my bank. The tellers kept changing and I asked \n",
        "one of them why. He said he didn’t know but they got moved around a lot. I figured it must be because it would require cooperation \n",
        "between employees to successfully defraud the bank. This made me realize that randomly removing a different subset of neurons on each \n",
        "example would prevent conspiracies and thus reduce overfitting\"_.\n",
        "\n",
        "The core idea is that introducing noise in the output values of a layer can break up happenstance patterns that are not significant (what \n",
        "Hinton refers to as \"conspiracies\"), which the network would start memorizing if no noise was present. \n",
        "\n",
        "In Keras you can introduce dropout in a network via the `Dropout` layer, which gets applied to the output of layer right before it, e.g.:\n",
        "\n",
        "`model.add(layers.Dropout(0.5))`"
      ]
    },
    {
      "cell_type": "markdown",
      "metadata": {
        "id": "Z9t_usg2zBZj",
        "colab_type": "text"
      },
      "source": [
        "Let's add two `Dropout` layers in our IMDB network to see how well they do at reducing overfitting:"
      ]
    },
    {
      "cell_type": "code",
      "metadata": {
        "id": "gRRxULEPzBZm",
        "colab_type": "code",
        "colab": {
          "base_uri": "https://localhost:8080/",
          "height": 89
        },
        "outputId": "bb32b6f8-7895-4b94-d581-93ab2bdedb7e"
      },
      "source": [
        "dpt_model = models.Sequential()\n",
        "dpt_model.add(layers.Dense(16, activation='relu', input_shape=(10000,)))\n",
        "dpt_model.add(layers.Dropout(0.5))\n",
        "dpt_model.add(layers.Dense(16, activation='relu'))\n",
        "dpt_model.add(layers.Dropout(0.5))\n",
        "dpt_model.add(layers.Dense(1, activation='sigmoid'))\n",
        "\n",
        "dpt_model.compile(optimizer='rmsprop',\n",
        "                  loss='binary_crossentropy',\n",
        "                  metrics=['acc'])"
      ],
      "execution_count": 33,
      "outputs": [
        {
          "output_type": "stream",
          "text": [
            "WARNING:tensorflow:From /usr/local/lib/python3.6/dist-packages/keras/backend/tensorflow_backend.py:3445: calling dropout (from tensorflow.python.ops.nn_ops) with keep_prob is deprecated and will be removed in a future version.\n",
            "Instructions for updating:\n",
            "Please use `rate` instead of `keep_prob`. Rate should be set to `rate = 1 - keep_prob`.\n"
          ],
          "name": "stdout"
        }
      ]
    },
    {
      "cell_type": "code",
      "metadata": {
        "id": "CzMc72R6zBZq",
        "colab_type": "code",
        "colab": {
          "base_uri": "https://localhost:8080/",
          "height": 728
        },
        "outputId": "95490b34-2ebc-43fe-d81d-4b408920133c"
      },
      "source": [
        "dpt_model_hist = dpt_model.fit(x_train, y_train,\n",
        "                               epochs=20,\n",
        "                               batch_size=512,\n",
        "                               validation_data=(x_test, y_test))"
      ],
      "execution_count": 34,
      "outputs": [
        {
          "output_type": "stream",
          "text": [
            "Train on 25000 samples, validate on 25000 samples\n",
            "Epoch 1/20\n",
            "25000/25000 [==============================] - 3s 134us/step - loss: 0.5970 - acc: 0.6739 - val_loss: 0.4539 - val_acc: 0.8669\n",
            "Epoch 2/20\n",
            "25000/25000 [==============================] - 3s 115us/step - loss: 0.4662 - acc: 0.7924 - val_loss: 0.3595 - val_acc: 0.8830\n",
            "Epoch 3/20\n",
            "25000/25000 [==============================] - 3s 115us/step - loss: 0.3891 - acc: 0.8499 - val_loss: 0.3076 - val_acc: 0.8866\n",
            "Epoch 4/20\n",
            "25000/25000 [==============================] - 3s 115us/step - loss: 0.3327 - acc: 0.8777 - val_loss: 0.2871 - val_acc: 0.8878\n",
            "Epoch 5/20\n",
            "25000/25000 [==============================] - 3s 116us/step - loss: 0.2928 - acc: 0.8990 - val_loss: 0.2841 - val_acc: 0.8856\n",
            "Epoch 6/20\n",
            "25000/25000 [==============================] - 3s 116us/step - loss: 0.2624 - acc: 0.9094 - val_loss: 0.2858 - val_acc: 0.8856\n",
            "Epoch 7/20\n",
            "25000/25000 [==============================] - 3s 114us/step - loss: 0.2348 - acc: 0.9213 - val_loss: 0.2906 - val_acc: 0.8865\n",
            "Epoch 8/20\n",
            "25000/25000 [==============================] - 3s 116us/step - loss: 0.2169 - acc: 0.9277 - val_loss: 0.3115 - val_acc: 0.8854\n",
            "Epoch 9/20\n",
            "25000/25000 [==============================] - 3s 114us/step - loss: 0.2007 - acc: 0.9336 - val_loss: 0.3223 - val_acc: 0.8847\n",
            "Epoch 10/20\n",
            "25000/25000 [==============================] - 3s 114us/step - loss: 0.1909 - acc: 0.9341 - val_loss: 0.3408 - val_acc: 0.8827\n",
            "Epoch 11/20\n",
            "25000/25000 [==============================] - 3s 114us/step - loss: 0.1705 - acc: 0.9421 - val_loss: 0.3659 - val_acc: 0.8815\n",
            "Epoch 12/20\n",
            "25000/25000 [==============================] - 3s 114us/step - loss: 0.1688 - acc: 0.9416 - val_loss: 0.3770 - val_acc: 0.8799\n",
            "Epoch 13/20\n",
            "25000/25000 [==============================] - 3s 114us/step - loss: 0.1592 - acc: 0.9456 - val_loss: 0.3979 - val_acc: 0.8784\n",
            "Epoch 14/20\n",
            "25000/25000 [==============================] - 3s 112us/step - loss: 0.1495 - acc: 0.9504 - val_loss: 0.4134 - val_acc: 0.8744\n",
            "Epoch 15/20\n",
            "25000/25000 [==============================] - 3s 112us/step - loss: 0.1459 - acc: 0.9516 - val_loss: 0.4473 - val_acc: 0.8784\n",
            "Epoch 16/20\n",
            "25000/25000 [==============================] - 3s 112us/step - loss: 0.1404 - acc: 0.9514 - val_loss: 0.4827 - val_acc: 0.8712\n",
            "Epoch 17/20\n",
            "25000/25000 [==============================] - 3s 113us/step - loss: 0.1365 - acc: 0.9542 - val_loss: 0.4815 - val_acc: 0.8761\n",
            "Epoch 18/20\n",
            "25000/25000 [==============================] - 3s 114us/step - loss: 0.1312 - acc: 0.9558 - val_loss: 0.4925 - val_acc: 0.8722\n",
            "Epoch 19/20\n",
            "25000/25000 [==============================] - 3s 114us/step - loss: 0.1298 - acc: 0.9549 - val_loss: 0.5079 - val_acc: 0.8713\n",
            "Epoch 20/20\n",
            "25000/25000 [==============================] - 3s 114us/step - loss: 0.1245 - acc: 0.9577 - val_loss: 0.5496 - val_acc: 0.8744\n"
          ],
          "name": "stdout"
        }
      ]
    },
    {
      "cell_type": "markdown",
      "metadata": {
        "id": "58np5trqzBZv",
        "colab_type": "text"
      },
      "source": [
        "Let's plot the results:"
      ]
    },
    {
      "cell_type": "code",
      "metadata": {
        "id": "8-JGcHs2zBZ1",
        "colab_type": "code",
        "colab": {
          "base_uri": "https://localhost:8080/",
          "height": 283
        },
        "outputId": "5b366efc-c626-4209-d4e5-3d11bb846f92"
      },
      "source": [
        "dpt_model_val_loss = dpt_model_hist.history['val_loss']\n",
        "\n",
        "plt.plot(epochs, original_val_loss, 'b', label='Original model')\n",
        "plt.plot(epochs, dpt_model_val_loss, 'bo', label='Dropout-regularized model')\n",
        "plt.xlabel('Epochs')\n",
        "plt.ylabel('Validation loss')\n",
        "plt.legend()\n",
        "\n",
        "plt.show()"
      ],
      "execution_count": 35,
      "outputs": [
        {
          "output_type": "display_data",
          "data": {
            "image/png": "[encoded data removed]",
            "text/plain": [
              "<Figure size 432x288 with 1 Axes>"
            ]
          },
          "metadata": {
            "tags": []
          }
        }
      ]
    },
    {
      "cell_type": "markdown",
      "metadata": {
        "id": "nJn5dRJ1zBZ7",
        "colab_type": "text"
      },
      "source": [
        "\n",
        "Again, a clear improvement over the reference network.\n",
        "\n",
        "To recap: here the most common ways to prevent overfitting in neural networks:\n",
        "\n",
        "* Getting more training data.\n",
        "* Reducing the capacity of the network.\n",
        "* Adding weight regularization.\n",
        "* Adding dropout."
      ]
    }
  ]
}