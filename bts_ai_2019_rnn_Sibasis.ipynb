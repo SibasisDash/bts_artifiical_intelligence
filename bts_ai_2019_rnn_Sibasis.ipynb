{
  "nbformat": 4,
  "nbformat_minor": 0,
  "metadata": {
    "colab": {
      "name": "bts_ai_2019_rnn_Sibasis.ipynb",
      "version": "0.3.2",
      "provenance": [],
      "collapsed_sections": [],
      "toc_visible": true,
      "include_colab_link": true
    },
    "kernelspec": {
      "name": "python3",
      "display_name": "Python 3"
    },
    "accelerator": "GPU"
  },
  "cells": [
    {
      "cell_type": "markdown",
      "metadata": {
        "id": "view-in-github",
        "colab_type": "text"
      },
      "source": [
        "<a href=\"https://colab.research.google.com/github/SibasisDash/bts_artifiical_intelligence/blob/master/bts_ai_2019_rnn_Sibasis.ipynb\" target=\"_parent\"><img src=\"https://colab.research.google.com/assets/colab-badge.svg\" alt=\"Open In Colab\"/></a>"
      ]
    },
    {
      "cell_type": "markdown",
      "metadata": {
        "id": "mcmwOwF4AI4F",
        "colab_type": "text"
      },
      "source": [
        "# Classifying Names with a Character-Level RNN"
      ]
    },
    {
      "cell_type": "markdown",
      "metadata": {
        "id": "RFaCbfrf-Fix",
        "colab_type": "text"
      },
      "source": [
        "\n",
        "Classifying Names with a Character-Level RNN\n",
        "*********************************************\n",
        "\n",
        "We will be building and training a basic character-level RNN to classify\n",
        "words. A character-level RNN reads words as a series of characters -\n",
        "outputting a prediction and \"hidden state\" at each step, feeding its\n",
        "previous hidden state into each next step. We take the final prediction\n",
        "to be the output, i.e. which class the word belongs to.\n",
        "\n",
        "Specifically, we'll train on a few thousand surnames from 18 languages\n",
        "of origin, and predict which language a name is from based on the\n",
        "spelling:\n",
        "\n",
        "::\n",
        "\n",
        "    $ python predict.py Hinton\n",
        "    (-0.47) Scottish\n",
        "    (-1.52) English\n",
        "    (-3.57) Irish\n",
        "\n",
        "    $ python predict.py Schmidhuber\n",
        "    (-0.19) German\n",
        "    (-2.48) Czech\n",
        "    (-2.68) Dutch\n",
        "\n",
        "Preparing the Data\n",
        "==================\n",
        "\n",
        "Included in the ``data/names`` directory are 18 text files named as\n",
        "\"[Language].txt\". Each file contains a bunch of names, one name per\n",
        "line, mostly romanized (but we still need to convert from Unicode to\n",
        "ASCII).\n",
        "\n",
        "We'll end up with a dictionary of lists of names per language,\n",
        "``{language: [names ...]}``. The generic variables \"category\" and \"line\"\n",
        "(for language and name in our case) are used for later extensibility.\n",
        "\n"
      ]
    },
    {
      "cell_type": "code",
      "metadata": {
        "id": "EH76sf5O-dCk",
        "colab_type": "code",
        "colab": {
          "base_uri": "https://localhost:8080/",
          "height": 572
        },
        "outputId": "fa42a571-bb24-4e7f-de4c-6c133731f98b"
      },
      "source": [
        "!wget https://download.pytorch.org/tutorial/data.zip\n",
        "!unzip data.zip"
      ],
      "execution_count": 1,
      "outputs": [
        {
          "output_type": "stream",
          "text": [
            "--2019-05-31 08:28:26--  https://download.pytorch.org/tutorial/data.zip\n",
            "Resolving download.pytorch.org (download.pytorch.org)... 13.35.253.67, 13.35.253.87, 13.35.253.107, ...\n",
            "Connecting to download.pytorch.org (download.pytorch.org)|13.35.253.67|:443... connected.\n",
            "HTTP request sent, awaiting response... 200 OK\n",
            "Length: 2882130 (2.7M) [application/zip]\n",
            "Saving to: ‘data.zip’\n",
            "\n",
            "\rdata.zip              0%[                    ]       0  --.-KB/s               \rdata.zip            100%[===================>]   2.75M  --.-KB/s    in 0.06s   \n",
            "\n",
            "2019-05-31 08:28:26 (43.3 MB/s) - ‘data.zip’ saved [2882130/2882130]\n",
            "\n",
            "Archive:  data.zip\n",
            "  inflating: data/eng-fra.txt        \n",
            "   creating: data/names/\n",
            "  inflating: data/names/Arabic.txt   \n",
            "  inflating: data/names/Chinese.txt  \n",
            "  inflating: data/names/Czech.txt    \n",
            "  inflating: data/names/Dutch.txt    \n",
            "  inflating: data/names/English.txt  \n",
            "  inflating: data/names/French.txt   \n",
            "  inflating: data/names/German.txt   \n",
            "  inflating: data/names/Greek.txt    \n",
            "  inflating: data/names/Irish.txt    \n",
            "  inflating: data/names/Italian.txt  \n",
            "  inflating: data/names/Japanese.txt  \n",
            "  inflating: data/names/Korean.txt   \n",
            "  inflating: data/names/Polish.txt   \n",
            "  inflating: data/names/Portuguese.txt  \n",
            "  inflating: data/names/Russian.txt  \n",
            "  inflating: data/names/Scottish.txt  \n",
            "  inflating: data/names/Spanish.txt  \n",
            "  inflating: data/names/Vietnamese.txt  \n"
          ],
          "name": "stdout"
        }
      ]
    },
    {
      "cell_type": "code",
      "metadata": {
        "id": "NqJyNoCq-Fiz",
        "colab_type": "code",
        "colab": {
          "base_uri": "https://localhost:8080/",
          "height": 72
        },
        "outputId": "87eb8d27-1e16-4bb0-c5cf-7f276441f284"
      },
      "source": [
        "from __future__ import unicode_literals, print_function, division\n",
        "from io import open\n",
        "import glob\n",
        "import os\n",
        "import numpy as np\n",
        "%matplotlib inline\n",
        "\n",
        "def findFiles(path): return glob.glob(path)\n",
        "\n",
        "print(findFiles('data/names/*.txt'))\n",
        "\n",
        "import unicodedata\n",
        "import string\n",
        "\n",
        "all_letters = string.ascii_letters + \" .,;'\"\n",
        "n_letters = len(all_letters)\n",
        "\n",
        "# Turn a Unicode string to plain ASCII, thanks to https://stackoverflow.com/a/518232/2809427\n",
        "def unicodeToAscii(s):\n",
        "    return ''.join(\n",
        "        c for c in unicodedata.normalize('NFD', s)\n",
        "        if unicodedata.category(c) != 'Mn'\n",
        "        and c in all_letters\n",
        "    )\n",
        "\n",
        "print(unicodeToAscii('Ślusàrski'))\n",
        "\n",
        "# Build the category_lines dictionary, a list of names per language\n",
        "category_lines = {}\n",
        "all_categories = []\n",
        "\n",
        "# Read a file and split into lines\n",
        "def readLines(filename):\n",
        "    lines = open(filename, encoding='utf-8').read().strip().split('\\n')\n",
        "    return [unicodeToAscii(line) for line in lines]\n",
        "\n",
        "for filename in findFiles('data/names/*.txt'):\n",
        "    category = os.path.splitext(os.path.basename(filename))[0]\n",
        "    all_categories.append(category)\n",
        "    lines = readLines(filename)\n",
        "    category_lines[category] = lines\n",
        "\n",
        "n_categories = len(all_categories)"
      ],
      "execution_count": 2,
      "outputs": [
        {
          "output_type": "stream",
          "text": [
            "['data/names/Greek.txt', 'data/names/Korean.txt', 'data/names/Russian.txt', 'data/names/Irish.txt', 'data/names/Dutch.txt', 'data/names/Chinese.txt', 'data/names/Spanish.txt', 'data/names/Arabic.txt', 'data/names/Portuguese.txt', 'data/names/Vietnamese.txt', 'data/names/Italian.txt', 'data/names/German.txt', 'data/names/Czech.txt', 'data/names/English.txt', 'data/names/Polish.txt', 'data/names/Japanese.txt', 'data/names/French.txt', 'data/names/Scottish.txt']\n",
            "Slusarski\n"
          ],
          "name": "stdout"
        }
      ]
    },
    {
      "cell_type": "markdown",
      "metadata": {
        "id": "bWPOAMNv-Fi4",
        "colab_type": "text"
      },
      "source": [
        "Now we have ``category_lines``, a dictionary mapping each category\n",
        "(language) to a list of lines (names). We also kept track of\n",
        "``all_categories`` (just a list of languages) and ``n_categories`` for\n",
        "later reference.\n",
        "\n",
        "\n"
      ]
    },
    {
      "cell_type": "code",
      "metadata": {
        "id": "TQptdHiC-Fi6",
        "colab_type": "code",
        "colab": {
          "base_uri": "https://localhost:8080/",
          "height": 35
        },
        "outputId": "78c60de3-93a5-4c51-a8bd-193e20b54887"
      },
      "source": [
        "print(category_lines['Italian'][:5])"
      ],
      "execution_count": 3,
      "outputs": [
        {
          "output_type": "stream",
          "text": [
            "['Abandonato', 'Abatangelo', 'Abatantuono', 'Abate', 'Abategiovanni']\n"
          ],
          "name": "stdout"
        }
      ]
    },
    {
      "cell_type": "markdown",
      "metadata": {
        "id": "NcmrlDHK-FjA",
        "colab_type": "text"
      },
      "source": [
        "Turning Names into Tensors\n",
        "--------------------------\n",
        "\n",
        "Now that we have all the names organized, we need to turn them into\n",
        "Tensors to make any use of them.\n",
        "\n",
        "To represent a single letter, we use a \"one-hot vector\" of size\n",
        "``<1 x n_letters>``. A one-hot vector is filled with 0s except for a 1\n",
        "at index of the current letter, e.g. ``\"b\" = <0 1 0 0 0 ...>``.\n",
        "\n",
        "To make a word we join a bunch of those into a 2D matrix\n",
        "``<line_length x 1 x n_letters>``.\n",
        "\n",
        "That extra 1 dimension is because PyTorch assumes everything is in\n",
        "batches - we're just using a batch size of 1 here.\n",
        "\n",
        "\n"
      ]
    },
    {
      "cell_type": "code",
      "metadata": {
        "id": "IJW6CnCb-FjB",
        "colab_type": "code",
        "colab": {
          "base_uri": "https://localhost:8080/",
          "height": 104
        },
        "outputId": "e95ac706-b75e-4ae7-ce17-e5e8f01572a3"
      },
      "source": [
        "import torch\n",
        "\n",
        "# Find letter index from all_letters, e.g. \"a\" = 0\n",
        "def letterToIndex(letter):\n",
        "    return all_letters.find(letter)\n",
        "\n",
        "# Just for demonstration, turn a letter into a <1 x n_letters> Tensor\n",
        "def letterToTensor(letter):\n",
        "    tensor = torch.zeros(1, n_letters)\n",
        "    tensor[0][letterToIndex(letter)] = 1\n",
        "    return tensor\n",
        "\n",
        "# Turn a line into a <line_length x 1 x n_letters>,\n",
        "# or an array of one-hot letter vectors\n",
        "def lineToTensor(line):\n",
        "    tensor = torch.zeros(len(line), 1, n_letters)\n",
        "    for li, letter in enumerate(line):\n",
        "        tensor[li][0][letterToIndex(letter)] = 1\n",
        "    return tensor\n",
        "\n",
        "print(letterToTensor('J'))\n",
        "\n",
        "print(lineToTensor('Jones').size()) #5 is the number of letters, 1 is the batch size , 57 letters = Capital letters + Small letters + \" ,':;\""
      ],
      "execution_count": 4,
      "outputs": [
        {
          "output_type": "stream",
          "text": [
            "tensor([[0., 0., 0., 0., 0., 0., 0., 0., 0., 0., 0., 0., 0., 0., 0., 0., 0., 0.,\n",
            "         0., 0., 0., 0., 0., 0., 0., 0., 0., 0., 0., 0., 0., 0., 0., 0., 0., 1.,\n",
            "         0., 0., 0., 0., 0., 0., 0., 0., 0., 0., 0., 0., 0., 0., 0., 0., 0., 0.,\n",
            "         0., 0., 0.]])\n",
            "torch.Size([5, 1, 57])\n"
          ],
          "name": "stdout"
        }
      ]
    },
    {
      "cell_type": "code",
      "metadata": {
        "id": "kzQNdj-iCWLo",
        "colab_type": "code",
        "colab": {
          "base_uri": "https://localhost:8080/",
          "height": 433
        },
        "outputId": "ffa5a316-85ae-4f92-8d73-e428eed10c88"
      },
      "source": [
        "print(lineToTensor('Jones'))"
      ],
      "execution_count": 6,
      "outputs": [
        {
          "output_type": "stream",
          "text": [
            "tensor([[[0., 0., 0., 0., 0., 0., 0., 0., 0., 0., 0., 0., 0., 0., 0., 0., 0.,\n",
            "          0., 0., 0., 0., 0., 0., 0., 0., 0., 0., 0., 0., 0., 0., 0., 0., 0.,\n",
            "          0., 1., 0., 0., 0., 0., 0., 0., 0., 0., 0., 0., 0., 0., 0., 0., 0.,\n",
            "          0., 0., 0., 0., 0., 0.]],\n",
            "\n",
            "        [[0., 0., 0., 0., 0., 0., 0., 0., 0., 0., 0., 0., 0., 0., 1., 0., 0.,\n",
            "          0., 0., 0., 0., 0., 0., 0., 0., 0., 0., 0., 0., 0., 0., 0., 0., 0.,\n",
            "          0., 0., 0., 0., 0., 0., 0., 0., 0., 0., 0., 0., 0., 0., 0., 0., 0.,\n",
            "          0., 0., 0., 0., 0., 0.]],\n",
            "\n",
            "        [[0., 0., 0., 0., 0., 0., 0., 0., 0., 0., 0., 0., 0., 1., 0., 0., 0.,\n",
            "          0., 0., 0., 0., 0., 0., 0., 0., 0., 0., 0., 0., 0., 0., 0., 0., 0.,\n",
            "          0., 0., 0., 0., 0., 0., 0., 0., 0., 0., 0., 0., 0., 0., 0., 0., 0.,\n",
            "          0., 0., 0., 0., 0., 0.]],\n",
            "\n",
            "        [[0., 0., 0., 0., 1., 0., 0., 0., 0., 0., 0., 0., 0., 0., 0., 0., 0.,\n",
            "          0., 0., 0., 0., 0., 0., 0., 0., 0., 0., 0., 0., 0., 0., 0., 0., 0.,\n",
            "          0., 0., 0., 0., 0., 0., 0., 0., 0., 0., 0., 0., 0., 0., 0., 0., 0.,\n",
            "          0., 0., 0., 0., 0., 0.]],\n",
            "\n",
            "        [[0., 0., 0., 0., 0., 0., 0., 0., 0., 0., 0., 0., 0., 0., 0., 0., 0.,\n",
            "          0., 1., 0., 0., 0., 0., 0., 0., 0., 0., 0., 0., 0., 0., 0., 0., 0.,\n",
            "          0., 0., 0., 0., 0., 0., 0., 0., 0., 0., 0., 0., 0., 0., 0., 0., 0.,\n",
            "          0., 0., 0., 0., 0., 0.]]])\n"
          ],
          "name": "stdout"
        }
      ]
    },
    {
      "cell_type": "markdown",
      "metadata": {
        "id": "aHxs_KtM-FjF",
        "colab_type": "text"
      },
      "source": [
        "Creating the Network\n",
        "====================\n",
        "\n",
        "Before autograd, creating a recurrent neural network in Torch involved\n",
        "cloning the parameters of a layer over several timesteps. The layers\n",
        "held hidden state and gradients which are now entirely handled by the\n",
        "graph itself. This means you can implement a RNN in a very \"pure\" way,\n",
        "as regular feed-forward layers.\n",
        "\n",
        "This RNN module (mostly copied from `the PyTorch for Torch users\n",
        "tutorial <https://pytorch.org/tutorials/beginner/former_torchies/\n",
        "nn_tutorial.html#example-2-recurrent-net>`__)\n",
        "is just 2 linear layers which operate on an input and hidden state, with\n",
        "a LogSoftmax layer after the output.\n",
        "\n",
        ".. figure:: https://i.imgur.com/Z2xbySO.png\n",
        "   :alt:\n",
        "\n",
        "\n",
        "\n"
      ]
    },
    {
      "cell_type": "code",
      "metadata": {
        "id": "w-MuFUH_-FjG",
        "colab_type": "code",
        "colab": {}
      },
      "source": [
        "import torch.nn as nn\n",
        "\n",
        "class RNN(nn.Module):\n",
        "    def __init__(self, input_size, hidden_size, output_size):\n",
        "        super(RNN, self).__init__()\n",
        "\n",
        "        self.hidden_size = hidden_size\n",
        "\n",
        "        self.i2h = nn.Linear(input_size + hidden_size, hidden_size)\n",
        "        self.i2o = nn.Linear(input_size + hidden_size, output_size)\n",
        "        self.softmax = nn.LogSoftmax(dim=1)\n",
        "\n",
        "    def forward(self, input, hidden):\n",
        "        combined = torch.cat((input, hidden), 1)\n",
        "        hidden = self.i2h(combined)\n",
        "        output = self.i2o(combined)\n",
        "        output = self.softmax(output)\n",
        "        return output, hidden\n",
        "\n",
        "    def initHidden(self):\n",
        "        return torch.zeros(1, self.hidden_size)\n",
        "\n",
        "n_hidden = 128\n",
        "rnn = RNN(n_letters, n_hidden, n_categories)"
      ],
      "execution_count": 0,
      "outputs": []
    },
    {
      "cell_type": "markdown",
      "metadata": {
        "id": "-TTpXlkj-FjL",
        "colab_type": "text"
      },
      "source": [
        "To run a step of this network we need to pass an input (in our case, the\n",
        "Tensor for the current letter) and a previous hidden state (which we\n",
        "initialize as zeros at first). We'll get back the output (probability of\n",
        "each language) and a next hidden state (which we keep for the next\n",
        "step).\n",
        "\n",
        "\n"
      ]
    },
    {
      "cell_type": "code",
      "metadata": {
        "id": "9dEVO7D_-FjQ",
        "colab_type": "code",
        "colab": {
          "base_uri": "https://localhost:8080/",
          "height": 69
        },
        "outputId": "d00025dc-630f-46d8-f1a0-3a3b0de10839"
      },
      "source": [
        "input = letterToTensor('A')\n",
        "hidden = torch.zeros(1, n_hidden)\n",
        "\n",
        "output, next_hidden = rnn(input, hidden)\n",
        "print(torch.exp(output))"
      ],
      "execution_count": 8,
      "outputs": [
        {
          "output_type": "stream",
          "text": [
            "tensor([[0.0497, 0.0577, 0.0559, 0.0607, 0.0562, 0.0556, 0.0553, 0.0539, 0.0549,\n",
            "         0.0541, 0.0529, 0.0524, 0.0561, 0.0539, 0.0550, 0.0592, 0.0589, 0.0576]],\n",
            "       grad_fn=<ExpBackward>)\n"
          ],
          "name": "stdout"
        }
      ]
    },
    {
      "cell_type": "markdown",
      "metadata": {
        "id": "xG01HiiB-FjV",
        "colab_type": "text"
      },
      "source": [
        "For the sake of efficiency we don't want to be creating a new Tensor for\n",
        "every step, so we will use ``lineToTensor`` instead of\n",
        "``letterToTensor`` and use slices. This could be further optimized by\n",
        "pre-computing batches of Tensors.\n",
        "\n",
        "\n"
      ]
    },
    {
      "cell_type": "code",
      "metadata": {
        "id": "SIjmo6IN-FjW",
        "colab_type": "code",
        "colab": {
          "base_uri": "https://localhost:8080/",
          "height": 69
        },
        "outputId": "f9d3ad8a-d55d-4b04-a2af-b8f59cccb69d"
      },
      "source": [
        "input = lineToTensor('Albert')\n",
        "hidden = torch.zeros(1, n_hidden)\n",
        "\n",
        "output, next_hidden = rnn(input[0], hidden)\n",
        "print(torch.exp(output))"
      ],
      "execution_count": 9,
      "outputs": [
        {
          "output_type": "stream",
          "text": [
            "tensor([[0.0497, 0.0577, 0.0559, 0.0607, 0.0562, 0.0556, 0.0553, 0.0539, 0.0549,\n",
            "         0.0541, 0.0529, 0.0524, 0.0561, 0.0539, 0.0550, 0.0592, 0.0589, 0.0576]],\n",
            "       grad_fn=<ExpBackward>)\n"
          ],
          "name": "stdout"
        }
      ]
    },
    {
      "cell_type": "markdown",
      "metadata": {
        "id": "Cc_YwlJS-Fjd",
        "colab_type": "text"
      },
      "source": [
        "As you can see the output is a ``<1 x n_categories>`` Tensor, where\n",
        "every item is the likelihood of that category (higher is more likely).\n",
        "\n",
        "\n"
      ]
    },
    {
      "cell_type": "markdown",
      "metadata": {
        "id": "npdkDIRg-Fjf",
        "colab_type": "text"
      },
      "source": [
        "Training\n",
        "========\n",
        "Preparing for Training\n",
        "----------------------\n",
        "\n",
        "Before going into training we should make a few helper functions. The\n",
        "first is to interpret the output of the network, which we know to be a\n",
        "likelihood of each category. We can use ``Tensor.topk`` to get the index\n",
        "of the greatest value:\n",
        "\n",
        "\n"
      ]
    },
    {
      "cell_type": "code",
      "metadata": {
        "id": "Pfxn4B29-Fji",
        "colab_type": "code",
        "colab": {
          "base_uri": "https://localhost:8080/",
          "height": 35
        },
        "outputId": "598c79e6-5646-4461-e351-b40470542d10"
      },
      "source": [
        "def categoryFromOutput(output):\n",
        "    top_n, top_i = output.topk(1)\n",
        "    category_i = top_i[0].item()\n",
        "    return all_categories[category_i], category_i\n",
        "\n",
        "print(categoryFromOutput(output))"
      ],
      "execution_count": 10,
      "outputs": [
        {
          "output_type": "stream",
          "text": [
            "('Irish', 3)\n"
          ],
          "name": "stdout"
        }
      ]
    },
    {
      "cell_type": "markdown",
      "metadata": {
        "id": "-oKAy9w--Fjk",
        "colab_type": "text"
      },
      "source": [
        "We will also want a quick way to get a training example (a name and its\n",
        "language):\n",
        "\n",
        "\n"
      ]
    },
    {
      "cell_type": "code",
      "metadata": {
        "id": "qTZwDzdJ-Fjl",
        "colab_type": "code",
        "colab": {
          "base_uri": "https://localhost:8080/",
          "height": 191
        },
        "outputId": "ea86b19b-a315-46b6-d79a-4a894036bd70"
      },
      "source": [
        "import random\n",
        "\n",
        "def randomChoice(l):\n",
        "    return l[random.randint(0, len(l) - 1)]\n",
        "\n",
        "def randomTrainingExample():\n",
        "    category = randomChoice(all_categories)\n",
        "    line = randomChoice(category_lines[category])\n",
        "    category_tensor = torch.tensor([all_categories.index(category)], dtype=torch.long)\n",
        "    line_tensor = lineToTensor(line)\n",
        "    return category, line, category_tensor, line_tensor\n",
        "\n",
        "for i in range(10):\n",
        "    category, line, category_tensor, line_tensor = randomTrainingExample()\n",
        "    print('category =', category, '/ line =', line)"
      ],
      "execution_count": 11,
      "outputs": [
        {
          "output_type": "stream",
          "text": [
            "category = Italian / line = Tessaro\n",
            "category = Scottish / line = Cameron\n",
            "category = Korean / line = Sung\n",
            "category = English / line = Woolnough\n",
            "category = Arabic / line = Issa\n",
            "category = Czech / line = Naizer\n",
            "category = Scottish / line = Allan\n",
            "category = Czech / line = Hafernik\n",
            "category = French / line = Fabron\n",
            "category = German / line = Holzmann\n"
          ],
          "name": "stdout"
        }
      ]
    },
    {
      "cell_type": "markdown",
      "metadata": {
        "id": "etFJ4AT--Fjp",
        "colab_type": "text"
      },
      "source": [
        "Training the Network\n",
        "--------------------\n",
        "\n",
        "Now all it takes to train this network is show it a bunch of examples,\n",
        "have it make guesses, and tell it if it's wrong.\n",
        "\n",
        "For the loss function ``nn.NLLLoss`` is appropriate, since the last\n",
        "layer of the RNN is ``nn.LogSoftmax``.\n",
        "\n",
        "\n"
      ]
    },
    {
      "cell_type": "code",
      "metadata": {
        "id": "VStT4wP7-Fjr",
        "colab_type": "code",
        "colab": {}
      },
      "source": [
        "criterion = nn.NLLLoss()"
      ],
      "execution_count": 0,
      "outputs": []
    },
    {
      "cell_type": "markdown",
      "metadata": {
        "id": "SklxWGfO-Fjw",
        "colab_type": "text"
      },
      "source": [
        "Each loop of training will:\n",
        "\n",
        "-  Create input and target tensors\n",
        "-  Create a zeroed initial hidden state\n",
        "-  Read each letter in and\n",
        "\n",
        "   -  Keep hidden state for next letter\n",
        "\n",
        "-  Compare final output to target\n",
        "-  Back-propagate\n",
        "-  Return the output and loss\n",
        "\n",
        "\n"
      ]
    },
    {
      "cell_type": "code",
      "metadata": {
        "id": "pYRDuuJF-Fjy",
        "colab_type": "code",
        "colab": {}
      },
      "source": [
        "learning_rate = 0.005 # If you set this too high, it might explode. If too low, it might not learn\n",
        "\n",
        "def train(category_tensor, line_tensor):\n",
        "    hidden = rnn.initHidden()\n",
        "\n",
        "    rnn.zero_grad()\n",
        "\n",
        "    for i in range(line_tensor.size()[0]):\n",
        "        output, hidden = rnn(line_tensor[i], hidden)\n",
        "\n",
        "    loss = criterion(output, category_tensor)\n",
        "    loss.backward()\n",
        "\n",
        "    # Add parameters' gradients to their values, multiplied by learning rate\n",
        "    for p in rnn.parameters():\n",
        "        p.data.add_(-learning_rate, p.grad.data)\n",
        "\n",
        "    return output, loss.item()"
      ],
      "execution_count": 0,
      "outputs": []
    },
    {
      "cell_type": "markdown",
      "metadata": {
        "id": "QsPtetx0-Fj3",
        "colab_type": "text"
      },
      "source": [
        "Now we just have to run that with a bunch of examples. Since the\n",
        "``train`` function returns both the output and loss we can print its\n",
        "guesses and also keep track of loss for plotting. Since there are 1000s\n",
        "of examples we print only every ``print_every`` examples, and take an\n",
        "average of the loss.\n",
        "\n",
        "\n"
      ]
    },
    {
      "cell_type": "code",
      "metadata": {
        "id": "ZklvmNGk-Fj3",
        "colab_type": "code",
        "colab": {
          "base_uri": "https://localhost:8080/",
          "height": 364
        },
        "outputId": "68a59e68-c1fa-4eee-dacc-f927b272aa42"
      },
      "source": [
        "import time\n",
        "import math\n",
        "\n",
        "n_iters = 100000\n",
        "print_every = 5000\n",
        "plot_every = 1000\n",
        "\n",
        "\n",
        "\n",
        "# Keep track of losses for plotting\n",
        "current_loss = 0\n",
        "all_losses = []\n",
        "\n",
        "def timeSince(since):\n",
        "    now = time.time()\n",
        "    s = now - since\n",
        "    m = math.floor(s / 60)\n",
        "    s -= m * 60\n",
        "    return '%dm %ds' % (m, s)\n",
        "\n",
        "start = time.time()\n",
        "\n",
        "for iter in range(1, n_iters + 1):\n",
        "    category, line, category_tensor, line_tensor = randomTrainingExample()\n",
        "    output, loss = train(category_tensor, line_tensor)\n",
        "    current_loss += loss\n",
        "\n",
        "    # Print iter number, loss, name and guess\n",
        "    if iter % print_every == 0:\n",
        "        guess, guess_i = categoryFromOutput(output)\n",
        "        correct = '✓' if guess == category else '✗ (%s)' % category\n",
        "        print('%d %d%% (%s) %.4f %s / %s %s' % (iter, iter / n_iters * 100, timeSince(start), loss, line, guess, correct))\n",
        "\n",
        "    # Add current loss avg to list of losses\n",
        "    if iter % plot_every == 0:\n",
        "        all_losses.append(current_loss / plot_every)\n",
        "        current_loss = 0"
      ],
      "execution_count": 15,
      "outputs": [
        {
          "output_type": "stream",
          "text": [
            "5000 5% (0m 5s) 1.8711 Walentowicz / Polish ✓\n",
            "10000 10% (0m 10s) 1.3413 Reuter / German ✓\n",
            "15000 15% (0m 16s) 2.7672 Graham / Arabic ✗ (Scottish)\n",
            "20000 20% (0m 21s) 3.6005 Siskin / Russian ✗ (German)\n",
            "25000 25% (0m 26s) 2.3491 Yanson / Scottish ✗ (Russian)\n",
            "30000 30% (0m 32s) 2.7226 Hill / Irish ✗ (Scottish)\n",
            "35000 35% (0m 39s) 6.3653 Von grimmelshausen / Irish ✗ (German)\n",
            "40000 40% (0m 44s) 1.1877 Miyoshi / Polish ✗ (Japanese)\n",
            "45000 45% (0m 49s) 1.7679 Magalhaes / Irish ✗ (Portuguese)\n",
            "50000 50% (0m 56s) 0.7780 Do / Vietnamese ✓\n",
            "55000 55% (1m 1s) 0.4696 Stenger / German ✓\n",
            "60000 60% (1m 7s) 2.8563 Schwangau / Arabic ✗ (German)\n",
            "65000 65% (1m 12s) 1.2464 Rocha / Czech ✗ (Portuguese)\n",
            "70000 70% (1m 17s) 0.8939 Coelho / Portuguese ✓\n",
            "75000 75% (1m 23s) 2.8493 Asturias / Greek ✗ (Spanish)\n",
            "80000 80% (1m 28s) 2.0572 Lafrenz / Spanish ✗ (German)\n",
            "85000 85% (1m 33s) 4.0507 Papageorge / Spanish ✗ (Greek)\n",
            "90000 90% (1m 38s) 2.5976 Magalhaes / Dutch ✗ (Portuguese)\n",
            "95000 95% (1m 44s) 0.1458 Nadvornizch / Czech ✓\n",
            "100000 100% (1m 49s) 2.0936 Kanaan / Irish ✗ (Arabic)\n"
          ],
          "name": "stdout"
        }
      ]
    },
    {
      "cell_type": "markdown",
      "metadata": {
        "id": "Gg7YShny-Fj6",
        "colab_type": "text"
      },
      "source": [
        "Plotting the Results\n",
        "--------------------\n",
        "\n",
        "Plotting the historical loss from ``all_losses`` shows the network\n",
        "learning:\n",
        "\n",
        "\n"
      ]
    },
    {
      "cell_type": "code",
      "metadata": {
        "id": "tXTQr3CT-Fj9",
        "colab_type": "code",
        "colab": {
          "base_uri": "https://localhost:8080/",
          "height": 287
        },
        "outputId": "ebced234-77f8-4133-b45e-0fea6040e4f2"
      },
      "source": [
        "import matplotlib.pyplot as plt\n",
        "import matplotlib.ticker as ticker\n",
        "\n",
        "plt.figure()\n",
        "plt.plot(all_losses)"
      ],
      "execution_count": 16,
      "outputs": [
        {
          "output_type": "execute_result",
          "data": {
            "text/plain": [
              "[<matplotlib.lines.Line2D at 0x7fdb99ba10f0>]"
            ]
          },
          "metadata": {
            "tags": []
          },
          "execution_count": 16
        },
        {
          "output_type": "display_data",
          "data": {
            "image/png": "[encoded data removed]",
            "text/plain": [
              "<Figure size 432x288 with 1 Axes>"
            ]
          },
          "metadata": {
            "tags": []
          }
        }
      ]
    },
    {
      "cell_type": "markdown",
      "metadata": {
        "id": "3Nh5sLWj-FkC",
        "colab_type": "text"
      },
      "source": [
        "Evaluating the Results\n",
        "======================\n",
        "\n",
        "To see how well the network performs on different categories, we will\n",
        "create a confusion matrix, indicating for every actual language (rows)\n",
        "which language the network guesses (columns). To calculate the confusion\n",
        "matrix a bunch of samples are run through the network with\n",
        "``evaluate()``, which is the same as ``train()`` minus the backprop.\n",
        "\n",
        "\n"
      ]
    },
    {
      "cell_type": "code",
      "metadata": {
        "id": "ZwfeTfM6-FkC",
        "colab_type": "code",
        "colab": {
          "base_uri": "https://localhost:8080/",
          "height": 321
        },
        "outputId": "a706856d-de2a-4275-cf2b-24351ca81cb7"
      },
      "source": [
        "# Keep track of correct guesses in a confusion matrix\n",
        "confusion = torch.zeros(n_categories, n_categories)\n",
        "n_confusion = 10000\n",
        "\n",
        "# Just return an output given a line\n",
        "def evaluate(line_tensor):\n",
        "    hidden = rnn.initHidden()\n",
        "\n",
        "    for i in range(line_tensor.size()[0]):\n",
        "        output, hidden = rnn(line_tensor[i], hidden)\n",
        "\n",
        "    return output\n",
        "\n",
        "# Go through a bunch of examples and record which are correctly guessed\n",
        "for i in range(n_confusion):\n",
        "    category, line, category_tensor, line_tensor = randomTrainingExample()\n",
        "    output = evaluate(line_tensor)\n",
        "    guess, guess_i = categoryFromOutput(output)\n",
        "    category_i = all_categories.index(category)\n",
        "    confusion[category_i][guess_i] += 1\n",
        "\n",
        "# Normalize by dividing every row by its sum\n",
        "for i in range(n_categories):\n",
        "    confusion[i] = confusion[i] / confusion[i].sum()\n",
        "\n",
        "# Set up plot\n",
        "fig = plt.figure()\n",
        "ax = fig.add_subplot(111)\n",
        "cax = ax.matshow(confusion.numpy())\n",
        "fig.colorbar(cax)\n",
        "\n",
        "# Set up axes\n",
        "ax.set_xticklabels([''] + all_categories, rotation=90)\n",
        "ax.set_yticklabels([''] + all_categories)\n",
        "\n",
        "# Force label at every tick\n",
        "ax.xaxis.set_major_locator(ticker.MultipleLocator(1))\n",
        "ax.yaxis.set_major_locator(ticker.MultipleLocator(1))\n",
        "\n",
        "# sphinx_gallery_thumbnail_number = 2\n",
        "plt.show()"
      ],
      "execution_count": 17,
      "outputs": [
        {
          "output_type": "display_data",
          "data": {
            "image/png": "[encoded data removed]",
            "text/plain": [
              "<Figure size 432x288 with 2 Axes>"
            ]
          },
          "metadata": {
            "tags": []
          }
        }
      ]
    },
    {
      "cell_type": "markdown",
      "metadata": {
        "id": "qGEFOBkT-FkI",
        "colab_type": "text"
      },
      "source": [
        "You can pick out bright spots off the main axis that show which\n",
        "languages it guesses incorrectly, e.g. Chinese for Korean, and Spanish\n",
        "for Italian. It seems to do very well with Greek, and very poorly with\n",
        "English (perhaps because of overlap with other languages).\n",
        "\n",
        "\n"
      ]
    },
    {
      "cell_type": "markdown",
      "metadata": {
        "id": "rWBVZrB1-FkJ",
        "colab_type": "text"
      },
      "source": [
        "Running on User Input\n",
        "---------------------\n",
        "\n",
        "\n"
      ]
    },
    {
      "cell_type": "code",
      "metadata": {
        "id": "pwSSg1Zk-FkL",
        "colab_type": "code",
        "colab": {
          "base_uri": "https://localhost:8080/",
          "height": 364
        },
        "outputId": "5a7d3067-e92f-43cf-bcea-b740b2b93803"
      },
      "source": [
        "def predict(input_line, n_predictions=3):\n",
        "    print('\\n> %s' % input_line)\n",
        "    with torch.no_grad():\n",
        "        output = evaluate(lineToTensor(input_line))\n",
        "\n",
        "        # Get top N categories\n",
        "        topv, topi = output.topk(n_predictions, 1, True)\n",
        "        predictions = []\n",
        "\n",
        "        for i in range(n_predictions):\n",
        "            value = torch.exp(topv[0][i]).item()\n",
        "            category_index = topi[0][i].item()\n",
        "            print('(%.2f) %s' % (value, all_categories[category_index]))\n",
        "            predictions.append([value, all_categories[category_index]])\n",
        "\n",
        "predict('Daniel')\n",
        "predict('Marc')\n",
        "predict('Xavi')\n",
        "predict('Satoshi')"
      ],
      "execution_count": 18,
      "outputs": [
        {
          "output_type": "stream",
          "text": [
            "\n",
            "> Daniel\n",
            "(0.35) Portuguese\n",
            "(0.22) French\n",
            "(0.08) English\n",
            "\n",
            "> Marc\n",
            "(0.20) Dutch\n",
            "(0.10) English\n",
            "(0.09) German\n",
            "\n",
            "> Xavi\n",
            "(0.34) Italian\n",
            "(0.09) Czech\n",
            "(0.08) Japanese\n",
            "\n",
            "> Satoshi\n",
            "(0.38) Japanese\n",
            "(0.26) Italian\n",
            "(0.14) Arabic\n"
          ],
          "name": "stdout"
        }
      ]
    },
    {
      "cell_type": "code",
      "metadata": {
        "id": "J5pNbd9SF8xo",
        "colab_type": "code",
        "colab": {
          "base_uri": "https://localhost:8080/",
          "height": 104
        },
        "outputId": "dd35802a-e58a-4928-e232-4c75d99d20a9"
      },
      "source": [
        "predict(\"Sibasis\")"
      ],
      "execution_count": 37,
      "outputs": [
        {
          "output_type": "stream",
          "text": [
            "\n",
            "> Sibasis\n",
            "(0.49) Arabic\n",
            "(0.28) Greek\n",
            "(0.06) Dutch\n"
          ],
          "name": "stdout"
        }
      ]
    },
    {
      "cell_type": "markdown",
      "metadata": {
        "id": "o4IuELH9AR3S",
        "colab_type": "text"
      },
      "source": [
        "# Character prediction with an LSTM"
      ]
    },
    {
      "cell_type": "markdown",
      "metadata": {
        "id": "N1HlOSBXAVxm",
        "colab_type": "text"
      },
      "source": [
        "Now, we will train a network to predict the following character of a sentence. Furthermore, by feeding the output of the network to itself, the network will be able to write new sentences. We will train our network using Alice's adventures in Wonderland.\n",
        "\n",
        "\n",
        "Now, we will use the `nn.LSTMCell` module instead of implementing it ourselves."
      ]
    },
    {
      "cell_type": "markdown",
      "metadata": {
        "id": "YY7gSIqjBH9u",
        "colab_type": "text"
      },
      "source": [
        "We will train our network using Alice's adventures in Wonderland.\n",
        "\n"
      ]
    },
    {
      "cell_type": "code",
      "metadata": {
        "id": "N7XJriuAZE_B",
        "colab_type": "code",
        "colab": {}
      },
      "source": [
        "import torch\n",
        "import torch.nn as nn\n",
        "import numpy as np\n",
        "import torch.nn.functional as F"
      ],
      "execution_count": 0,
      "outputs": []
    },
    {
      "cell_type": "code",
      "metadata": {
        "id": "xv6tYLkhBV4R",
        "colab_type": "code",
        "colab": {
          "base_uri": "https://localhost:8080/",
          "height": 208
        },
        "outputId": "aa6a0dd7-c8f4-4696-d60c-d47fd5831d6f"
      },
      "source": [
        "!wget https://www.gutenberg.org/files/11/11.txt # Alice\n",
        "# !wget http://www.gutenberg.org/files/1399/1399-0.txt # Ana Karenina"
      ],
      "execution_count": 26,
      "outputs": [
        {
          "output_type": "stream",
          "text": [
            "--2019-05-31 08:55:52--  https://www.gutenberg.org/files/11/11.txt\n",
            "Resolving www.gutenberg.org (www.gutenberg.org)... 152.19.134.47, 2610:28:3090:3000:0:bad:cafe:47\n",
            "Connecting to www.gutenberg.org (www.gutenberg.org)|152.19.134.47|:443... connected.\n",
            "HTTP request sent, awaiting response... 200 OK\n",
            "Length: 167546 (164K) [text/plain]\n",
            "Saving to: ‘11.txt’\n",
            "\n",
            "11.txt              100%[===================>] 163.62K   252KB/s    in 0.7s    \n",
            "\n",
            "2019-05-31 08:55:54 (252 KB/s) - ‘11.txt’ saved [167546/167546]\n",
            "\n"
          ],
          "name": "stdout"
        }
      ]
    },
    {
      "cell_type": "code",
      "metadata": {
        "id": "TifzEYRJBZ0E",
        "colab_type": "code",
        "colab": {}
      },
      "source": [
        "# read and prepare the data\n",
        "with open('./11.txt', 'r') as f: text = f.read() # Alice\n",
        "# with open('./1399-0.txt', 'r') as f: text = f.read() # Ana Karenina\n",
        "    \n",
        "import unicodedata\n",
        "import string\n",
        "\n",
        "all_letters = string.ascii_letters + \" .,;'\"\n",
        "n_letters = len(all_letters)\n",
        "    \n",
        "def unicodeToAscii(s):\n",
        "    return ''.join(\n",
        "        c for c in unicodedata.normalize('NFD', s)\n",
        "        if unicodedata.category(c) != 'Mn'\n",
        "        and c in all_letters\n",
        "        )\n",
        "\n",
        "def letterToIndex(letter):\n",
        "    return all_letters.find(letter)\n",
        "\n",
        "def indexToLetter(idx):\n",
        "    return all_letters[idx]\n",
        "\n",
        "text = unicodeToAscii(text)\n",
        "\n",
        "# encode the text, using the character to integer function\n",
        "encoded = np.array([letterToIndex(char) for char in text])"
      ],
      "execution_count": 0,
      "outputs": []
    },
    {
      "cell_type": "code",
      "metadata": {
        "id": "G4qiopayCBKw",
        "colab_type": "code",
        "colab": {
          "base_uri": "https://localhost:8080/",
          "height": 72
        },
        "outputId": "926ad21b-27e3-42e9-bc54-96496978fd26"
      },
      "source": [
        "print(text)\n",
        "print(encoded)"
      ],
      "execution_count": 38,
      "outputs": [
        {
          "output_type": "stream",
          "text": [
            "Project Gutenberg's Alice's Adventures in Wonderland, by Lewis CarrollThis eBook is for the use of anyone anywhere at no cost and withalmost no restrictions whatsoever.  You may copy it, give it away orreuse it under the terms of the Project Gutenberg License includedwith this eBook or online at www.gutenberg.orgTitle Alice's Adventures in WonderlandAuthor Lewis CarrollPosting Date June ,  EBook Release Date March, Last updated December , Language EnglishCharacter set encoding ASCII START OF THIS PROJECT GUTENBERG EBOOK ALICE'S ADVENTURES IN WONDERLAND ALICE'S ADVENTURES IN WONDERLANDLewis CarrollTHE MILLENNIUM FULCRUM EDITION .CHAPTER I. Down the RabbitHoleAlice was beginning to get very tired of sitting by her sister on thebank, and of having nothing to do once or twice she had peeped into thebook her sister was reading, but it had no pictures or conversations init, 'and what is the use of a book,' thought Alice 'without pictures orconversations'So she was considering in her own mind as well as she could, for thehot day made her feel very sleepy and stupid, whether the pleasureof making a daisychain would be worth the trouble of getting up andpicking the daisies, when suddenly a White Rabbit with pink eyes ranclose by her.There was nothing so VERY remarkable in that; nor did Alice think it soVERY much out of the way to hear the Rabbit say to itself, 'Oh dearOh dear I shall be late' when she thought it over afterwards, itoccurred to her that she ought to have wondered at this, but at the timeit all seemed quite natural; but when the Rabbit actually TOOK A WATCHOUT OF ITS WAISTCOATPOCKET, and looked at it, and then hurried on,Alice started to her feet, for it flashed across her mind that she hadnever before seen a rabbit with either a waistcoatpocket, or a watchto take out of it, and burning with curiosity, she ran across the fieldafter it, and fortunately was just in time to see it pop down a largerabbithole under the hedge.In another moment down went Alice after it, never once considering howin the world she was to get out again.The rabbithole went straight on like a tunnel for some way, and thendipped suddenly down, so suddenly that Alice had not a moment to thinkabout stopping herself before she found herself falling down a very deepwell.Either the well was very deep, or she fell very slowly, for she hadplenty of time as she went down to look about her and to wonder what wasgoing to happen next. First, she tried to look down and make out whatshe was coming to, but it was too dark to see anything; then shelooked at the sides of the well, and noticed that they were filled withcupboards and bookshelves; here and there she saw maps and pictureshung upon pegs. She took down a jar from one of the shelves asshe passed; it was labelled 'ORANGE MARMALADE', but to her greatdisappointment it was empty she did not like to drop the jar for fearof killing somebody, so managed to put it into one of the cupboards asshe fell past it.'Well' thought Alice to herself, 'after such a fall as this, I shallthink nothing of tumbling down stairs How brave they'll all think me athome Why, I wouldn't say anything about it, even if I fell off the topof the house' Which was very likely true.Down, down, down. Would the fall NEVER come to an end 'I wonder howmany miles I've fallen by this time' she said aloud. 'I must be gettingsomewhere near the centre of the earth. Let me see that would be fourthousand miles down, I think' for, you see, Alice had learnt severalthings of this sort in her lessons in the schoolroom, and though thiswas not a VERY good opportunity for showing off her knowledge, as therewas no one to listen to her, still it was good practice to say it over'yes, that's about the right distancebut then I wonder what Latitudeor Longitude I've got to' Alice had no idea what Latitude was, orLongitude either, but thought they were nice grand words to say.Presently she began again. 'I wonder if I shall fall right THROUGH theearth How funny it'll seem to come out among the people that walk withtheir heads downward The Antipathies, I think' she was rather gladthere WAS no one listening, this time, as it didn't sound at all theright word 'but I shall have to ask them what the name of the countryis, you know. Please, Ma'am, is this New Zealand or Australia' andshe tried to curtsey as she spokefancy CURTSEYING as you're fallingthrough the air Do you think you could manage it 'And what anignorant little girl she'll think me for asking No, it'll never do toask perhaps I shall see it written up somewhere.'Down, down, down. There was nothing else to do, so Alice soon begantalking again. 'Dinah'll miss me very much tonight, I should think'Dinah was the cat. 'I hope they'll remember her saucer of milk atteatime. Dinah my dear I wish you were down here with me There are nomice in the air, I'm afraid, but you might catch a bat, and that's verylike a mouse, you know. But do cats eat bats, I wonder' And here Alicebegan to get rather sleepy, and went on saying to herself, in a dreamysort of way, 'Do cats eat bats Do cats eat bats' and sometimes, 'Dobats eat cats' for, you see, as she couldn't answer either question,it didn't much matter which way she put it. She felt that she was dozingoff, and had just begun to dream that she was walking hand in hand withDinah, and saying to her very earnestly, 'Now, Dinah, tell me the truthdid you ever eat a bat' when suddenly, thump thump down she came upona heap of sticks and dry leaves, and the fall was over.Alice was not a bit hurt, and she jumped up on to her feet in a momentshe looked up, but it was all dark overhead; before her was anotherlong passage, and the White Rabbit was still in sight, hurrying down it.There was not a moment to be lost away went Alice like the wind, andwas just in time to hear it say, as it turned a corner, 'Oh my earsand whiskers, how late it's getting' She was close behind it when sheturned the corner, but the Rabbit was no longer to be seen she foundherself in a long, low hall, which was lit up by a row of lamps hangingfrom the roof.There were doors all round the hall, but they were all locked; and whenAlice had been all the way down one side and up the other, trying everydoor, she walked sadly down the middle, wondering how she was ever toget out again.Suddenly she came upon a little threelegged table, all made of solidglass; there was nothing on it except a tiny golden key, and Alice'sfirst thought was that it might belong to one of the doors of the hall;but, alas either the locks were too large, or the key was too small,but at any rate it would not open any of them. However, on the secondtime round, she came upon a low curtain she had not noticed before, andbehind it was a little door about fifteen inches high she tried thelittle golden key in the lock, and to her great delight it fittedAlice opened the door and found that it led into a small passage, notmuch larger than a rathole she knelt down and looked along the passageinto the loveliest garden you ever saw. How she longed to get out ofthat dark hall, and wander about among those beds of bright flowers andthose cool fountains, but she could not even get her head through thedoorway; 'and even if my head would go through,' thought poor Alice, 'itwould be of very little use without my shoulders. Oh, how I wish I couldshut up like a telescope I think I could, if I only knew how to begin.'For, you see, so many outoftheway things had happened lately,that Alice had begun to think that very few things indeed were reallyimpossible.There seemed to be no use in waiting by the little door, so she wentback to the table, half hoping she might find another key on it, or atany rate a book of rules for shutting people up like telescopes thistime she found a little bottle on it, 'which certainly was not herebefore,' said Alice, and round the neck of the bottle was a paperlabel, with the words 'DRINK ME' beautifully printed on it in largeletters.It was all very well to say 'Drink me,' but the wise little Alice wasnot going to do THAT in a hurry. 'No, I'll look first,' she said, 'andsee whether it's marked poison or not'; for she had read several nicelittle histories about children who had got burnt, and eaten up by wildbeasts and other unpleasant things, all because they WOULD not rememberthe simple rules their friends had taught them such as, that a redhotpoker will burn you if you hold it too long; and that if you cut yourfinger VERY deeply with a knife, it usually bleeds; and she had neverforgotten that, if you drink much from a bottle marked 'poison,' it isalmost certain to disagree with you, sooner or later.However, this bottle was NOT marked 'poison,' so Alice ventured to tasteit, and finding it very nice, it had, in fact, a sort of mixed flavourof cherrytart, custard, pineapple, roast turkey, toffee, and hotbuttered toast, she very soon finished it off.                                                                            'What a curious feeling' said Alice; 'I must be shutting up like atelescope.'And so it was indeed she was now only ten inches high, and her facebrightened up at the thought that she was now the right size for goingthrough the little door into that lovely garden. First, however, shewaited for a few minutes to see if she was going to shrink any furthershe felt a little nervous about this; 'for it might end, you know,' saidAlice to herself, 'in my going out altogether, like a candle. I wonderwhat I should be like then' And she tried to fancy what the flame of acandle is like after the candle is blown out, for she could not rememberever having seen such a thing.After a while, finding that nothing more happened, she decided on goinginto the garden at once; but, alas for poor Alice when she got to thedoor, she found she had forgotten the little golden key, and when shewent back to the table for it, she found she could not possibly reachit she could see it quite plainly through the glass, and she tried herbest to climb up one of the legs of the table, but it was too slippery;and when she had tired herself out with trying, the poor little thingsat down and cried.'Come, there's no use in crying like that' said Alice to herself,rather sharply; 'I advise you to leave off this minute' She generallygave herself very good advice, though she very seldom followed it,and sometimes she scolded herself so severely as to bring tears intoher eyes; and once she remembered trying to box her own ears for havingcheated herself in a game of croquet she was playing against herself,for this curious child was very fond of pretending to be two people.'But it's no use now,' thought poor Alice, 'to pretend to be two peopleWhy, there's hardly enough of me left to make ONE respectable person'Soon her eye fell on a little glass box that was lying under the tableshe opened it, and found in it a very small cake, on which the words'EAT ME' were beautifully marked in currants. 'Well, I'll eat it,' saidAlice, 'and if it makes me grow larger, I can reach the key; and if itmakes me grow smaller, I can creep under the door; so either way I'llget into the garden, and I don't care which happens'She ate a little bit, and said anxiously to herself, 'Which way Whichway', holding her hand on the top of her head to feel which way it wasgrowing, and she was quite surprised to find that she remained the samesize to be sure, this generally happens when one eats cake, but Alicehad got so much into the way of expecting nothing but outofthewaythings to happen, that it seemed quite dull and stupid for life to go onin the common way.So she set to work, and very soon finished off the cake.                                                                            CHAPTER II. The Pool of Tears'Curiouser and curiouser' cried Alice she was so much surprised, thatfor the moment she quite forgot how to speak good English; 'now I'mopening out like the largest telescope that ever was Goodbye, feet'for when she looked down at her feet, they seemed to be almost out ofsight, they were getting so far off. 'Oh, my poor little feet, I wonderwho will put on your shoes and stockings for you now, dears I'm sureI shan't be able I shall be a great deal too far off to troublemyself about you you must manage the best way you can;but I must bekind to them,' thought Alice, 'or perhaps they won't walk the way I wantto go Let me see I'll give them a new pair of boots every Christmas.'And she went on planning to herself how she would manage it. 'They mustgo by the carrier,' she thought; 'and how funny it'll seem, sendingpresents to one's own feet And how odd the directions will look     ALICE'S RIGHT FOOT, ESQ.       HEARTHRUG,         NEAR THE FENDER,           WITH ALICE'S LOVE.Oh dear, what nonsense I'm talking'Just then her head struck against the roof of the hall in fact she wasnow more than nine feet high, and she at once took up the little goldenkey and hurried off to the garden door.Poor Alice It was as much as she could do, lying down on one side, tolook through into the garden with one eye; but to get through was morehopeless than ever she sat down and began to cry again.'You ought to be ashamed of yourself,' said Alice, 'a great girl likeyou,' she might well say this, 'to go on crying in this way Stop thismoment, I tell you' But she went on all the same, shedding gallons oftears, until there was a large pool all round her, about four inchesdeep and reaching half down the hall.After a time she heard a little pattering of feet in the distance, andshe hastily dried her eyes to see what was coming. It was the WhiteRabbit returning, splendidly dressed, with a pair of white kid gloves inone hand and a large fan in the other he came trotting along in a greathurry, muttering to himself as he came, 'Oh the Duchess, the DuchessOh won't she be savage if I've kept her waiting' Alice felt sodesperate that she was ready to ask help of any one; so, when the Rabbitcame near her, she began, in a low, timid voice, 'If you please, sir'The Rabbit started violently, dropped the white kid gloves and the fan,and skurried away into the darkness as hard as he could go.Alice took up the fan and gloves, and, as the hall was very hot, shekept fanning herself all the time she went on talking 'Dear, dear Howqueer everything is today And yesterday things went on just as usual.I wonder if I've been changed in the night Let me think was I thesame when I got up this morning I almost think I can remember feeling alittle different. But if I'm not the same, the next question is, Whoin the world am I Ah, THAT'S the great puzzle' And she began thinkingover all the children she knew that were of the same age as herself, tosee if she could have been changed for any of them.'I'm sure I'm not Ada,' she said, 'for her hair goes in such longringlets, and mine doesn't go in ringlets at all; and I'm sure I can'tbe Mabel, for I know all sorts of things, and she, oh she knows such avery little Besides, SHE'S she, and I'm I, andoh dear, how puzzlingit all is I'll try if I know all the things I used to know. Let mesee four times five is twelve, and four times six is thirteen, andfour times seven isoh dear I shall never get to twenty at that rateHowever, the Multiplication Table doesn't signify let's try Geography.London is the capital of Paris, and Paris is the capital of Rome, andRomeno, THAT'S all wrong, I'm certain I must have been changed forMabel I'll try and say How doth the little' and she crossed herhands on her lap as if she were saying lessons, and began to repeat it,but her voice sounded hoarse and strange, and the words did not come thesame as they used to do     'How doth the little crocodile      Improve his shining tail,     And pour the waters of the Nile      On every golden scale     'How cheerfully he seems to grin,      How neatly spread his claws,     And welcome little fishes in      With gently smiling jaws''I'm sure those are not the right words,' said poor Alice, and her eyesfilled with tears again as she went on, 'I must be Mabel after all, andI shall have to go and live in that poky little house, and have next tono toys to play with, and oh ever so many lessons to learn No, I'vemade up my mind about it; if I'm Mabel, I'll stay down here It'll be nouse their putting their heads down and saying Come up again, dear Ishall only look up and say Who am I then Tell me that first, and then,if I like being that person, I'll come up if not, I'll stay down heretill I'm somebody elsebut, oh dear' cried Alice, with a sudden burstof tears, 'I do wish they WOULD put their heads down I am so VERY tiredof being all alone here'As she said this she looked down at her hands, and was surprised to seethat she had put on one of the Rabbit's little white kid gloves whileshe was talking. 'How CAN I have done that' she thought. 'I mustbe growing small again.' She got up and went to the table to measureherself by it, and found that, as nearly as she could guess, she was nowabout two feet high, and was going on shrinking rapidly she soon foundout that the cause of this was the fan she was holding, and she droppedit hastily, just in time to avoid shrinking away altogether.'That WAS a narrow escape' said Alice, a good deal frightened at thesudden change, but very glad to find herself still in existence; 'andnow for the garden' and she ran with all speed back to the little doorbut, alas the little door was shut again, and the little golden key waslying on the glass table as before, 'and things are worse than ever,'thought the poor child, 'for I never was so small as this before, neverAnd I declare it's too bad, that it is'As she said these words her foot slipped, and in another moment, splashshe was up to her chin in salt water. Her first idea was that shehad somehow fallen into the sea, 'and in that case I can go back byrailway,' she said to herself. Alice had been to the seaside once inher life, and had come to the general conclusion, that wherever you goto on the English coast you find a number of bathing machines in thesea, some children digging in the sand with wooden spades, then a rowof lodging houses, and behind them a railway station. However, she soonmade out that she was in the pool of tears which she had wept when shewas nine feet high.'I wish I hadn't cried so much' said Alice, as she swam about, tryingto find her way out. 'I shall be punished for it now, I suppose, bybeing drowned in my own tears That WILL be a queer thing, to be sureHowever, everything is queer today.'Just then she heard something splashing about in the pool a little wayoff, and she swam nearer to make out what it was at first she thoughtit must be a walrus or hippopotamus, but then she remembered how smallshe was now, and she soon made out that it was only a mouse that hadslipped in like herself.'Would it be of any use, now,' thought Alice, 'to speak to this mouseEverything is so outoftheway down here, that I should think verylikely it can talk at any rate, there's no harm in trying.' So shebegan 'O Mouse, do you know the way out of this pool I am very tiredof swimming about here, O Mouse' Alice thought this must be the rightway of speaking to a mouse she had never done such a thing before, butshe remembered having seen in her brother's Latin Grammar, 'A mouseofa mouseto a mousea mouseO mouse' The Mouse looked at her ratherinquisitively, and seemed to her to wink with one of its little eyes,but it said nothing.'Perhaps it doesn't understand English,' thought Alice; 'I daresay it'sa French mouse, come over with William the Conqueror.' For, with allher knowledge of history, Alice had no very clear notion how long agoanything had happened. So she began again 'Ou est ma chatte' whichwas the first sentence in her French lessonbook. The Mouse gave asudden leap out of the water, and seemed to quiver all over with fright.'Oh, I beg your pardon' cried Alice hastily, afraid that she had hurtthe poor animal's feelings. 'I quite forgot you didn't like cats.''Not like cats' cried the Mouse, in a shrill, passionate voice. 'WouldYOU like cats if you were me''Well, perhaps not,' said Alice in a soothing tone 'don't be angryabout it. And yet I wish I could show you our cat Dinah I think you'dtake a fancy to cats if you could only see her. She is such a dear quietthing,' Alice went on, half to herself, as she swam lazily about in thepool, 'and she sits purring so nicely by the fire, licking her paws andwashing her faceand she is such a nice soft thing to nurseand she'ssuch a capital one for catching miceoh, I beg your pardon' criedAlice again, for this time the Mouse was bristling all over, and shefelt certain it must be really offended. 'We won't talk about her anymore if you'd rather not.''We indeed' cried the Mouse, who was trembling down to the end of histail. 'As if I would talk on such a subject Our family always HATEDcats nasty, low, vulgar things Don't let me hear the name again''I won't indeed' said Alice, in a great hurry to change the subject ofconversation. 'Are youare you fondofof dogs' The Mouse did notanswer, so Alice went on eagerly 'There is such a nice little dog nearour house I should like to show you A little brighteyed terrier, youknow, with oh, such long curly brown hair And it'll fetch things whenyou throw them, and it'll sit up and beg for its dinner, and all sortsof thingsI can't remember half of themand it belongs to a farmer,you know, and he says it's so useful, it's worth a hundred pounds Hesays it kills all the rats andoh dear' cried Alice in a sorrowfultone, 'I'm afraid I've offended it again' For the Mouse was swimmingaway from her as hard as it could go, and making quite a commotion inthe pool as it went.So she called softly after it, 'Mouse dear Do come back again, and wewon't talk about cats or dogs either, if you don't like them' When theMouse heard this, it turned round and swam slowly back to her itsface was quite pale with passion, Alice thought, and it said in a lowtrembling voice, 'Let us get to the shore, and then I'll tell you myhistory, and you'll understand why it is I hate cats and dogs.'It was high time to go, for the pool was getting quite crowded with thebirds and animals that had fallen into it there were a Duck and a Dodo,a Lory and an Eaglet, and several other curious creatures. Alice led theway, and the whole party swam to the shore.CHAPTER III. A CaucusRace and a Long TaleThey were indeed a queerlooking party that assembled on the bankthebirds with draggled feathers, the animals with their fur clinging closeto them, and all dripping wet, cross, and uncomfortable.The first question of course was, how to get dry again they had aconsultation about this, and after a few minutes it seemed quite naturalto Alice to find herself talking familiarly with them, as if she hadknown them all her life. Indeed, she had quite a long argument with theLory, who at last turned sulky, and would only say, 'I am older thanyou, and must know better'; and this Alice would not allow withoutknowing how old it was, and, as the Lory positively refused to tell itsage, there was no more to be said.At last the Mouse, who seemed to be a person of authority among them,called out, 'Sit down, all of you, and listen to me I'LL soon make youdry enough' They all sat down at once, in a large ring, with the Mousein the middle. Alice kept her eyes anxiously fixed on it, for she feltsure she would catch a bad cold if she did not get dry very soon.'Ahem' said the Mouse with an important air, 'are you all ready Thisis the driest thing I know. Silence all round, if you please Williamthe Conqueror, whose cause was favoured by the pope, was soon submittedto by the English, who wanted leaders, and had been of late muchaccustomed to usurpation and conquest. Edwin and Morcar, the earls ofMercia and Northumbria''Ugh' said the Lory, with a shiver.'I beg your pardon' said the Mouse, frowning, but very politely 'Didyou speak''Not I' said the Lory hastily.'I thought you did,' said the Mouse. 'I proceed. Edwin and Morcar,the earls of Mercia and Northumbria, declared for him and even Stigand,the patriotic archbishop of Canterbury, found it advisable''Found WHAT' said the Duck.'Found IT,' the Mouse replied rather crossly 'of course you know whatit means.''I know what it means well enough, when I find a thing,' said theDuck 'it's generally a frog or a worm. The question is, what did thearchbishop find'The Mouse did not notice this question, but hurriedly went on, 'foundit advisable to go with Edgar Atheling to meet William and offer him thecrown. William's conduct at first was moderate. But the insolence of hisNormans How are you getting on now, my dear' it continued, turningto Alice as it spoke.'As wet as ever,' said Alice in a melancholy tone 'it doesn't seem todry me at all.''In that case,' said the Dodo solemnly, rising to its feet, 'I movethat the meeting adjourn, for the immediate adoption of more energeticremedies''Speak English' said the Eaglet. 'I don't know the meaning of halfthose long words, and, what's more, I don't believe you do either' Andthe Eaglet bent down its head to hide a smile some of the other birdstittered audibly.'What I was going to say,' said the Dodo in an offended tone, 'was, thatthe best thing to get us dry would be a Caucusrace.''What IS a Caucusrace' said Alice; not that she wanted much to know,but the Dodo had paused as if it thought that SOMEBODY ought to speak,and no one else seemed inclined to say anything.'Why,' said the Dodo, 'the best way to explain it is to do it.' And, asyou might like to try the thing yourself, some winter day, I will tellyou how the Dodo managed it.First it marked out a racecourse, in a sort of circle, 'the exactshape doesn't matter,' it said, and then all the party were placedalong the course, here and there. There was no 'One, two, three, andaway,' but they began running when they liked, and left off when theyliked, so that it was not easy to know when the race was over. However,when they had been running half an hour or so, and were quite dry again,the Dodo suddenly called out 'The race is over' and they all crowdedround it, panting, and asking, 'But who has won'This question the Dodo could not answer without a great deal of thought,and it sat for a long time with one finger pressed upon its foreheadthe position in which you usually see Shakespeare, in the picturesof him, while the rest waited in silence. At last the Dodo said,'EVERYBODY has won, and all must have prizes.''But who is to give the prizes' quite a chorus of voices asked.'Why, SHE, of course,' said the Dodo, pointing to Alice with one finger;and the whole party at once crowded round her, calling out in a confusedway, 'Prizes Prizes'Alice had no idea what to do, and in despair she put her hand in herpocket, and pulled out a box of comfits, luckily the salt water hadnot got into it, and handed them round as prizes. There was exactly oneapiece all round.'But she must have a prize herself, you know,' said the Mouse.'Of course,' the Dodo replied very gravely. 'What else have you got inyour pocket' he went on, turning to Alice.'Only a thimble,' said Alice sadly.'Hand it over here,' said the Dodo.Then they all crowded round her once more, while the Dodo solemnlypresented the thimble, saying 'We beg your acceptance of this elegantthimble'; and, when it had finished this short speech, they all cheered.Alice thought the whole thing very absurd, but they all looked so gravethat she did not dare to laugh; and, as she could not think of anythingto say, she simply bowed, and took the thimble, looking as solemn as shecould.The next thing was to eat the comfits this caused some noise andconfusion, as the large birds complained that they could not tastetheirs, and the small ones choked and had to be patted on the back.However, it was over at last, and they sat down again in a ring, andbegged the Mouse to tell them something more.'You promised to tell me your history, you know,' said Alice, 'and whyit is you hateC and D,' she added in a whisper, half afraid that itwould be offended again.'Mine is a long and a sad tale' said the Mouse, turning to Alice, andsighing.'It IS a long tail, certainly,' said Alice, looking down with wonder atthe Mouse's tail; 'but why do you call it sad' And she kept on puzzlingabout it while the Mouse was speaking, so that her idea of the tale wassomething like this         'Fury said to a         mouse, That he        met in the       house,     Let us      both go to       law I will        prosecute         YOU.Come,           I'll take no           denial; We          must have a        trial For      really this     morning I've    nothing    to do.     Said the      mouse to the       cur, Such        a trial,         dear Sir,            With          no jury        or judge,       would be      wasting      our      breath.       I'll be        judge, I'll         be jury,            Said         cunning          old Fury          I'll          try the            whole            cause,              and           condemn           you          to           death.''You are not attending' said the Mouse to Alice severely. 'What are youthinking of''I beg your pardon,' said Alice very humbly 'you had got to the fifthbend, I think''I had NOT' cried the Mouse, sharply and very angrily.'A knot' said Alice, always ready to make herself useful, and lookinganxiously about her. 'Oh, do let me help to undo it''I shall do nothing of the sort,' said the Mouse, getting up and walkingaway. 'You insult me by talking such nonsense''I didn't mean it' pleaded poor Alice. 'But you're so easily offended,you know'The Mouse only growled in reply.'Please come back and finish your story' Alice called after it; and theothers all joined in chorus, 'Yes, please do' but the Mouse only shookits head impatiently, and walked a little quicker.'What a pity it wouldn't stay' sighed the Lory, as soon as it was quiteout of sight; and an old Crab took the opportunity of saying to herdaughter 'Ah, my dear Let this be a lesson to you never to loseYOUR temper' 'Hold your tongue, Ma' said the young Crab, a littlesnappishly. 'You're enough to try the patience of an oyster''I wish I had our Dinah here, I know I do' said Alice aloud, addressingnobody in particular. 'She'd soon fetch it back''And who is Dinah, if I might venture to ask the question' said theLory.Alice replied eagerly, for she was always ready to talk about her pet'Dinah's our cat. And she's such a capital one for catching mice youcan't think And oh, I wish you could see her after the birds Why,she'll eat a little bird as soon as look at it'This speech caused a remarkable sensation among the party. Some of thebirds hurried off at once one old Magpie began wrapping itself up verycarefully, remarking, 'I really must be getting home; the nightairdoesn't suit my throat' and a Canary called out in a trembling voice toits children, 'Come away, my dears It's high time you were all in bed'On various pretexts they all moved off, and Alice was soon left alone.'I wish I hadn't mentioned Dinah' she said to herself in a melancholytone. 'Nobody seems to like her, down here, and I'm sure she's the bestcat in the world Oh, my dear Dinah I wonder if I shall ever see youany more' And here poor Alice began to cry again, for she felt verylonely and lowspirited. In a little while, however, she again hearda little pattering of footsteps in the distance, and she looked upeagerly, half hoping that the Mouse had changed his mind, and was comingback to finish his story.CHAPTER IV. The Rabbit Sends in a Little BillIt was the White Rabbit, trotting slowly back again, and lookinganxiously about as it went, as if it had lost something; and she heardit muttering to itself 'The Duchess The Duchess Oh my dear paws Ohmy fur and whiskers She'll get me executed, as sure as ferrets areferrets Where CAN I have dropped them, I wonder' Alice guessed in amoment that it was looking for the fan and the pair of white kid gloves,and she very goodnaturedly began hunting about for them, but they werenowhere to be seeneverything seemed to have changed since her swim inthe pool, and the great hall, with the glass table and the little door,had vanished completely.Very soon the Rabbit noticed Alice, as she went hunting about, andcalled out to her in an angry tone, 'Why, Mary Ann, what ARE you doingout here Run home this moment, and fetch me a pair of gloves and a fanQuick, now' And Alice was so much frightened that she ran off at oncein the direction it pointed to, without trying to explain the mistake ithad made.'He took me for his housemaid,' she said to herself as she ran. 'Howsurprised he'll be when he finds out who I am But I'd better take himhis fan and glovesthat is, if I can find them.' As she said this, shecame upon a neat little house, on the door of which was a bright brassplate with the name 'W. RABBIT' engraved upon it. She went in withoutknocking, and hurried upstairs, in great fear lest she should meet thereal Mary Ann, and be turned out of the house before she had found thefan and gloves.'How queer it seems,' Alice said to herself, 'to be going messages fora rabbit I suppose Dinah'll be sending me on messages next' And shebegan fancying the sort of thing that would happen 'Miss Alice Comehere directly, and get ready for your walk Coming in a minute,nurse But I've got to see that the mouse doesn't get out. Only I don'tthink,' Alice went on, 'that they'd let Dinah stop in the house if itbegan ordering people about like that'By this time she had found her way into a tidy little room with a tablein the window, and on it as she had hoped a fan and two or three pairsof tiny white kid gloves she took up the fan and a pair of the gloves,and was just going to leave the room, when her eye fell upon a littlebottle that stood near the lookingglass. There was no label this timewith the words 'DRINK ME,' but nevertheless she uncorked it and put itto her lips. 'I know SOMETHING interesting is sure to happen,' she saidto herself, 'whenever I eat or drink anything; so I'll just see whatthis bottle does. I do hope it'll make me grow large again, for reallyI'm quite tired of being such a tiny little thing'It did so indeed, and much sooner than she had expected before she haddrunk half the bottle, she found her head pressing against the ceiling,and had to stoop to save her neck from being broken. She hastily putdown the bottle, saying to herself 'That's quite enoughI hope I shan'tgrow any moreAs it is, I can't get out at the doorI do wish I hadn'tdrunk quite so much'Alas it was too late to wish that She went on growing, and growing,and very soon had to kneel down on the floor in another minute therewas not even room for this, and she tried the effect of lying down withone elbow against the door, and the other arm curled round her head.Still she went on growing, and, as a last resource, she put one arm outof the window, and one foot up the chimney, and said to herself 'Now Ican do no more, whatever happens. What WILL become of me'Luckily for Alice, the little magic bottle had now had its full effect,and she grew no larger still it was very uncomfortable, and, as thereseemed to be no sort of chance of her ever getting out of the roomagain, no wonder she felt unhappy.'It was much pleasanter at home,' thought poor Alice, 'when one wasn'talways growing larger and smaller, and being ordered about by mice andrabbits. I almost wish I hadn't gone down that rabbitholeand yetandyetit's rather curious, you know, this sort of life I do wonder whatCAN have happened to me When I used to read fairytales, I fancied thatkind of thing never happened, and now here I am in the middle of oneThere ought to be a book written about me, that there ought And when Igrow up, I'll write onebut I'm grown up now,' she added in a sorrowfultone; 'at least there's no room to grow up any more HERE.''But then,' thought Alice, 'shall I NEVER get any older than I amnow That'll be a comfort, one waynever to be an old womanbutthenalways to have lessons to learn Oh, I shouldn't like THAT''Oh, you foolish Alice' she answered herself. 'How can you learnlessons in here Why, there's hardly room for YOU, and no room at allfor any lessonbooks'And so she went on, taking first one side and then the other, and makingquite a conversation of it altogether; but after a few minutes she hearda voice outside, and stopped to listen.'Mary Ann Mary Ann' said the voice. 'Fetch me my gloves this moment'Then came a little pattering of feet on the stairs. Alice knew it wasthe Rabbit coming to look for her, and she trembled till she shook thehouse, quite forgetting that she was now about a thousand times as largeas the Rabbit, and had no reason to be afraid of it.Presently the Rabbit came up to the door, and tried to open it; but, asthe door opened inwards, and Alice's elbow was pressed hard against it,that attempt proved a failure. Alice heard it say to itself 'Then I'llgo round and get in at the window.''THAT you won't' thought Alice, and, after waiting till she fanciedshe heard the Rabbit just under the window, she suddenly spread out herhand, and made a snatch in the air. She did not get hold of anything,but she heard a little shriek and a fall, and a crash of broken glass,from which she concluded that it was just possible it had fallen into acucumberframe, or something of the sort.Next came an angry voicethe Rabbit's'Pat Pat Where are you' Andthen a voice she had never heard before, 'Sure then I'm here Diggingfor apples, yer honour''Digging for apples, indeed' said the Rabbit angrily. 'Here Come andhelp me out of THIS' Sounds of more broken glass.'Now tell me, Pat, what's that in the window''Sure, it's an arm, yer honour' He pronounced it 'arrum.''An arm, you goose Who ever saw one that size Why, it fills the wholewindow''Sure, it does, yer honour but it's an arm for all that.''Well, it's got no business there, at any rate go and take it away'There was a long silence after this, and Alice could only hear whispersnow and then; such as, 'Sure, I don't like it, yer honour, at all, atall' 'Do as I tell you, you coward' and at last she spread out herhand again, and made another snatch in the air. This time there wereTWO little shrieks, and more sounds of broken glass. 'What a number ofcucumberframes there must be' thought Alice. 'I wonder what they'll donext As for pulling me out of the window, I only wish they COULD I'msure I don't want to stay in here any longer'She waited for some time without hearing anything more at last came arumbling of little cartwheels, and the sound of a good many voicesall talking together she made out the words 'Where's the otherladderWhy, I hadn't to bring but one; Bill's got the otherBillfetch it here, ladHere, put 'em up at this cornerNo, tie 'emtogether firstthey don't reach half high enough yetOh they'lldo well enough; don't be particularHere, Bill catch hold of thisropeWill the roof bearMind that loose slateOh, it's comingdown Heads below' a loud crash'Now, who did thatIt was Bill, IfancyWho's to go down the chimneyNay, I shan't YOU do itThat Iwon't, thenBill's to go downHere, Bill the master says you're togo down the chimney''Oh So Bill's got to come down the chimney, has he' said Alice toherself. 'Shy, they seem to put everything upon Bill I wouldn't be inBill's place for a good deal this fireplace is narrow, to be sure; butI THINK I can kick a little'She drew her foot as far down the chimney as she could, and waitedtill she heard a little animal she couldn't guess of what sort it wasscratching and scrambling about in the chimney close above her then,saying to herself 'This is Bill,' she gave one sharp kick, and waited tosee what would happen next.The first thing she heard was a general chorus of 'There goes Bill'then the Rabbit's voice along'Catch him, you by the hedge' thensilence, and then another confusion of voices'Hold up his headBrandynowDon't choke himHow was it, old fellow What happened to you Tellus all about it'Last came a little feeble, squeaking voice, 'That's Bill,' thoughtAlice, 'Well, I hardly knowNo more, thank ye; I'm better nowbut I'ma deal too flustered to tell youall I know is, something comes at melike a Jackinthebox, and up I goes like a skyrocket''So you did, old fellow' said the others.'We must burn the house down' said the Rabbit's voice; and Alice calledout as loud as she could, 'If you do. I'll set Dinah at you'There was a dead silence instantly, and Alice thought to herself, 'Iwonder what they WILL do next If they had any sense, they'd take theroof off.' After a minute or two, they began moving about again, andAlice heard the Rabbit say, 'A barrowful will do, to begin with.''A barrowful of WHAT' thought Alice; but she had not long to doubt,for the next moment a shower of little pebbles came rattling in at thewindow, and some of them hit her in the face. 'I'll put a stop to this,'she said to herself, and shouted out, 'You'd better not do that again'which produced another dead silence.Alice noticed with some surprise that the pebbles were all turning intolittle cakes as they lay on the floor, and a bright idea came into herhead. 'If I eat one of these cakes,' she thought, 'it's sure to makeSOME change in my size; and as it can't possibly make me larger, it mustmake me smaller, I suppose.'So she swallowed one of the cakes, and was delighted to find that shebegan shrinking directly. As soon as she was small enough to get throughthe door, she ran out of the house, and found quite a crowd of littleanimals and birds waiting outside. The poor little Lizard, Bill, wasin the middle, being held up by two guineapigs, who were giving itsomething out of a bottle. They all made a rush at Alice the moment sheappeared; but she ran off as hard as she could, and soon found herselfsafe in a thick wood.'The first thing I've got to do,' said Alice to herself, as she wanderedabout in the wood, 'is to grow to my right size again; and the secondthing is to find my way into that lovely garden. I think that will bethe best plan.'It sounded an excellent plan, no doubt, and very neatly and simplyarranged; the only difficulty was, that she had not the smallest ideahow to set about it; and while she was peering about anxiously amongthe trees, a little sharp bark just over her head made her look up in agreat hurry.An enormous puppy was looking down at her with large round eyes, andfeebly stretching out one paw, trying to touch her. 'Poor little thing'said Alice, in a coaxing tone, and she tried hard to whistle to it; butshe was terribly frightened all the time at the thought that it might behungry, in which case it would be very likely to eat her up in spite ofall her coaxing.Hardly knowing what she did, she picked up a little bit of stick, andheld it out to the puppy; whereupon the puppy jumped into the air offall its feet at once, with a yelp of delight, and rushed at the stick,and made believe to worry it; then Alice dodged behind a great thistle,to keep herself from being run over; and the moment she appeared on theother side, the puppy made another rush at the stick, and tumbled headover heels in its hurry to get hold of it; then Alice, thinking it wasvery like having a game of play with a carthorse, and expecting everymoment to be trampled under its feet, ran round the thistle again; thenthe puppy began a series of short charges at the stick, running a verylittle way forwards each time and a long way back, and barking hoarselyall the while, till at last it sat down a good way off, panting, withits tongue hanging out of its mouth, and its great eyes half shut.This seemed to Alice a good opportunity for making her escape; so sheset off at once, and ran till she was quite tired and out of breath, andtill the puppy's bark sounded quite faint in the distance.'And yet what a dear little puppy it was' said Alice, as she leantagainst a buttercup to rest herself, and fanned herself with one of theleaves 'I should have liked teaching it tricks very much, ifif I'donly been the right size to do it Oh dear I'd nearly forgotten thatI've got to grow up again Let me seehow IS it to be managed Isuppose I ought to eat or drink something or other; but the greatquestion is, what'The great question certainly was, what Alice looked all round her atthe flowers and the blades of grass, but she did not see anything thatlooked like the right thing to eat or drink under the circumstances.There was a large mushroom growing near her, about the same height asherself; and when she had looked under it, and on both sides of it, andbehind it, it occurred to her that she might as well look and see whatwas on the top of it.She stretched herself up on tiptoe, and peeped over the edge of themushroom, and her eyes immediately met those of a large caterpillar,that was sitting on the top with its arms folded, quietly smoking a longhookah, and taking not the smallest notice of her or of anything else.CHAPTER V. Advice from a CaterpillarThe Caterpillar and Alice looked at each other for some time in silenceat last the Caterpillar took the hookah out of its mouth, and addressedher in a languid, sleepy voice.'Who are YOU' said the Caterpillar.This was not an encouraging opening for a conversation. Alice replied,rather shyly, 'II hardly know, sir, just at presentat least I knowwho I WAS when I got up this morning, but I think I must have beenchanged several times since then.''What do you mean by that' said the Caterpillar sternly. 'Explainyourself''I can't explain MYSELF, I'm afraid, sir' said Alice, 'because I'm notmyself, you see.''I don't see,' said the Caterpillar.'I'm afraid I can't put it more clearly,' Alice replied very politely,'for I can't understand it myself to begin with; and being so manydifferent sizes in a day is very confusing.''It isn't,' said the Caterpillar.'Well, perhaps you haven't found it so yet,' said Alice; 'but when youhave to turn into a chrysalisyou will some day, you knowand thenafter that into a butterfly, I should think you'll feel it a littlequeer, won't you''Not a bit,' said the Caterpillar.'Well, perhaps your feelings may be different,' said Alice; 'all I knowis, it would feel very queer to ME.''You' said the Caterpillar contemptuously. 'Who are YOU'Which brought them back again to the beginning of the conversation.Alice felt a little irritated at the Caterpillar's making such VERYshort remarks, and she drew herself up and said, very gravely, 'I think,you ought to tell me who YOU are, first.''Why' said the Caterpillar.Here was another puzzling question; and as Alice could not think of anygood reason, and as the Caterpillar seemed to be in a VERY unpleasantstate of mind, she turned away.'Come back' the Caterpillar called after her. 'I've something importantto say'This sounded promising, certainly Alice turned and came back again.'Keep your temper,' said the Caterpillar.'Is that all' said Alice, swallowing down her anger as well as shecould.'No,' said the Caterpillar.Alice thought she might as well wait, as she had nothing else to do, andperhaps after all it might tell her something worth hearing. For someminutes it puffed away without speaking, but at last it unfolded itsarms, took the hookah out of its mouth again, and said, 'So you thinkyou're changed, do you''I'm afraid I am, sir,' said Alice; 'I can't remember things as Iusedand I don't keep the same size for ten minutes together''Can't remember WHAT things' said the Caterpillar.'Well, I've tried to say HOW DOTH THE LITTLE BUSY BEE, but it all camedifferent' Alice replied in a very melancholy voice.'Repeat, YOU ARE OLD, FATHER WILLIAM,' said the Caterpillar.Alice folded her hands, and began   'You are old, Father William,' the young man said,    'And your hair has become very white;   And yet you incessantly stand on your head    Do you think, at your age, it is right'   'In my youth,' Father William replied to his son,    'I feared it might injure the brain;   But, now that I'm perfectly sure I have none,    Why, I do it again and again.'   'You are old,' said the youth, 'as I mentioned before,    And have grown most uncommonly fat;   Yet you turned a backsomersault in at the door    Pray, what is the reason of that'   'In my youth,' said the sage, as he shook his grey locks,    'I kept all my limbs very supple   By the use of this ointmentone shilling the box    Allow me to sell you a couple'   'You are old,' said the youth, 'and your jaws are too weak    For anything tougher than suet;   Yet you finished the goose, with the bones and the beak    Pray how did you manage to do it'   'In my youth,' said his father, 'I took to the law,    And argued each case with my wife;   And the muscular strength, which it gave to my jaw,    Has lasted the rest of my life.'   'You are old,' said the youth, 'one would hardly suppose    That your eye was as steady as ever;   Yet you balanced an eel on the end of your nose    What made you so awfully clever'   'I have answered three questions, and that is enough,'    Said his father; 'don't give yourself airs   Do you think I can listen all day to such stuff    Be off, or I'll kick you down stairs''That is not said right,' said the Caterpillar.'Not QUITE right, I'm afraid,' said Alice, timidly; 'some of the wordshave got altered.''It is wrong from beginning to end,' said the Caterpillar decidedly, andthere was silence for some minutes.The Caterpillar was the first to speak.'What size do you want to be' it asked.'Oh, I'm not particular as to size,' Alice hastily replied; 'only onedoesn't like changing so often, you know.''I DON'T know,' said the Caterpillar.Alice said nothing she had never been so much contradicted in her lifebefore, and she felt that she was losing her temper.'Are you content now' said the Caterpillar.'Well, I should like to be a LITTLE larger, sir, if you wouldn't mind,'said Alice 'three inches is such a wretched height to be.''It is a very good height indeed' said the Caterpillar angrily, rearingitself upright as it spoke it was exactly three inches high.'But I'm not used to it' pleaded poor Alice in a piteous tone. Andshe thought of herself, 'I wish the creatures wouldn't be so easilyoffended''You'll get used to it in time,' said the Caterpillar; and it put thehookah into its mouth and began smoking again.This time Alice waited patiently until it chose to speak again. Ina minute or two the Caterpillar took the hookah out of its mouthand yawned once or twice, and shook itself. Then it got down off themushroom, and crawled away in the grass, merely remarking as it went,'One side will make you grow taller, and the other side will make yougrow shorter.''One side of WHAT The other side of WHAT' thought Alice to herself.'Of the mushroom,' said the Caterpillar, just as if she had asked italoud; and in another moment it was out of sight.Alice remained looking thoughtfully at the mushroom for a minute, tryingto make out which were the two sides of it; and as it was perfectlyround, she found this a very difficult question. However, at last shestretched her arms round it as far as they would go, and broke off a bitof the edge with each hand.'And now which is which' she said to herself, and nibbled a little ofthe righthand bit to try the effect the next moment she felt a violentblow underneath her chin it had struck her footShe was a good deal frightened by this very sudden change, but she feltthat there was no time to be lost, as she was shrinking rapidly; so sheset to work at once to eat some of the other bit. Her chin was pressedso closely against her foot, that there was hardly room to open hermouth; but she did it at last, and managed to swallow a morsel of thelefthand bit.                                                                            'Come, my head's free at last' said Alice in a tone of delight, whichchanged into alarm in another moment, when she found that her shoulderswere nowhere to be found all she could see, when she looked down, wasan immense length of neck, which seemed to rise like a stalk out of asea of green leaves that lay far below her.'What CAN all that green stuff be' said Alice. 'And where HAVE myshoulders got to And oh, my poor hands, how is it I can't see you'She was moving them about as she spoke, but no result seemed to follow,except a little shaking among the distant green leaves.As there seemed to be no chance of getting her hands up to her head, shetried to get her head down to them, and was delighted to find that herneck would bend about easily in any direction, like a serpent. She hadjust succeeded in curving it down into a graceful zigzag, and was goingto dive in among the leaves, which she found to be nothing but the topsof the trees under which she had been wandering, when a sharp hiss madeher draw back in a hurry a large pigeon had flown into her face, andwas beating her violently with its wings.'Serpent' screamed the Pigeon.'I'm NOT a serpent' said Alice indignantly. 'Let me alone''Serpent, I say again' repeated the Pigeon, but in a more subdued tone,and added with a kind of sob, 'I've tried every way, and nothing seemsto suit them''I haven't the least idea what you're talking about,' said Alice.'I've tried the roots of trees, and I've tried banks, and I've triedhedges,' the Pigeon went on, without attending to her; 'but thoseserpents There's no pleasing them'Alice was more and more puzzled, but she thought there was no use insaying anything more till the Pigeon had finished.'As if it wasn't trouble enough hatching the eggs,' said the Pigeon;'but I must be on the lookout for serpents night and day Why, Ihaven't had a wink of sleep these three weeks''I'm very sorry you've been annoyed,' said Alice, who was beginning tosee its meaning.'And just as I'd taken the highest tree in the wood,' continued thePigeon, raising its voice to a shriek, 'and just as I was thinking Ishould be free of them at last, they must needs come wriggling down fromthe sky Ugh, Serpent''But I'm NOT a serpent, I tell you' said Alice. 'I'm aI'm a''Well WHAT are you' said the Pigeon. 'I can see you're trying toinvent something''II'm a little girl,' said Alice, rather doubtfully, as she rememberedthe number of changes she had gone through that day.'A likely story indeed' said the Pigeon in a tone of the deepestcontempt. 'I've seen a good many little girls in my time, but never ONEwith such a neck as that No, no You're a serpent; and there's no usedenying it. I suppose you'll be telling me next that you never tasted anegg''I HAVE tasted eggs, certainly,' said Alice, who was a very truthfulchild; 'but little girls eat eggs quite as much as serpents do, youknow.''I don't believe it,' said the Pigeon; 'but if they do, why then they'rea kind of serpent, that's all I can say.'This was such a new idea to Alice, that she was quite silent for aminute or two, which gave the Pigeon the opportunity of adding, 'You'relooking for eggs, I know THAT well enough; and what does it matter to mewhether you're a little girl or a serpent''It matters a good deal to ME,' said Alice hastily; 'but I'm not lookingfor eggs, as it happens; and if I was, I shouldn't want YOURS I don'tlike them raw.''Well, be off, then' said the Pigeon in a sulky tone, as it settleddown again into its nest. Alice crouched down among the trees as well asshe could, for her neck kept getting entangled among the branches, andevery now and then she had to stop and untwist it. After a while sheremembered that she still held the pieces of mushroom in her hands, andshe set to work very carefully, nibbling first at one and then at theother, and growing sometimes taller and sometimes shorter, until she hadsucceeded in bringing herself down to her usual height.It was so long since she had been anything near the right size, that itfelt quite strange at first; but she got used to it in a few minutes,and began talking to herself, as usual. 'Come, there's half my plan donenow How puzzling all these changes are I'm never sure what I'm goingto be, from one minute to another However, I've got back to my rightsize the next thing is, to get into that beautiful gardenhow IS thatto be done, I wonder' As she said this, she came suddenly upon an openplace, with a little house in it about four feet high. 'Whoever livesthere,' thought Alice, 'it'll never do to come upon them THIS size why,I should frighten them out of their wits' So she began nibbling at therighthand bit again, and did not venture to go near the house till shehad brought herself down to nine inches high.CHAPTER VI. Pig and PepperFor a minute or two she stood looking at the house, and wondering whatto do next, when suddenly a footman in livery came running out of thewoodshe considered him to be a footman because he was in liveryotherwise, judging by his face only, she would have called him afishand rapped loudly at the door with his knuckles. It was openedby another footman in livery, with a round face, and large eyes like afrog; and both footmen, Alice noticed, had powdered hair that curled allover their heads. She felt very curious to know what it was all about,and crept a little way out of the wood to listen.The FishFootman began by producing from under his arm a great letter,nearly as large as himself, and this he handed over to the other,saying, in a solemn tone, 'For the Duchess. An invitation from the Queento play croquet.' The FrogFootman repeated, in the same solemn tone,only changing the order of the words a little, 'From the Queen. Aninvitation for the Duchess to play croquet.'Then they both bowed low, and their curls got entangled together.Alice laughed so much at this, that she had to run back into thewood for fear of their hearing her; and when she next peeped out theFishFootman was gone, and the other was sitting on the ground near thedoor, staring stupidly up into the sky.Alice went timidly up to the door, and knocked.'There's no sort of use in knocking,' said the Footman, 'and that fortwo reasons. First, because I'm on the same side of the door as youare; secondly, because they're making such a noise inside, no one couldpossibly hear you.' And certainly there was a most extraordinary noisegoing on withina constant howling and sneezing, and every now and thena great crash, as if a dish or kettle had been broken to pieces.'Please, then,' said Alice, 'how am I to get in''There might be some sense in your knocking,' the Footman went onwithout attending to her, 'if we had the door between us. For instance,if you were INSIDE, you might knock, and I could let you out, you know.'He was looking up into the sky all the time he was speaking, and thisAlice thought decidedly uncivil. 'But perhaps he can't help it,' shesaid to herself; 'his eyes are so VERY nearly at the top of his head.But at any rate he might answer questions.How am I to get in' sherepeated, aloud.'I shall sit here,' the Footman remarked, 'till tomorrow'At this moment the door of the house opened, and a large plate cameskimming out, straight at the Footman's head it just grazed his nose,and broke to pieces against one of the trees behind him.'or next day, maybe,' the Footman continued in the same tone, exactlyas if nothing had happened.'How am I to get in' asked Alice again, in a louder tone.'ARE you to get in at all' said the Footman. 'That's the firstquestion, you know.'It was, no doubt only Alice did not like to be told so. 'It's reallydreadful,' she muttered to herself, 'the way all the creatures argue.It's enough to drive one crazy'The Footman seemed to think this a good opportunity for repeating hisremark, with variations. 'I shall sit here,' he said, 'on and off, fordays and days.''But what am I to do' said Alice.'Anything you like,' said the Footman, and began whistling.'Oh, there's no use in talking to him,' said Alice desperately 'he'sperfectly idiotic' And she opened the door and went in.The door led right into a large kitchen, which was full of smoke fromone end to the other the Duchess was sitting on a threelegged stool inthe middle, nursing a baby; the cook was leaning over the fire, stirringa large cauldron which seemed to be full of soup.'There's certainly too much pepper in that soup' Alice said to herself,as well as she could for sneezing.There was certainly too much of it in the air. Even the Duchesssneezed occasionally; and as for the baby, it was sneezing and howlingalternately without a moment's pause. The only things in the kitchenthat did not sneeze, were the cook, and a large cat which was sitting onthe hearth and grinning from ear to ear.'Please would you tell me,' said Alice, a little timidly, for she wasnot quite sure whether it was good manners for her to speak first, 'whyyour cat grins like that''It's a Cheshire cat,' said the Duchess, 'and that's why. Pig'She said the last word with such sudden violence that Alice quitejumped; but she saw in another moment that it was addressed to the baby,and not to her, so she took courage, and went on again'I didn't know that Cheshire cats always grinned; in fact, I didn't knowthat cats COULD grin.''They all can,' said the Duchess; 'and most of 'em do.''I don't know of any that do,' Alice said very politely, feeling quitepleased to have got into a conversation.'You don't know much,' said the Duchess; 'and that's a fact.'Alice did not at all like the tone of this remark, and thought it wouldbe as well to introduce some other subject of conversation. While shewas trying to fix on one, the cook took the cauldron of soup off thefire, and at once set to work throwing everything within her reach atthe Duchess and the babythe fireirons came first; then followed ashower of saucepans, plates, and dishes. The Duchess took no notice ofthem even when they hit her; and the baby was howling so much already,that it was quite impossible to say whether the blows hurt it or not.'Oh, PLEASE mind what you're doing' cried Alice, jumping up and down inan agony of terror. 'Oh, there goes his PRECIOUS nose'; as an unusuallylarge saucepan flew close by it, and very nearly carried it off.'If everybody minded their own business,' the Duchess said in a hoarsegrowl, 'the world would go round a deal faster than it does.''Which would NOT be an advantage,' said Alice, who felt very glad to getan opportunity of showing off a little of her knowledge. 'Just think ofwhat work it would make with the day and night You see the earth takestwentyfour hours to turn round on its axis''Talking of axes,' said the Duchess, 'chop off her head'Alice glanced rather anxiously at the cook, to see if she meant to takethe hint; but the cook was busily stirring the soup, and seemed not tobe listening, so she went on again 'Twentyfour hours, I THINK; or isit twelve I''Oh, don't bother ME,' said the Duchess; 'I never could abide figures'And with that she began nursing her child again, singing a sort oflullaby to it as she did so, and giving it a violent shake at the end ofevery line   'Speak roughly to your little boy,    And beat him when he sneezes   He only does it to annoy,    Because he knows it teases.'         CHORUS. In which the cook and the baby joined       'Wow wow wow'While the Duchess sang the second verse of the song, she kept tossingthe baby violently up and down, and the poor little thing howled so,that Alice could hardly hear the words   'I speak severely to my boy,    I beat him when he sneezes;   For he can thoroughly enjoy    The pepper when he pleases'         CHORUS.       'Wow wow wow''Here you may nurse it a bit, if you like' the Duchess said to Alice,flinging the baby at her as she spoke. 'I must go and get ready to playcroquet with the Queen,' and she hurried out of the room. The cook threwa fryingpan after her as she went out, but it just missed her.Alice caught the baby with some difficulty, as it was a queershapedlittle creature, and held out its arms and legs in all directions, 'justlike a starfish,' thought Alice. The poor little thing was snortinglike a steamengine when she caught it, and kept doubling itself up andstraightening itself out again, so that altogether, for the first minuteor two, it was as much as she could do to hold it.As soon as she had made out the proper way of nursing it, which was totwist it up into a sort of knot, and then keep tight hold of its rightear and left foot, so as to prevent its undoing itself, she carriedit out into the open air. 'IF I don't take this child away with me,'thought Alice, 'they're sure to kill it in a day or two wouldn't it bemurder to leave it behind' She said the last words out loud, and thelittle thing grunted in reply it had left off sneezing by this time.'Don't grunt,' said Alice; 'that's not at all a proper way of expressingyourself.'The baby grunted again, and Alice looked very anxiously into its face tosee what was the matter with it. There could be no doubt that it hada VERY turnup nose, much more like a snout than a real nose; also itseyes were getting extremely small for a baby altogether Alice did notlike the look of the thing at all. 'But perhaps it was only sobbing,'she thought, and looked into its eyes again, to see if there were anytears.No, there were no tears. 'If you're going to turn into a pig, my dear,'said Alice, seriously, 'I'll have nothing more to do with you. Mindnow' The poor little thing sobbed again or grunted, it was impossibleto say which, and they went on for some while in silence.Alice was just beginning to think to herself, 'Now, what am I to do withthis creature when I get it home' when it grunted again, so violently,that she looked down into its face in some alarm. This time there couldbe NO mistake about it it was neither more nor less than a pig, and shefelt that it would be quite absurd for her to carry it further.So she set the little creature down, and felt quite relieved to seeit trot away quietly into the wood. 'If it had grown up,' she saidto herself, 'it would have made a dreadfully ugly child but it makesrather a handsome pig, I think.' And she began thinking over otherchildren she knew, who might do very well as pigs, and was just sayingto herself, 'if one only knew the right way to change them' when shewas a little startled by seeing the Cheshire Cat sitting on a bough of atree a few yards off.The Cat only grinned when it saw Alice. It looked goodnatured, shethought still it had VERY long claws and a great many teeth, so shefelt that it ought to be treated with respect.'Cheshire Puss,' she began, rather timidly, as she did not at all knowwhether it would like the name however, it only grinned a little wider.'Come, it's pleased so far,' thought Alice, and she went on. 'Would youtell me, please, which way I ought to go from here''That depends a good deal on where you want to get to,' said the Cat.'I don't much care where' said Alice.'Then it doesn't matter which way you go,' said the Cat.'so long as I get SOMEWHERE,' Alice added as an explanation.'Oh, you're sure to do that,' said the Cat, 'if you only walk longenough.'Alice felt that this could not be denied, so she tried another question.'What sort of people live about here''In THAT direction,' the Cat said, waving its right paw round, 'livesa Hatter and in THAT direction,' waving the other paw, 'lives a MarchHare. Visit either you like they're both mad.''But I don't want to go among mad people,' Alice remarked.'Oh, you can't help that,' said the Cat 'we're all mad here. I'm mad.You're mad.''How do you know I'm mad' said Alice.'You must be,' said the Cat, 'or you wouldn't have come here.'Alice didn't think that proved it at all; however, she went on 'And howdo you know that you're mad''To begin with,' said the Cat, 'a dog's not mad. You grant that''I suppose so,' said Alice.'Well, then,' the Cat went on, 'you see, a dog growls when it's angry,and wags its tail when it's pleased. Now I growl when I'm pleased, andwag my tail when I'm angry. Therefore I'm mad.''I call it purring, not growling,' said Alice.'Call it what you like,' said the Cat. 'Do you play croquet with theQueen today''I should like it very much,' said Alice, 'but I haven't been invitedyet.''You'll see me there,' said the Cat, and vanished.Alice was not much surprised at this, she was getting so used to queerthings happening. While she was looking at the place where it had been,it suddenly appeared again.'Bythebye, what became of the baby' said the Cat. 'I'd nearlyforgotten to ask.''It turned into a pig,' Alice quietly said, just as if it had come backin a natural way.'I thought it would,' said the Cat, and vanished again.Alice waited a little, half expecting to see it again, but it did notappear, and after a minute or two she walked on in the direction inwhich the March Hare was said to live. 'I've seen hatters before,' shesaid to herself; 'the March Hare will be much the most interesting, andperhaps as this is May it won't be raving madat least not so mad asit was in March.' As she said this, she looked up, and there was the Catagain, sitting on a branch of a tree.'Did you say pig, or fig' said the Cat.'I said pig,' replied Alice; 'and I wish you wouldn't keep appearing andvanishing so suddenly you make one quite giddy.''All right,' said the Cat; and this time it vanished quite slowly,beginning with the end of the tail, and ending with the grin, whichremained some time after the rest of it had gone.'Well I've often seen a cat without a grin,' thought Alice; 'but a grinwithout a cat It's the most curious thing I ever saw in my life'She had not gone much farther before she came in sight of the houseof the March Hare she thought it must be the right house, because thechimneys were shaped like ears and the roof was thatched with fur. Itwas so large a house, that she did not like to go nearer till she hadnibbled some more of the lefthand bit of mushroom, and raised herself toabout two feet high even then she walked up towards it rather timidly,saying to herself 'Suppose it should be raving mad after all I almostwish I'd gone to see the Hatter instead'CHAPTER VII. A Mad TeaPartyThere was a table set out under a tree in front of the house, and theMarch Hare and the Hatter were having tea at it a Dormouse was sittingbetween them, fast asleep, and the other two were using it as acushion, resting their elbows on it, and talking over its head. 'Veryuncomfortable for the Dormouse,' thought Alice; 'only, as it's asleep, Isuppose it doesn't mind.'The table was a large one, but the three were all crowded together atone corner of it 'No room No room' they cried out when they saw Alicecoming. 'There's PLENTY of room' said Alice indignantly, and she satdown in a large armchair at one end of the table.'Have some wine,' the March Hare said in an encouraging tone.Alice looked all round the table, but there was nothing on it but tea.'I don't see any wine,' she remarked.'There isn't any,' said the March Hare.'Then it wasn't very civil of you to offer it,' said Alice angrily.'It wasn't very civil of you to sit down without being invited,' saidthe March Hare.'I didn't know it was YOUR table,' said Alice; 'it's laid for a greatmany more than three.''Your hair wants cutting,' said the Hatter. He had been looking at Alicefor some time with great curiosity, and this was his first speech.'You should learn not to make personal remarks,' Alice said with someseverity; 'it's very rude.'The Hatter opened his eyes very wide on hearing this; but all he SAIDwas, 'Why is a raven like a writingdesk''Come, we shall have some fun now' thought Alice. 'I'm glad they'vebegun asking riddles.I believe I can guess that,' she added aloud.'Do you mean that you think you can find out the answer to it' said theMarch Hare.'Exactly so,' said Alice.'Then you should say what you mean,' the March Hare went on.'I do,' Alice hastily replied; 'at leastat least I mean what Isaythat's the same thing, you know.''Not the same thing a bit' said the Hatter. 'You might just as well saythat I see what I eat is the same thing as I eat what I see''You might just as well say,' added the March Hare, 'that I like what Iget is the same thing as I get what I like''You might just as well say,' added the Dormouse, who seemed to betalking in his sleep, 'that I breathe when I sleep is the same thingas I sleep when I breathe''It IS the same thing with you,' said the Hatter, and here theconversation dropped, and the party sat silent for a minute, while Alicethought over all she could remember about ravens and writingdesks,which wasn't much.The Hatter was the first to break the silence. 'What day of the monthis it' he said, turning to Alice he had taken his watch out of hispocket, and was looking at it uneasily, shaking it every now and then,and holding it to his ear.Alice considered a little, and then said 'The fourth.''Two days wrong' sighed the Hatter. 'I told you butter wouldn't suitthe works' he added looking angrily at the March Hare.'It was the BEST butter,' the March Hare meekly replied.'Yes, but some crumbs must have got in as well,' the Hatter grumbled'you shouldn't have put it in with the breadknife.'The March Hare took the watch and looked at it gloomily then he dippedit into his cup of tea, and looked at it again but he could think ofnothing better to say than his first remark, 'It was the BEST butter,you know.'Alice had been looking over his shoulder with some curiosity. 'What afunny watch' she remarked. 'It tells the day of the month, and doesn'ttell what o'clock it is''Why should it' muttered the Hatter. 'Does YOUR watch tell you whatyear it is''Of course not,' Alice replied very readily 'but that's because itstays the same year for such a long time together.''Which is just the case with MINE,' said the Hatter.Alice felt dreadfully puzzled. The Hatter's remark seemed to have nosort of meaning in it, and yet it was certainly English. 'I don't quiteunderstand you,' she said, as politely as she could.'The Dormouse is asleep again,' said the Hatter, and he poured a littlehot tea upon its nose.The Dormouse shook its head impatiently, and said, without opening itseyes, 'Of course, of course; just what I was going to remark myself.''Have you guessed the riddle yet' the Hatter said, turning to Aliceagain.'No, I give it up,' Alice replied 'what's the answer''I haven't the slightest idea,' said the Hatter.'Nor I,' said the March Hare.Alice sighed wearily. 'I think you might do something better with thetime,' she said, 'than waste it in asking riddles that have no answers.''If you knew Time as well as I do,' said the Hatter, 'you wouldn't talkabout wasting IT. It's HIM.''I don't know what you mean,' said Alice.'Of course you don't' the Hatter said, tossing his head contemptuously.'I dare say you never even spoke to Time''Perhaps not,' Alice cautiously replied 'but I know I have to beat timewhen I learn music.''Ah that accounts for it,' said the Hatter. 'He won't stand beating.Now, if you only kept on good terms with him, he'd do almost anythingyou liked with the clock. For instance, suppose it were nine o'clock inthe morning, just time to begin lessons you'd only have to whisper ahint to Time, and round goes the clock in a twinkling Halfpast one,time for dinner''I only wish it was,' the March Hare said to itself in a whisper.'That would be grand, certainly,' said Alice thoughtfully 'but thenIshouldn't be hungry for it, you know.''Not at first, perhaps,' said the Hatter 'but you could keep it tohalfpast one as long as you liked.''Is that the way YOU manage' Alice asked.The Hatter shook his head mournfully. 'Not I' he replied. 'Wequarrelled last Marchjust before HE went mad, you know' pointingwith his tea spoon at the March Hare, 'it was at the great concertgiven by the Queen of Hearts, and I had to sing     Twinkle, twinkle, little bat     How I wonder what you're atYou know the song, perhaps''I've heard something like it,' said Alice.'It goes on, you know,' the Hatter continued, 'in this way     Up above the world you fly,     Like a teatray in the sky.         Twinkle, twinkle'Here the Dormouse shook itself, and began singing in its sleep 'Twinkle,twinkle, twinkle, twinkle' and went on so long that they had to pinchit to make it stop.'Well, I'd hardly finished the first verse,' said the Hatter, 'when theQueen jumped up and bawled out, He's murdering the time Off with hishead''How dreadfully savage' exclaimed Alice.'And ever since that,' the Hatter went on in a mournful tone, 'he won'tdo a thing I ask It's always six o'clock now.'A bright idea came into Alice's head. 'Is that the reason so manyteathings are put out here' she asked.'Yes, that's it,' said the Hatter with a sigh 'it's always teatime,and we've no time to wash the things between whiles.''Then you keep moving round, I suppose' said Alice.'Exactly so,' said the Hatter 'as the things get used up.''But what happens when you come to the beginning again' Alice venturedto ask.'Suppose we change the subject,' the March Hare interrupted, yawning.'I'm getting tired of this. I vote the young lady tells us a story.''I'm afraid I don't know one,' said Alice, rather alarmed at theproposal.'Then the Dormouse shall' they both cried. 'Wake up, Dormouse' Andthey pinched it on both sides at once.The Dormouse slowly opened his eyes. 'I wasn't asleep,' he said in ahoarse, feeble voice 'I heard every word you fellows were saying.''Tell us a story' said the March Hare.'Yes, please do' pleaded Alice.'And be quick about it,' added the Hatter, 'or you'll be asleep againbefore it's done.''Once upon a time there were three little sisters,' the Dormouse beganin a great hurry; 'and their names were Elsie, Lacie, and Tillie; andthey lived at the bottom of a well''What did they live on' said Alice, who always took a great interest inquestions of eating and drinking.'They lived on treacle,' said the Dormouse, after thinking a minute ortwo.'They couldn't have done that, you know,' Alice gently remarked; 'they'dhave been ill.''So they were,' said the Dormouse; 'VERY ill.'Alice tried to fancy to herself what such an extraordinary ways ofliving would be like, but it puzzled her too much, so she went on 'Butwhy did they live at the bottom of a well''Take some more tea,' the March Hare said to Alice, very earnestly.'I've had nothing yet,' Alice replied in an offended tone, 'so I can'ttake more.''You mean you can't take LESS,' said the Hatter 'it's very easy to takeMORE than nothing.''Nobody asked YOUR opinion,' said Alice.'Who's making personal remarks now' the Hatter asked triumphantly.Alice did not quite know what to say to this so she helped herselfto some tea and breadandbutter, and then turned to the Dormouse, andrepeated her question. 'Why did they live at the bottom of a well'The Dormouse again took a minute or two to think about it, and thensaid, 'It was a treaclewell.''There's no such thing' Alice was beginning very angrily, but theHatter and the March Hare went 'Sh sh' and the Dormouse sulkilyremarked, 'If you can't be civil, you'd better finish the story foryourself.''No, please go on' Alice said very humbly; 'I won't interrupt again. Idare say there may be ONE.''One, indeed' said the Dormouse indignantly. However, he consented togo on. 'And so these three little sistersthey were learning to draw,you know''What did they draw' said Alice, quite forgetting her promise.'Treacle,' said the Dormouse, without considering at all this time.'I want a clean cup,' interrupted the Hatter 'let's all move one placeon.'He moved on as he spoke, and the Dormouse followed him the March Haremoved into the Dormouse's place, and Alice rather unwillingly tookthe place of the March Hare. The Hatter was the only one who got anyadvantage from the change and Alice was a good deal worse off thanbefore, as the March Hare had just upset the milkjug into his plate.Alice did not wish to offend the Dormouse again, so she began verycautiously 'But I don't understand. Where did they draw the treaclefrom''You can draw water out of a waterwell,' said the Hatter; 'so I shouldthink you could draw treacle out of a treaclewelleh, stupid''But they were IN the well,' Alice said to the Dormouse, not choosing tonotice this last remark.'Of course they were', said the Dormouse; 'well in.'This answer so confused poor Alice, that she let the Dormouse go on forsome time without interrupting it.'They were learning to draw,' the Dormouse went on, yawning and rubbingits eyes, for it was getting very sleepy; 'and they drew all manner ofthingseverything that begins with an M''Why with an M' said Alice.'Why not' said the March Hare.Alice was silent.The Dormouse had closed its eyes by this time, and was going off intoa doze; but, on being pinched by the Hatter, it woke up again witha little shriek, and went on 'that begins with an M, such asmousetraps, and the moon, and memory, and muchnessyou know you saythings are much of a muchnessdid you ever see such a thing as adrawing of a muchness''Really, now you ask me,' said Alice, very much confused, 'I don'tthink''Then you shouldn't talk,' said the Hatter.This piece of rudeness was more than Alice could bear she got up ingreat disgust, and walked off; the Dormouse fell asleep instantly, andneither of the others took the least notice of her going, though shelooked back once or twice, half hoping that they would call after herthe last time she saw them, they were trying to put the Dormouse intothe teapot.'At any rate I'll never go THERE again' said Alice as she picked herway through the wood. 'It's the stupidest teaparty I ever was at in allmy life'Just as she said this, she noticed that one of the trees had a doorleading right into it. 'That's very curious' she thought. 'Buteverything's curious today. I think I may as well go in at once.' And inshe went.Once more she found herself in the long hall, and close to the littleglass table. 'Now, I'll manage better this time,' she said to herself,and began by taking the little golden key, and unlocking the door thatled into the garden. Then she went to work nibbling at the mushroom shehad kept a piece of it in her pocket till she was about a foot highthen she walked down the little passage and THENshe found herself atlast in the beautiful garden, among the bright flowerbeds and the coolfountains.CHAPTER VIII. The Queen's CroquetGroundA large rosetree stood near the entrance of the garden the rosesgrowing on it were white, but there were three gardeners at it, busilypainting them red. Alice thought this a very curious thing, and she wentnearer to watch them, and just as she came up to them she heard one ofthem say, 'Look out now, Five Don't go splashing paint over me likethat''I couldn't help it,' said Five, in a sulky tone; 'Seven jogged myelbow.'On which Seven looked up and said, 'That's right, Five Always lay theblame on others''YOU'D better not talk' said Five. 'I heard the Queen say onlyyesterday you deserved to be beheaded''What for' said the one who had spoken first.'That's none of YOUR business, Two' said Seven.'Yes, it IS his business' said Five, 'and I'll tell himit was forbringing the cook tuliproots instead of onions.'Seven flung down his brush, and had just begun 'Well, of all the unjustthings' when his eye chanced to fall upon Alice, as she stood watchingthem, and he checked himself suddenly the others looked round also, andall of them bowed low.'Would you tell me,' said Alice, a little timidly, 'why you are paintingthose roses'Five and Seven said nothing, but looked at Two. Two began in a lowvoice, 'Why the fact is, you see, Miss, this here ought to have been aRED rosetree, and we put a white one in by mistake; and if the Queenwas to find it out, we should all have our heads cut off, you know.So you see, Miss, we're doing our best, afore she comes, to' At thismoment Five, who had been anxiously looking across the garden, calledout 'The Queen The Queen' and the three gardeners instantly threwthemselves flat upon their faces. There was a sound of many footsteps,and Alice looked round, eager to see the Queen.First came ten soldiers carrying clubs; these were all shaped likethe three gardeners, oblong and flat, with their hands and feet at thecorners next the ten courtiers; these were ornamented all over withdiamonds, and walked two and two, as the soldiers did. After these camethe royal children; there were ten of them, and the little dears camejumping merrily along hand in hand, in couples they were all ornamentedwith hearts. Next came the guests, mostly Kings and Queens, and amongthem Alice recognised the White Rabbit it was talking in a hurriednervous manner, smiling at everything that was said, and went by withoutnoticing her. Then followed the Knave of Hearts, carrying the King'scrown on a crimson velvet cushion; and, last of all this grandprocession, came THE KING AND QUEEN OF HEARTS.Alice was rather doubtful whether she ought not to lie down on her facelike the three gardeners, but she could not remember ever having heardof such a rule at processions; 'and besides, what would be the use ofa procession,' thought she, 'if people had all to lie down upon theirfaces, so that they couldn't see it' So she stood still where she was,and waited.When the procession came opposite to Alice, they all stopped and lookedat her, and the Queen said severely 'Who is this' She said it to theKnave of Hearts, who only bowed and smiled in reply.'Idiot' said the Queen, tossing her head impatiently; and, turning toAlice, she went on, 'What's your name, child''My name is Alice, so please your Majesty,' said Alice very politely;but she added, to herself, 'Why, they're only a pack of cards, afterall. I needn't be afraid of them''And who are THESE' said the Queen, pointing to the three gardeners whowere lying round the rosetree; for, you see, as they were lying on theirfaces, and the pattern on their backs was the same as the rest of thepack, she could not tell whether they were gardeners, or soldiers, orcourtiers, or three of her own children.'How should I know' said Alice, surprised at her own courage. 'It's nobusiness of MINE.'The Queen turned crimson with fury, and, after glaring at her for amoment like a wild beast, screamed 'Off with her head Off''Nonsense' said Alice, very loudly and decidedly, and the Queen wassilent.The King laid his hand upon her arm, and timidly said 'Consider, mydear she is only a child'The Queen turned angrily away from him, and said to the Knave 'Turn themover'The Knave did so, very carefully, with one foot.'Get up' said the Queen, in a shrill, loud voice, and the threegardeners instantly jumped up, and began bowing to the King, the Queen,the royal children, and everybody else.'Leave off that' screamed the Queen. 'You make me giddy.' And then,turning to the rosetree, she went on, 'What HAVE you been doing here''May it please your Majesty,' said Two, in a very humble tone, goingdown on one knee as he spoke, 'we were trying''I see' said the Queen, who had meanwhile been examining the roses.'Off with their heads' and the procession moved on, three of thesoldiers remaining behind to execute the unfortunate gardeners, who ranto Alice for protection.'You shan't be beheaded' said Alice, and she put them into a largeflowerpot that stood near. The three soldiers wandered about for aminute or two, looking for them, and then quietly marched off after theothers.'Are their heads off' shouted the Queen.'Their heads are gone, if it please your Majesty' the soldiers shoutedin reply.'That's right' shouted the Queen. 'Can you play croquet'The soldiers were silent, and looked at Alice, as the question wasevidently meant for her.'Yes' shouted Alice.'Come on, then' roared the Queen, and Alice joined the procession,wondering very much what would happen next.'It'sit's a very fine day' said a timid voice at her side. She waswalking by the White Rabbit, who was peeping anxiously into her face.'Very,' said Alice 'where's the Duchess''Hush Hush' said the Rabbit in a low, hurried tone. He lookedanxiously over his shoulder as he spoke, and then raised himself upontiptoe, put his mouth close to her ear, and whispered 'She's undersentence of execution.''What for' said Alice.'Did you say What a pity' the Rabbit asked.'No, I didn't,' said Alice 'I don't think it's at all a pity. I saidWhat for''She boxed the Queen's ears' the Rabbit began. Alice gave a littlescream of laughter. 'Oh, hush' the Rabbit whispered in a frightenedtone. 'The Queen will hear you You see, she came rather late, and theQueen said''Get to your places' shouted the Queen in a voice of thunder, andpeople began running about in all directions, tumbling up against eachother; however, they got settled down in a minute or two, and the gamebegan. Alice thought she had never seen such a curious croquetground inher life; it was all ridges and furrows; the balls were live hedgehogs,the mallets live flamingoes, and the soldiers had to double themselvesup and to stand on their hands and feet, to make the arches.The chief difficulty Alice found at first was in managing her flamingoshe succeeded in getting its body tucked away, comfortably enough, underher arm, with its legs hanging down, but generally, just as she had gotits neck nicely straightened out, and was going to give the hedgehog ablow with its head, it WOULD twist itself round and look up in her face,with such a puzzled expression that she could not help bursting outlaughing and when she had got its head down, and was going to beginagain, it was very provoking to find that the hedgehog had unrolleditself, and was in the act of crawling away besides all this, there wasgenerally a ridge or furrow in the way wherever she wanted to send thehedgehog to, and, as the doubledup soldiers were always getting upand walking off to other parts of the ground, Alice soon came to theconclusion that it was a very difficult game indeed.The players all played at once without waiting for turns, quarrellingall the while, and fighting for the hedgehogs; and in a very shorttime the Queen was in a furious passion, and went stamping about, andshouting 'Off with his head' or 'Off with her head' about once in aminute.Alice began to feel very uneasy to be sure, she had not as yet had anydispute with the Queen, but she knew that it might happen any minute,'and then,' thought she, 'what would become of me They're dreadfullyfond of beheading people here; the great wonder is, that there's any oneleft alive'She was looking about for some way of escape, and wondering whether shecould get away without being seen, when she noticed a curious appearancein the air it puzzled her very much at first, but, after watching ita minute or two, she made it out to be a grin, and she said to herself'It's the Cheshire Cat now I shall have somebody to talk to.''How are you getting on' said the Cat, as soon as there was mouthenough for it to speak with.Alice waited till the eyes appeared, and then nodded. 'It's no usespeaking to it,' she thought, 'till its ears have come, or at least oneof them.' In another minute the whole head appeared, and then Alice putdown her flamingo, and began an account of the game, feeling very gladshe had someone to listen to her. The Cat seemed to think that there wasenough of it now in sight, and no more of it appeared.'I don't think they play at all fairly,' Alice began, in rather acomplaining tone, 'and they all quarrel so dreadfully one can't hearoneself speakand they don't seem to have any rules in particular;at least, if there are, nobody attends to themand you've no idea howconfusing it is all the things being alive; for instance, there's thearch I've got to go through next walking about at the other end of thegroundand I should have croqueted the Queen's hedgehog just now, onlyit ran away when it saw mine coming''How do you like the Queen' said the Cat in a low voice.'Not at all,' said Alice 'she's so extremely' Just then she noticedthat the Queen was close behind her, listening so she went on,'likely to win, that it's hardly worth while finishing the game.'The Queen smiled and passed on.'Who ARE you talking to' said the King, going up to Alice, and lookingat the Cat's head with great curiosity.'It's a friend of minea Cheshire Cat,' said Alice 'allow me tointroduce it.''I don't like the look of it at all,' said the King 'however, it maykiss my hand if it likes.''I'd rather not,' the Cat remarked.'Don't be impertinent,' said the King, 'and don't look at me like that'He got behind Alice as he spoke.'A cat may look at a king,' said Alice. 'I've read that in some book,but I don't remember where.''Well, it must be removed,' said the King very decidedly, and he calledthe Queen, who was passing at the moment, 'My dear I wish you wouldhave this cat removed'The Queen had only one way of settling all difficulties, great or small.'Off with his head' she said, without even looking round.'I'll fetch the executioner myself,' said the King eagerly, and hehurried off.Alice thought she might as well go back, and see how the game was goingon, as she heard the Queen's voice in the distance, screaming withpassion. She had already heard her sentence three of the players to beexecuted for having missed their turns, and she did not like the lookof things at all, as the game was in such confusion that she never knewwhether it was her turn or not. So she went in search of her hedgehog.The hedgehog was engaged in a fight with another hedgehog, which seemedto Alice an excellent opportunity for croqueting one of them with theother the only difficulty was, that her flamingo was gone across to theother side of the garden, where Alice could see it trying in a helplesssort of way to fly up into a tree.By the time she had caught the flamingo and brought it back, the fightwas over, and both the hedgehogs were out of sight 'but it doesn'tmatter much,' thought Alice, 'as all the arches are gone from this sideof the ground.' So she tucked it away under her arm, that it might notescape again, and went back for a little more conversation with herfriend.When she got back to the Cheshire Cat, she was surprised to find quite alarge crowd collected round it there was a dispute going on betweenthe executioner, the King, and the Queen, who were all talking at once,while all the rest were quite silent, and looked very uncomfortable.The moment Alice appeared, she was appealed to by all three to settlethe question, and they repeated their arguments to her, though, as theyall spoke at once, she found it very hard indeed to make out exactlywhat they said.The executioner's argument was, that you couldn't cut off a head unlessthere was a body to cut it off from that he had never had to do such athing before, and he wasn't going to begin at HIS time of life.The King's argument was, that anything that had a head could bebeheaded, and that you weren't to talk nonsense.The Queen's argument was, that if something wasn't done about it in lessthan no time she'd have everybody executed, all round. It was this lastremark that had made the whole party look so grave and anxious.Alice could think of nothing else to say but 'It belongs to the Duchessyou'd better ask HER about it.''She's in prison,' the Queen said to the executioner 'fetch her here.'And the executioner went off like an arrow. The Cat's head began fading away the moment he was gone, and,by the time he had come back with the Duchess, it had entirelydisappeared; so the King and the executioner ran wildly up and downlooking for it, while the rest of the party went back to the game.CHAPTER IX. The Mock Turtle's Story'You can't think how glad I am to see you again, you dear old thing'said the Duchess, as she tucked her arm affectionately into Alice's, andthey walked off together.Alice was very glad to find her in such a pleasant temper, and thoughtto herself that perhaps it was only the pepper that had made her sosavage when they met in the kitchen.'When I'M a Duchess,' she said to herself, not in a very hopeful tonethough, 'I won't have any pepper in my kitchen AT ALL. Soup does verywell withoutMaybe it's always pepper that makes people hottempered,'she went on, very much pleased at having found out a new kind ofrule, 'and vinegar that makes them sourand camomile that makesthem bitterandand barleysugar and such things that make childrensweettempered. I only wish people knew that then they wouldn't be sostingy about it, you know'She had quite forgotten the Duchess by this time, and was a littlestartled when she heard her voice close to her ear. 'You're thinkingabout something, my dear, and that makes you forget to talk. I can'ttell you just now what the moral of that is, but I shall remember it ina bit.''Perhaps it hasn't one,' Alice ventured to remark.'Tut, tut, child' said the Duchess. 'Everything's got a moral, if onlyyou can find it.' And she squeezed herself up closer to Alice's side asshe spoke.Alice did not much like keeping so close to her first, because theDuchess was VERY ugly; and secondly, because she was exactly theright height to rest her chin upon Alice's shoulder, and it was anuncomfortably sharp chin. However, she did not like to be rude, so shebore it as well as she could.'The game's going on rather better now,' she said, by way of keeping upthe conversation a little.''Tis so,' said the Duchess 'and the moral of that isOh, 'tis love,'tis love, that makes the world go round''Somebody said,' Alice whispered, 'that it's done by everybody mindingtheir own business''Ah, well It means much the same thing,' said the Duchess, digging hersharp little chin into Alice's shoulder as she added, 'and the moralof THAT isTake care of the sense, and the sounds will take care ofthemselves.''How fond she is of finding morals in things' Alice thought to herself.'I dare say you're wondering why I don't put my arm round your waist,'the Duchess said after a pause 'the reason is, that I'm doubtful aboutthe temper of your flamingo. Shall I try the experiment''HE might bite,' Alice cautiously replied, not feeling at all anxious tohave the experiment tried.'Very true,' said the Duchess 'flamingoes and mustard both bite. Andthe moral of that isBirds of a feather flock together.''Only mustard isn't a bird,' Alice remarked.'Right, as usual,' said the Duchess 'what a clear way you have ofputting things''It's a mineral, I THINK,' said Alice.'Of course it is,' said the Duchess, who seemed ready to agree toeverything that Alice said; 'there's a large mustardmine near here. Andthe moral of that isThe more there is of mine, the less there is ofyours.''Oh, I know' exclaimed Alice, who had not attended to this last remark,'it's a vegetable. It doesn't look like one, but it is.''I quite agree with you,' said the Duchess; 'and the moral of thatisBe what you would seem to beor if you'd like it put moresimplyNever imagine yourself not to be otherwise than what it mightappear to others that what you were or might have been was not otherwisethan what you had been would have appeared to them to be otherwise.''I think I should understand that better,' Alice said very politely, 'ifI had it written down but I can't quite follow it as you say it.''That's nothing to what I could say if I chose,' the Duchess replied, ina pleased tone.'Pray don't trouble yourself to say it any longer than that,' saidAlice.'Oh, don't talk about trouble' said the Duchess. 'I make you a presentof everything I've said as yet.''A cheap sort of present' thought Alice. 'I'm glad they don't givebirthday presents like that' But she did not venture to say it outloud.'Thinking again' the Duchess asked, with another dig of her sharplittle chin.'I've a right to think,' said Alice sharply, for she was beginning tofeel a little worried.'Just about as much right,' said the Duchess, 'as pigs have to fly; andthe m'But here, to Alice's great surprise, the Duchess's voice died away, evenin the middle of her favourite word 'moral,' and the arm that was linkedinto hers began to tremble. Alice looked up, and there stood the Queenin front of them, with her arms folded, frowning like a thunderstorm.'A fine day, your Majesty' the Duchess began in a low, weak voice.'Now, I give you fair warning,' shouted the Queen, stamping on theground as she spoke; 'either you or your head must be off, and that inabout half no time Take your choice'The Duchess took her choice, and was gone in a moment.'Let's go on with the game,' the Queen said to Alice; and Alice wastoo much frightened to say a word, but slowly followed her back to thecroquetground.The other guests had taken advantage of the Queen's absence, and wereresting in the shade however, the moment they saw her, they hurriedback to the game, the Queen merely remarking that a moment's delay wouldcost them their lives.All the time they were playing the Queen never left off quarrelling withthe other players, and shouting 'Off with his head' or 'Off with herhead' Those whom she sentenced were taken into custody by the soldiers,who of course had to leave off being arches to do this, so that bythe end of half an hour or so there were no arches left, and all theplayers, except the King, the Queen, and Alice, were in custody andunder sentence of execution.Then the Queen left off, quite out of breath, and said to Alice, 'Haveyou seen the Mock Turtle yet''No,' said Alice. 'I don't even know what a Mock Turtle is.''It's the thing Mock Turtle Soup is made from,' said the Queen.'I never saw one, or heard of one,' said Alice.'Come on, then,' said the Queen, 'and he shall tell you his history,'As they walked off together, Alice heard the King say in a low voice,to the company generally, 'You are all pardoned.' 'Come, THAT'S a goodthing' she said to herself, for she had felt quite unhappy at thenumber of executions the Queen had ordered.They very soon came upon a Gryphon, lying fast asleep in the sun.IF you don't know what a Gryphon is, look at the picture. 'Up, lazything' said the Queen, 'and take this young lady to see the MockTurtle, and to hear his history. I must go back and see after someexecutions I have ordered'; and she walked off, leaving Alice alone withthe Gryphon. Alice did not quite like the look of the creature, but onthe whole she thought it would be quite as safe to stay with it as to goafter that savage Queen so she waited.The Gryphon sat up and rubbed its eyes then it watched the Queen tillshe was out of sight then it chuckled. 'What fun' said the Gryphon,half to itself, half to Alice.'What IS the fun' said Alice.'Why, SHE,' said the Gryphon. 'It's all her fancy, that they neverexecutes nobody, you know. Come on''Everybody says come on here,' thought Alice, as she went slowlyafter it 'I never was so ordered about in all my life, never'They had not gone far before they saw the Mock Turtle in the distance,sitting sad and lonely on a little ledge of rock, and, as they camenearer, Alice could hear him sighing as if his heart would break. Shepitied him deeply. 'What is his sorrow' she asked the Gryphon, and theGryphon answered, very nearly in the same words as before, 'It's all hisfancy, that he hasn't got no sorrow, you know. Come on'So they went up to the Mock Turtle, who looked at them with large eyesfull of tears, but said nothing.'This here young lady,' said the Gryphon, 'she wants for to know yourhistory, she do.''I'll tell it her,' said the Mock Turtle in a deep, hollow tone 'sitdown, both of you, and don't speak a word till I've finished.'So they sat down, and nobody spoke for some minutes. Alice thought toherself, 'I don't see how he can EVEN finish, if he doesn't begin.' Butshe waited patiently.'Once,' said the Mock Turtle at last, with a deep sigh, 'I was a realTurtle.'These words were followed by a very long silence, broken only by anoccasional exclamation of 'Hjckrrh' from the Gryphon, and the constantheavy sobbing of the Mock Turtle. Alice was very nearly getting up andsaying, 'Thank you, sir, for your interesting story,' but she couldnot help thinking there MUST be more to come, so she sat still and saidnothing.'When we were little,' the Mock Turtle went on at last, more calmly,though still sobbing a little now and then, 'we went to school in thesea. The master was an old Turtlewe used to call him Tortoise''Why did you call him Tortoise, if he wasn't one' Alice asked.'We called him Tortoise because he taught us,' said the Mock Turtleangrily 'really you are very dull''You ought to be ashamed of yourself for asking such a simple question,'added the Gryphon; and then they both sat silent and looked at poorAlice, who felt ready to sink into the earth. At last the Gryphon saidto the Mock Turtle, 'Drive on, old fellow Don't be all day about it'and he went on in these words'Yes, we went to school in the sea, though you mayn't believe it''I never said I didn't' interrupted Alice.'You did,' said the Mock Turtle.'Hold your tongue' added the Gryphon, before Alice could speak again.The Mock Turtle went on.'We had the best of educationsin fact, we went to school every day''I'VE been to a dayschool, too,' said Alice; 'you needn't be so proudas all that.''With extras' asked the Mock Turtle a little anxiously.'Yes,' said Alice, 'we learned French and music.''And washing' said the Mock Turtle.'Certainly not' said Alice indignantly.'Ah then yours wasn't a really good school,' said the Mock Turtle ina tone of great relief. 'Now at OURS they had at the end of the bill,French, music, AND WASHINGextra.''You couldn't have wanted it much,' said Alice; 'living at the bottom ofthe sea.''I couldn't afford to learn it.' said the Mock Turtle with a sigh. 'Ionly took the regular course.''What was that' inquired Alice.'Reeling and Writhing, of course, to begin with,' the Mock Turtlereplied; 'and then the different branches of ArithmeticAmbition,Distraction, Uglification, and Derision.''I never heard of Uglification,' Alice ventured to say. 'What is it'The Gryphon lifted up both its paws in surprise. 'What Never heard ofuglifying' it exclaimed. 'You know what to beautify is, I suppose''Yes,' said Alice doubtfully 'it meanstomakeanythingprettier.''Well, then,' the Gryphon went on, 'if you don't know what to uglify is,you ARE a simpleton.'Alice did not feel encouraged to ask any more questions about it, so sheturned to the Mock Turtle, and said 'What else had you to learn''Well, there was Mystery,' the Mock Turtle replied, counting offthe subjects on his flappers, 'Mystery, ancient and modern, withSeaography then Drawlingthe Drawlingmaster was an old congereel,that used to come once a week HE taught us Drawling, Stretching, andFainting in Coils.''What was THAT like' said Alice.'Well, I can't show it you myself,' the Mock Turtle said 'I'm toostiff. And the Gryphon never learnt it.''Hadn't time,' said the Gryphon 'I went to the Classics master, though.He was an old crab, HE was.''I never went to him,' the Mock Turtle said with a sigh 'he taughtLaughing and Grief, they used to say.''So he did, so he did,' said the Gryphon, sighing in his turn; and bothcreatures hid their faces in their paws.'And how many hours a day did you do lessons' said Alice, in a hurry tochange the subject.'Ten hours the first day,' said the Mock Turtle 'nine the next, and soon.''What a curious plan' exclaimed Alice.'That's the reason they're called lessons,' the Gryphon remarked'because they lessen from day to day.'This was quite a new idea to Alice, and she thought it over a littlebefore she made her next remark. 'Then the eleventh day must have been aholiday''Of course it was,' said the Mock Turtle.'And how did you manage on the twelfth' Alice went on eagerly.'That's enough about lessons,' the Gryphon interrupted in a very decidedtone 'tell her something about the games now.'CHAPTER X. The Lobster QuadrilleThe Mock Turtle sighed deeply, and drew the back of one flapper acrosshis eyes. He looked at Alice, and tried to speak, but for a minute ortwo sobs choked his voice. 'Same as if he had a bone in his throat,'said the Gryphon and it set to work shaking him and punching him inthe back. At last the Mock Turtle recovered his voice, and, with tearsrunning down his cheeks, he went on again'You may not have lived much under the sea' 'I haven't,' saidAlice'and perhaps you were never even introduced to a lobster'Alice began to say 'I once tasted' but checked herself hastily, andsaid 'No, never' 'so you can have no idea what a delightful thing aLobster Quadrille is''No, indeed,' said Alice. 'What sort of a dance is it''Why,' said the Gryphon, 'you first form into a line along theseashore''Two lines' cried the Mock Turtle. 'Seals, turtles, salmon, and so on;then, when you've cleared all the jellyfish out of the way''THAT generally takes some time,' interrupted the Gryphon.'you advance twice''Each with a lobster as a partner' cried the Gryphon.'Of course,' the Mock Turtle said 'advance twice, set to partners''change lobsters, and retire in same order,' continued the Gryphon.'Then, you know,' the Mock Turtle went on, 'you throw the''The lobsters' shouted the Gryphon, with a bound into the air.'as far out to sea as you can''Swim after them' screamed the Gryphon.'Turn a somersault in the sea' cried the Mock Turtle, capering wildlyabout.'Change lobsters again' yelled the Gryphon at the top of its voice.'Back to land again, and that's all the first figure,' said the MockTurtle, suddenly dropping his voice; and the two creatures, who had beenjumping about like mad things all this time, sat down again very sadlyand quietly, and looked at Alice.'It must be a very pretty dance,' said Alice timidly.'Would you like to see a little of it' said the Mock Turtle.'Very much indeed,' said Alice.'Come, let's try the first figure' said the Mock Turtle to the Gryphon.'We can do without lobsters, you know. Which shall sing''Oh, YOU sing,' said the Gryphon. 'I've forgotten the words.'So they began solemnly dancing round and round Alice, every now andthen treading on her toes when they passed too close, and waving theirforepaws to mark the time, while the Mock Turtle sang this, very slowlyand sadly 'Will you walk a little faster said a whiting to a snail. There's a porpoise close behind us, and he's treading on my tail. See how eagerly the lobsters and the turtles all advance They are waiting on the shinglewill you come and join the dance Will you, won't you, will you, won't you, will you join the dance Will you, won't you, will you, won't you, won't you join the dance You can really have no notion how delightful it will be When they take us up and throw us, with the lobsters, out to sea But the snail replied Too far, too far and gave a look askance Said he thanked the whiting kindly, but he would not join the dance. Would not, could not, would not, could not, would not join the dance. Would not, could not, would not, could not, could not join the dance. 'What matters it how far we go his scaly friend replied. There is another shore, you know, upon the other side. The further off from England the nearer is to France Then turn not pale, beloved snail, but come and join the dance. Will you, won't you, will you, won't you, will you join the dance Will you, won't you, will you, won't you, won't you join the dance''Thank you, it's a very interesting dance to watch,' said Alice, feelingvery glad that it was over at last 'and I do so like that curious songabout the whiting''Oh, as to the whiting,' said the Mock Turtle, 'theyyou've seen them,of course''Yes,' said Alice, 'I've often seen them at dinn' she checked herselfhastily.'I don't know where Dinn may be,' said the Mock Turtle, 'but if you'veseen them so often, of course you know what they're like.''I believe so,' Alice replied thoughtfully. 'They have their tails intheir mouthsand they're all over crumbs.''You're wrong about the crumbs,' said the Mock Turtle 'crumbs would allwash off in the sea. But they HAVE their tails in their mouths; and thereason is' here the Mock Turtle yawned and shut his eyes.'Tell herabout the reason and all that,' he said to the Gryphon.'The reason is,' said the Gryphon, 'that they WOULD go with the lobstersto the dance. So they got thrown out to sea. So they had to fall a longway. So they got their tails fast in their mouths. So they couldn't getthem out again. That's all.''Thank you,' said Alice, 'it's very interesting. I never knew so muchabout a whiting before.''I can tell you more than that, if you like,' said the Gryphon. 'Do youknow why it's called a whiting''I never thought about it,' said Alice. 'Why''IT DOES THE BOOTS AND SHOES.' the Gryphon replied very solemnly.Alice was thoroughly puzzled. 'Does the boots and shoes' she repeatedin a wondering tone.'Why, what are YOUR shoes done with' said the Gryphon. 'I mean, whatmakes them so shiny'Alice looked down at them, and considered a little before she gave heranswer. 'They're done with blacking, I believe.''Boots and shoes under the sea,' the Gryphon went on in a deep voice,'are done with a whiting. Now you know.''And what are they made of' Alice asked in a tone of great curiosity.'Soles and eels, of course,' the Gryphon replied rather impatiently'any shrimp could have told you that.''If I'd been the whiting,' said Alice, whose thoughts were still runningon the song, 'I'd have said to the porpoise, Keep back, please wedon't want YOU with us''They were obliged to have him with them,' the Mock Turtle said 'nowise fish would go anywhere without a porpoise.''Wouldn't it really' said Alice in a tone of great surprise.'Of course not,' said the Mock Turtle 'why, if a fish came to ME, andtold me he was going a journey, I should say With what porpoise''Don't you mean purpose' said Alice.'I mean what I say,' the Mock Turtle replied in an offended tone. Andthe Gryphon added 'Come, let's hear some of YOUR adventures.''I could tell you my adventuresbeginning from this morning,' saidAlice a little timidly 'but it's no use going back to yesterday,because I was a different person then.''Explain all that,' said the Mock Turtle.'No, no The adventures first,' said the Gryphon in an impatient tone'explanations take such a dreadful time.'So Alice began telling them her adventures from the time when she firstsaw the White Rabbit. She was a little nervous about it just at first,the two creatures got so close to her, one on each side, and openedtheir eyes and mouths so VERY wide, but she gained courage as she wenton. Her listeners were perfectly quiet till she got to the part abouther repeating 'YOU ARE OLD, FATHER WILLIAM,' to the Caterpillar, and thewords all coming different, and then the Mock Turtle drew a long breath,and said 'That's very curious.''It's all about as curious as it can be,' said the Gryphon.'It all came different' the Mock Turtle repeated thoughtfully. 'Ishould like to hear her try and repeat something now. Tell her tobegin.' He looked at the Gryphon as if he thought it had some kind ofauthority over Alice.'Stand up and repeat 'TIS THE VOICE OF THE SLUGGARD,' said theGryphon.'How the creatures order one about, and make one repeat lessons'thought Alice; 'I might as well be at school at once.' However, shegot up, and began to repeat it, but her head was so full of the LobsterQuadrille, that she hardly knew what she was saying, and the words camevery queer indeed  ''Tis the voice of the Lobster; I heard him declare,  You have baked me too brown, I must sugar my hair.  As a duck with its eyelids, so he with his nose  Trims his belt and his buttons, and turns out his toes.'       later editions continued as follows  When the sands are all dry, he is gay as a lark,  And will talk in contemptuous tones of the Shark,  But, when the tide rises and sharks are around,  His voice has a timid and tremulous sound.'That's different from what I used to say when I was a child,' said theGryphon.'Well, I never heard it before,' said the Mock Turtle; 'but it soundsuncommon nonsense.'Alice said nothing; she had sat down with her face in her hands,wondering if anything would EVER happen in a natural way again.'I should like to have it explained,' said the Mock Turtle.'She can't explain it,' said the Gryphon hastily. 'Go on with the nextverse.''But about his toes' the Mock Turtle persisted. 'How COULD he turn themout with his nose, you know''It's the first position in dancing.' Alice said; but was dreadfullypuzzled by the whole thing, and longed to change the subject.'Go on with the next verse,' the Gryphon repeated impatiently 'itbegins I passed by his garden.'Alice did not dare to disobey, though she felt sure it would all comewrong, and she went on in a trembling voice  'I passed by his garden, and marked, with one eye,  How the Owl and the Panther were sharing a pie'    later editions continued as follows  The Panther took piecrust, and gravy, and meat,  While the Owl had the dish as its share of the treat.  When the pie was all finished, the Owl, as a boon,  Was kindly permitted to pocket the spoon  While the Panther received knife and fork with a growl,  And concluded the banquet'What IS the use of repeating all that stuff,' the Mock Turtleinterrupted, 'if you don't explain it as you go on It's by far the mostconfusing thing I ever heard''Yes, I think you'd better leave off,' said the Gryphon and Alice wasonly too glad to do so.'Shall we try another figure of the Lobster Quadrille' the Gryphon wenton. 'Or would you like the Mock Turtle to sing you a song''Oh, a song, please, if the Mock Turtle would be so kind,' Alicereplied, so eagerly that the Gryphon said, in a rather offended tone,'Hm No accounting for tastes Sing her Turtle Soup, will you, oldfellow'The Mock Turtle sighed deeply, and began, in a voice sometimes chokedwith sobs, to sing this   'Beautiful Soup, so rich and green,   Waiting in a hot tureen   Who for such dainties would not stoop   Soup of the evening, beautiful Soup   Soup of the evening, beautiful Soup     Beauootiful Soooop     Beauootiful Soooop   Soooop of the eeevening,     Beautiful, beautiful Soup   'Beautiful Soup Who cares for fish,   Game, or any other dish   Who would not give all else for two   Pennyworth only of beautiful Soup   Pennyworth only of beautiful Soup     Beauootiful Soooop     Beauootiful Soooop   Soooop of the eeevening,     Beautiful, beautiFUL SOUP''Chorus again' cried the Gryphon, and the Mock Turtle had just begunto repeat it, when a cry of 'The trial's beginning' was heard in thedistance.'Come on' cried the Gryphon, and, taking Alice by the hand, it hurriedoff, without waiting for the end of the song.'What trial is it' Alice panted as she ran; but the Gryphon onlyanswered 'Come on' and ran the faster, while more and more faintlycame, carried on the breeze that followed them, the melancholy words   'Soooop of the eeevening,     Beautiful, beautiful Soup'CHAPTER XI. Who Stole the TartsThe King and Queen of Hearts were seated on their throne when theyarrived, with a great crowd assembled about themall sorts of littlebirds and beasts, as well as the whole pack of cards the Knave wasstanding before them, in chains, with a soldier on each side to guardhim; and near the King was the White Rabbit, with a trumpet in one hand,and a scroll of parchment in the other. In the very middle of the courtwas a table, with a large dish of tarts upon it they looked so good,that it made Alice quite hungry to look at them'I wish they'd get thetrial done,' she thought, 'and hand round the refreshments' But thereseemed to be no chance of this, so she began looking at everything abouther, to pass away the time.Alice had never been in a court of justice before, but she had readabout them in books, and she was quite pleased to find that she knewthe name of nearly everything there. 'That's the judge,' she said toherself, 'because of his great wig.'The judge, by the way, was the King; and as he wore his crown over thewig, look at the frontispiece if you want to see how he did it, he didnot look at all comfortable, and it was certainly not becoming.'And that's the jurybox,' thought Alice, 'and those twelve creatures,'she was obliged to say 'creatures,' you see, because some of them wereanimals, and some were birds, 'I suppose they are the jurors.' She saidthis last word two or three times over to herself, being rather proud ofit for she thought, and rightly too, that very few little girls of herage knew the meaning of it at all. However, 'jurymen' would have donejust as well.The twelve jurors were all writing very busily on slates. 'What are theydoing' Alice whispered to the Gryphon. 'They can't have anything to putdown yet, before the trial's begun.''They're putting down their names,' the Gryphon whispered in reply, 'forfear they should forget them before the end of the trial.''Stupid things' Alice began in a loud, indignant voice, but she stoppedhastily, for the White Rabbit cried out, 'Silence in the court' and theKing put on his spectacles and looked anxiously round, to make out whowas talking.Alice could see, as well as if she were looking over their shoulders,that all the jurors were writing down 'stupid things' on their slates,and she could even make out that one of them didn't know how to spell'stupid,' and that he had to ask his neighbour to tell him. 'A nicemuddle their slates'll be in before the trial's over' thought Alice.One of the jurors had a pencil that squeaked. This of course, Alicecould not stand, and she went round the court and got behind him, andvery soon found an opportunity of taking it away. She did it so quicklythat the poor little juror it was Bill, the Lizard could not make outat all what had become of it; so, after hunting all about for it, he wasobliged to write with one finger for the rest of the day; and this wasof very little use, as it left no mark on the slate.'Herald, read the accusation' said the King.On this the White Rabbit blew three blasts on the trumpet, and thenunrolled the parchment scroll, and read as follows   'The Queen of Hearts, she made some tarts,      All on a summer day    The Knave of Hearts, he stole those tarts,      And took them quite away''Consider your verdict,' the King said to the jury.'Not yet, not yet' the Rabbit hastily interrupted. 'There's a greatdeal to come before that''Call the first witness,' said the King; and the White Rabbit blew threeblasts on the trumpet, and called out, 'First witness'The first witness was the Hatter. He came in with a teacup in onehand and a piece of breadandbutter in the other. 'I beg pardon, yourMajesty,' he began, 'for bringing these in but I hadn't quite finishedmy tea when I was sent for.''You ought to have finished,' said the King. 'When did you begin'The Hatter looked at the March Hare, who had followed him into thecourt, arminarm with the Dormouse. 'Fourteenth of March, I think itwas,' he said.'Fifteenth,' said the March Hare.'Sixteenth,' added the Dormouse.'Write that down,' the King said to the jury, and the jury eagerlywrote down all three dates on their slates, and then added them up, andreduced the answer to shillings and pence.'Take off your hat,' the King said to the Hatter.'It isn't mine,' said the Hatter.'Stolen' the King exclaimed, turning to the jury, who instantly made amemorandum of the fact.'I keep them to sell,' the Hatter added as an explanation; 'I've none ofmy own. I'm a hatter.'Here the Queen put on her spectacles, and began staring at the Hatter,who turned pale and fidgeted.'Give your evidence,' said the King; 'and don't be nervous, or I'll haveyou executed on the spot.'This did not seem to encourage the witness at all he kept shiftingfrom one foot to the other, looking uneasily at the Queen, and inhis confusion he bit a large piece out of his teacup instead of thebreadandbutter.Just at this moment Alice felt a very curious sensation, which puzzledher a good deal until she made out what it was she was beginning togrow larger again, and she thought at first she would get up and leavethe court; but on second thoughts she decided to remain where she was aslong as there was room for her.'I wish you wouldn't squeeze so.' said the Dormouse, who was sittingnext to her. 'I can hardly breathe.''I can't help it,' said Alice very meekly 'I'm growing.''You've no right to grow here,' said the Dormouse.'Don't talk nonsense,' said Alice more boldly 'you know you're growingtoo.''Yes, but I grow at a reasonable pace,' said the Dormouse 'not in thatridiculous fashion.' And he got up very sulkily and crossed over to theother side of the court.All this time the Queen had never left off staring at the Hatter, and,just as the Dormouse crossed the court, she said to one of the officersof the court, 'Bring me the list of the singers in the last concert' onwhich the wretched Hatter trembled so, that he shook both his shoes off.'Give your evidence,' the King repeated angrily, 'or I'll have youexecuted, whether you're nervous or not.''I'm a poor man, your Majesty,' the Hatter began, in a trembling voice,'and I hadn't begun my teanot above a week or soand what with thebreadandbutter getting so thinand the twinkling of the tea''The twinkling of the what' said the King.'It began with the tea,' the Hatter replied.'Of course twinkling begins with a T' said the King sharply. 'Do youtake me for a dunce Go on''I'm a poor man,' the Hatter went on, 'and most things twinkled afterthatonly the March Hare said''I didn't' the March Hare interrupted in a great hurry.'You did' said the Hatter.'I deny it' said the March Hare.'He denies it,' said the King 'leave out that part.''Well, at any rate, the Dormouse said' the Hatter went on, lookinganxiously round to see if he would deny it too but the Dormouse deniednothing, being fast asleep.'After that,' continued the Hatter, 'I cut some more breadandbutter''But what did the Dormouse say' one of the jury asked.'That I can't remember,' said the Hatter.'You MUST remember,' remarked the King, 'or I'll have you executed.'The miserable Hatter dropped his teacup and breadandbutter, and wentdown on one knee. 'I'm a poor man, your Majesty,' he began.'You're a very poor speaker,' said the King.Here one of the guineapigs cheered, and was immediately suppressed bythe officers of the court. As that is rather a hard word, I will justexplain to you how it was done. They had a large canvas bag, which tiedup at the mouth with strings into this they slipped the guineapig,head first, and then sat upon it.'I'm glad I've seen that done,' thought Alice. 'I've so often readin the newspapers, at the end of trials, There was some attemptsat applause, which was immediately suppressed by the officers of thecourt, and I never understood what it meant till now.''If that's all you know about it, you may stand down,' continued theKing.'I can't go no lower,' said the Hatter 'I'm on the floor, as it is.''Then you may SIT down,' the King replied.Here the other guineapig cheered, and was suppressed.'Come, that finished the guineapigs' thought Alice. 'Now we shall geton better.''I'd rather finish my tea,' said the Hatter, with an anxious look at theQueen, who was reading the list of singers.'You may go,' said the King, and the Hatter hurriedly left the court,without even waiting to put his shoes on.'and just take his head off outside,' the Queen added to one of theofficers but the Hatter was out of sight before the officer could getto the door.'Call the next witness' said the King.The next witness was the Duchess's cook. She carried the pepperbox inher hand, and Alice guessed who it was, even before she got into thecourt, by the way the people near the door began sneezing all at once.'Give your evidence,' said the King.'Shan't,' said the cook.The King looked anxiously at the White Rabbit, who said in a low voice,'Your Majesty must crossexamine THIS witness.''Well, if I must, I must,' the King said, with a melancholy air, and,after folding his arms and frowning at the cook till his eyes werenearly out of sight, he said in a deep voice, 'What are tarts made of''Pepper, mostly,' said the cook.'Treacle,' said a sleepy voice behind her.'Collar that Dormouse,' the Queen shrieked out. 'Behead that DormouseTurn that Dormouse out of court Suppress him Pinch him Off with hiswhiskers'For some minutes the whole court was in confusion, getting the Dormouseturned out, and, by the time they had settled down again, the cook haddisappeared.'Never mind' said the King, with an air of great relief. 'Call the nextwitness.' And he added in an undertone to the Queen, 'Really, my dear,YOU must crossexamine the next witness. It quite makes my foreheadache'Alice watched the White Rabbit as he fumbled over the list, feeling verycurious to see what the next witness would be like, 'for they haven'tgot much evidence YET,' she said to herself. Imagine her surprise, whenthe White Rabbit read out, at the top of his shrill little voice, thename 'Alice'CHAPTER XII. Alice's Evidence'Here' cried Alice, quite forgetting in the flurry of the moment howlarge she had grown in the last few minutes, and she jumped up in sucha hurry that she tipped over the jurybox with the edge of her skirt,upsetting all the jurymen on to the heads of the crowd below, and therethey lay sprawling about, reminding her very much of a globe of goldfishshe had accidentally upset the week before.'Oh, I BEG your pardon' she exclaimed in a tone of great dismay, andbegan picking them up again as quickly as she could, for the accident ofthe goldfish kept running in her head, and she had a vague sort of ideathat they must be collected at once and put back into the jurybox, orthey would die.'The trial cannot proceed,' said the King in a very grave voice, 'untilall the jurymen are back in their proper placesALL,' he repeated withgreat emphasis, looking hard at Alice as he said do.Alice looked at the jurybox, and saw that, in her haste, she had putthe Lizard in head downwards, and the poor little thing was waving itstail about in a melancholy way, being quite unable to move. She soon gotit out again, and put it right; 'not that it signifies much,' she saidto herself; 'I should think it would be QUITE as much use in the trialone way up as the other.'As soon as the jury had a little recovered from the shock of beingupset, and their slates and pencils had been found and handed back tothem, they set to work very diligently to write out a history of theaccident, all except the Lizard, who seemed too much overcome to doanything but sit with its mouth open, gazing up into the roof of thecourt.'What do you know about this business' the King said to Alice.'Nothing,' said Alice.'Nothing WHATEVER' persisted the King.'Nothing whatever,' said Alice.'That's very important,' the King said, turning to the jury. They werejust beginning to write this down on their slates, when the White Rabbitinterrupted 'UNimportant, your Majesty means, of course,' he said in avery respectful tone, but frowning and making faces at him as he spoke.'UNimportant, of course, I meant,' the King hastily said, and went onto himself in an undertone,'importantunimportantunimportantimportant' as if he were tryingwhich word sounded best.Some of the jury wrote it down 'important,' and some 'unimportant.'Alice could see this, as she was near enough to look over their slates;'but it doesn't matter a bit,' she thought to herself.At this moment the King, who had been for some time busily writing inhis notebook, cackled out 'Silence' and read out from his book, 'RuleFortytwo. ALL PERSONS MORE THAN A MILE HIGH TO LEAVE THE COURT.'Everybody looked at Alice.'I'M not a mile high,' said Alice.'You are,' said the King.'Nearly two miles high,' added the Queen.'Well, I shan't go, at any rate,' said Alice 'besides, that's not aregular rule you invented it just now.''It's the oldest rule in the book,' said the King.'Then it ought to be Number One,' said Alice.The King turned pale, and shut his notebook hastily. 'Consider yourverdict,' he said to the jury, in a low, trembling voice.'There's more evidence to come yet, please your Majesty,' said the WhiteRabbit, jumping up in a great hurry; 'this paper has just been pickedup.''What's in it' said the Queen.'I haven't opened it yet,' said the White Rabbit, 'but it seems to be aletter, written by the prisoner toto somebody.''It must have been that,' said the King, 'unless it was written tonobody, which isn't usual, you know.''Who is it directed to' said one of the jurymen.'It isn't directed at all,' said the White Rabbit; 'in fact, there'snothing written on the OUTSIDE.' He unfolded the paper as he spoke, andadded 'It isn't a letter, after all it's a set of verses.''Are they in the prisoner's handwriting' asked another of the jurymen.'No, they're not,' said the White Rabbit, 'and that's the queerest thingabout it.' The jury all looked puzzled.'He must have imitated somebody else's hand,' said the King. The juryall brightened up again.'Please your Majesty,' said the Knave, 'I didn't write it, and theycan't prove I did there's no name signed at the end.''If you didn't sign it,' said the King, 'that only makes the matterworse. You MUST have meant some mischief, or else you'd have signed yourname like an honest man.'There was a general clapping of hands at this it was the first reallyclever thing the King had said that day.'That PROVES his guilt,' said the Queen.'It proves nothing of the sort' said Alice. 'Why, you don't even knowwhat they're about''Read them,' said the King.The White Rabbit put on his spectacles. 'Where shall I begin, pleaseyour Majesty' he asked.'Begin at the beginning,' the King said gravely, 'and go on till youcome to the end then stop.'These were the verses the White Rabbit read   'They told me you had been to her,    And mentioned me to him   She gave me a good character,    But said I could not swim.   He sent them word I had not gone    We know it to be true   If she should push the matter on,    What would become of you   I gave her one, they gave him two,    You gave us three or more;   They all returned from him to you,    Though they were mine before.   If I or she should chance to be    Involved in this affair,   He trusts to you to set them free,    Exactly as we were.   My notion was that you had been    Before she had this fit   An obstacle that came between    Him, and ourselves, and it.   Don't let him know she liked them best,    For this must ever be   A secret, kept from all the rest,    Between yourself and me.''That's the most important piece of evidence we've heard yet,' said theKing, rubbing his hands; 'so now let the jury''If any one of them can explain it,' said Alice, she had grown so largein the last few minutes that she wasn't a bit afraid of interruptinghim, 'I'll give him sixpence. I don't believe there's an atom ofmeaning in it.'The jury all wrote down on their slates, 'SHE doesn't believe there's anatom of meaning in it,' but none of them attempted to explain the paper.'If there's no meaning in it,' said the King, 'that saves a world oftrouble, you know, as we needn't try to find any. And yet I don't know,'he went on, spreading out the verses on his knee, and looking at themwith one eye; 'I seem to see some meaning in them, after all. SAIDI COULD NOT SWIM you can't swim, can you' he added, turning to theKnave.The Knave shook his head sadly. 'Do I look like it' he said. Which hecertainly did NOT, being made entirely of cardboard.'All right, so far,' said the King, and he went on muttering overthe verses to himself 'WE KNOW IT TO BE TRUE that's the jury, ofcourseI GAVE HER ONE, THEY GAVE HIM TWO why, that must be what hedid with the tarts, you know''But, it goes on THEY ALL RETURNED FROM HIM TO YOU,' said Alice.'Why, there they are' said the King triumphantly, pointing to the tartson the table. 'Nothing can be clearer than THAT. Then againBEFORE SHEHAD THIS FIT you never had fits, my dear, I think' he said to theQueen.'Never' said the Queen furiously, throwing an inkstand at the Lizardas she spoke. The unfortunate little Bill had left off writing on hisslate with one finger, as he found it made no mark; but he now hastilybegan again, using the ink, that was trickling down his face, as long asit lasted.'Then the words don't FIT you,' said the King, looking round the courtwith a smile. There was a dead silence.'It's a pun' the King added in an offended tone, and everybody laughed,'Let the jury consider their verdict,' the King said, for about thetwentieth time that day.'No, no' said the Queen. 'Sentence firstverdict afterwards.''Stuff and nonsense' said Alice loudly. 'The idea of having thesentence first''Hold your tongue' said the Queen, turning purple.'I won't' said Alice.'Off with her head' the Queen shouted at the top of her voice. Nobodymoved.'Who cares for you' said Alice, she had grown to her full size by thistime. 'You're nothing but a pack of cards'At this the whole pack rose up into the air, and came flying down uponher she gave a little scream, half of fright and half of anger, andtried to beat them off, and found herself lying on the bank, with herhead in the lap of her sister, who was gently brushing away some deadleaves that had fluttered down from the trees upon her face.'Wake up, Alice dear' said her sister; 'Why, what a long sleep you'vehad''Oh, I've had such a curious dream' said Alice, and she told hersister, as well as she could remember them, all these strange Adventuresof hers that you have just been reading about; and when she hadfinished, her sister kissed her, and said, 'It WAS a curious dream,dear, certainly but now run in to your tea; it's getting late.' SoAlice got up and ran off, thinking while she ran, as well she might,what a wonderful dream it had been.But her sister sat still just as she left her, leaning her head on herhand, watching the setting sun, and thinking of little Alice and all herwonderful Adventures, till she too began dreaming after a fashion, andthis was her dreamFirst, she dreamed of little Alice herself, and once again the tinyhands were clasped upon her knee, and the bright eager eyes were lookingup into hersshe could hear the very tones of her voice, and see thatqueer little toss of her head to keep back the wandering hair thatWOULD always get into her eyesand still as she listened, or seemed tolisten, the whole place around her became alive with the strange creaturesof her little sister's dream.The long grass rustled at her feet as the White Rabbit hurried bythefrightened Mouse splashed his way through the neighbouring poolshecould hear the rattle of the teacups as the March Hare and his friendsshared their neverending meal, and the shrill voice of the Queenordering off her unfortunate guests to executiononce more the pigbabywas sneezing on the Duchess's knee, while plates and dishes crashedaround itonce more the shriek of the Gryphon, the squeaking of theLizard's slatepencil, and the choking of the suppressed guineapigs,filled the air, mixed up with the distant sobs of the miserable MockTurtle.So she sat on, with closed eyes, and half believed herself inWonderland, though she knew she had but to open them again, and allwould change to dull realitythe grass would be only rustling in thewind, and the pool rippling to the waving of the reedsthe rattlingteacups would change to tinkling sheepbells, and the Queen's shrillcries to the voice of the shepherd boyand the sneeze of the baby, theshriek of the Gryphon, and all the other queer noises, would change sheknew to the confused clamour of the busy farmyardwhile the lowingof the cattle in the distance would take the place of the Mock Turtle'sheavy sobs.Lastly, she pictured to herself how this same little sister of herswould, in the aftertime, be herself a grown woman; and how she wouldkeep, through all her riper years, the simple and loving heart of herchildhood and how she would gather about her other little children, andmake THEIR eyes bright and eager with many a strange tale, perhaps evenwith the dream of Wonderland of long ago and how she would feel withall their simple sorrows, and find a pleasure in all their simple joys,remembering her own childlife, and the happy summer days.              THE ENDEnd of Project Gutenberg's Alice's Adventures in Wonderland, by Lewis Carroll END OF THIS PROJECT GUTENBERG EBOOK ALICE'S ADVENTURES IN WONDERLAND  This file should be named .txt or .zip This and all associated files of various formats will be found in        httpwww.gutenberg.orgUpdated editions will replace the previous onethe old editionswill be renamed.Creating the works from public domain print editions means that noone owns a United States copyright in these works, so the Foundationand you can copy and distribute it in the United States withoutpermission and without paying copyright royalties.  Special rules,set forth in the General Terms of Use part of this license, apply tocopying and distributing Project Gutenbergtm electronic works toprotect the PROJECT GUTENBERGtm concept and trademark.  ProjectGutenberg is a registered trademark, and may not be used if youcharge for the eBooks, unless you receive specific permission.  If youdo not charge anything for copies of this eBook, complying with therules is very easy.  You may use this eBook for nearly any purposesuch as creation of derivative works, reports, performances andresearch.  They may be modified and printed and given awayyou may dopractically ANYTHING with public domain eBooks.  Redistribution issubject to the trademark license, especially commercialredistribution. START FULL LICENSE THE FULL PROJECT GUTENBERG LICENSEPLEASE READ THIS BEFORE YOU DISTRIBUTE OR USE THIS WORKTo protect the Project Gutenbergtm mission of promoting the freedistribution of electronic works, by using or distributing this workor any other work associated in any way with the phrase ProjectGutenberg, you agree to comply with all the terms of the Full ProjectGutenbergtm License available with this file or online athttpgutenberg.orglicense.Section .  General Terms of Use and Redistributing Project Gutenbergtmelectronic works.A.  By reading or using any part of this Project Gutenbergtmelectronic work, you indicate that you have read, understand, agree toand accept all the terms of this license and intellectual propertytrademarkcopyright agreement.  If you do not agree to abide by allthe terms of this agreement, you must cease using and return or destroyall copies of Project Gutenbergtm electronic works in your possession.If you paid a fee for obtaining a copy of or access to a ProjectGutenbergtm electronic work and you do not agree to be bound by theterms of this agreement, you may obtain a refund from the person orentity to whom you paid the fee as set forth in paragraph .E...B.  Project Gutenberg is a registered trademark.  It may only beused on or associated in any way with an electronic work by people whoagree to be bound by the terms of this agreement.  There are a fewthings that you can do with most Project Gutenbergtm electronic workseven without complying with the full terms of this agreement.  Seeparagraph .C below.  There are a lot of things you can do with ProjectGutenbergtm electronic works if you follow the terms of this agreementand help preserve free future access to Project Gutenbergtm electronicworks.  See paragraph .E below..C.  The Project Gutenberg Literary Archive Foundation the Foundationor PGLAF, owns a compilation copyright in the collection of ProjectGutenbergtm electronic works.  Nearly all the individual works in thecollection are in the public domain in the United States.  If anindividual work is in the public domain in the United States and you arelocated in the United States, we do not claim a right to prevent you fromcopying, distributing, performing, displaying or creating derivativeworks based on the work as long as all references to Project Gutenbergare removed.  Of course, we hope that you will support the ProjectGutenbergtm mission of promoting free access to electronic works byfreely sharing Project Gutenbergtm works in compliance with the terms ofthis agreement for keeping the Project Gutenbergtm name associated withthe work.  You can easily comply with the terms of this agreement bykeeping this work in the same format with its attached full ProjectGutenbergtm License when you share it without charge with others..D.  The copyright laws of the place where you are located also governwhat you can do with this work.  Copyright laws in most countries are ina constant state of change.  If you are outside the United States, checkthe laws of your country in addition to the terms of this agreementbefore downloading, copying, displaying, performing, distributing orcreating derivative works based on this work or any other ProjectGutenbergtm work.  The Foundation makes no representations concerningthe copyright status of any work in any country outside the UnitedStates..E.  Unless you have removed all references to Project Gutenberg.E..  The following sentence, with active links to, or other immediateaccess to, the full Project Gutenbergtm License must appear prominentlywhenever any copy of a Project Gutenbergtm work any work on which thephrase Project Gutenberg appears, or with which the phrase ProjectGutenberg is associated is accessed, displayed, performed, viewed,copied or distributedThis eBook is for the use of anyone anywhere at no cost and withalmost no restrictions whatsoever.  You may copy it, give it away orreuse it under the terms of the Project Gutenberg License includedwith this eBook or online at www.gutenberg.org.E..  If an individual Project Gutenbergtm electronic work is derivedfrom the public domain does not contain a notice indicating that it isposted with permission of the copyright holder, the work can be copiedand distributed to anyone in the United States without paying any feesor charges.  If you are redistributing or providing access to a workwith the phrase Project Gutenberg associated with or appearing on thework, you must comply either with the requirements of paragraphs .E.through .E. or obtain permission for the use of the work and theProject Gutenbergtm trademark as set forth in paragraphs .E. or.E...E..  If an individual Project Gutenbergtm electronic work is postedwith the permission of the copyright holder, your use and distributionmust comply with both paragraphs .E. through .E. and any additionalterms imposed by the copyright holder.  Additional terms will be linkedto the Project Gutenbergtm License for all works posted with thepermission of the copyright holder found at the beginning of this work..E..  Do not unlink or detach or remove the full Project GutenbergtmLicense terms from this work, or any files containing a part of thiswork or any other work associated with Project Gutenbergtm..E..  Do not copy, display, perform, distribute or redistribute thiselectronic work, or any part of this electronic work, withoutprominently displaying the sentence set forth in paragraph .E. withactive links or immediate access to the full terms of the ProjectGutenbergtm License..E..  You may convert to and distribute this work in any binary,compressed, marked up, nonproprietary or proprietary form, including anyword processing or hypertext form.  However, if you provide access to ordistribute copies of a Project Gutenbergtm work in a format other thanPlain Vanilla ASCII or other format used in the official versionposted on the official Project Gutenbergtm web site www.gutenberg.org,you must, at no additional cost, fee or expense to the user, provide acopy, a means of exporting a copy, or a means of obtaining a copy uponrequest, of the work in its original Plain Vanilla ASCII or otherform.  Any alternate format must include the full Project GutenbergtmLicense as specified in paragraph .E...E..  Do not charge a fee for access to, viewing, displaying,performing, copying or distributing any Project Gutenbergtm worksunless you comply with paragraph .E. or .E...E..  You may charge a reasonable fee for copies of or providingaccess to or distributing Project Gutenbergtm electronic works providedthat You pay a royalty fee of  of the gross profits you derive from     the use of Project Gutenbergtm works calculated using the method     you already use to calculate your applicable taxes.  The fee is     owed to the owner of the Project Gutenbergtm trademark, but he     has agreed to donate royalties under this paragraph to the     Project Gutenberg Literary Archive Foundation.  Royalty payments     must be paid within  days following each date on which you     prepare or are legally required to prepare your periodic tax     returns.  Royalty payments should be clearly marked as such and     sent to the Project Gutenberg Literary Archive Foundation at the     address specified in Section , Information about donations to     the Project Gutenberg Literary Archive Foundation. You provide a full refund of any money paid by a user who notifies     you in writing or by email within  days of receipt that she     does not agree to the terms of the full Project Gutenbergtm     License.  You must require such a user to return or     destroy all copies of the works possessed in a physical medium     and discontinue all use of and all access to other copies of     Project Gutenbergtm works. You provide, in accordance with paragraph .F., a full refund of any     money paid for a work or a replacement copy, if a defect in the     electronic work is discovered and reported to you within  days     of receipt of the work. You comply with all other terms of this agreement for free     distribution of Project Gutenbergtm works..E..  If you wish to charge a fee or distribute a Project Gutenbergtmelectronic work or group of works on different terms than are setforth in this agreement, you must obtain permission in writing fromboth the Project Gutenberg Literary Archive Foundation and MichaelHart, the owner of the Project Gutenbergtm trademark.  Contact theFoundation as set forth in Section  below..F..F..  Project Gutenberg volunteers and employees expend considerableeffort to identify, do copyright research on, transcribe and proofreadpublic domain works in creating the Project Gutenbergtmcollection.  Despite these efforts, Project Gutenbergtm electronicworks, and the medium on which they may be stored, may containDefects, such as, but not limited to, incomplete, inaccurate orcorrupt data, transcription errors, a copyright or other intellectualproperty infringement, a defective or damaged disk or other medium, acomputer virus, or computer codes that damage or cannot be read byyour equipment..F..  LIMITED WARRANTY, DISCLAIMER OF DAMAGES  Except for the Rightof Replacement or Refund described in paragraph .F., the ProjectGutenberg Literary Archive Foundation, the owner of the ProjectGutenbergtm trademark, and any other party distributing a ProjectGutenbergtm electronic work under this agreement, disclaim allliability to you for damages, costs and expenses, including legalfees.  YOU AGREE THAT YOU HAVE NO REMEDIES FOR NEGLIGENCE, STRICTLIABILITY, BREACH OF WARRANTY OR BREACH OF CONTRACT EXCEPT THOSEPROVIDED IN PARAGRAPH F.  YOU AGREE THAT THE FOUNDATION, THETRADEMARK OWNER, AND ANY DISTRIBUTOR UNDER THIS AGREEMENT WILL NOT BELIABLE TO YOU FOR ACTUAL, DIRECT, INDIRECT, CONSEQUENTIAL, PUNITIVE ORINCIDENTAL DAMAGES EVEN IF YOU GIVE NOTICE OF THE POSSIBILITY OF SUCHDAMAGE..F..  LIMITED RIGHT OF REPLACEMENT OR REFUND  If you discover adefect in this electronic work within  days of receiving it, you canreceive a refund of the money if any you paid for it by sending awritten explanation to the person you received the work from.  If youreceived the work on a physical medium, you must return the medium withyour written explanation.  The person or entity that provided you withthe defective work may elect to provide a replacement copy in lieu of arefund.  If you received the work electronically, the person or entityproviding it to you may choose to give you a second opportunity toreceive the work electronically in lieu of a refund.  If the second copyis also defective, you may demand a refund in writing without furtheropportunities to fix the problem..F..  Except for the limited right of replacement or refund set forthin paragraph .F., this work is provided to you 'ASIS' WITH NO OTHERWARRANTIES OF ANY KIND, EXPRESS OR IMPLIED, INCLUDING BUT NOT LIMITED TOWARRANTIES OF MERCHANTIBILITY OR FITNESS FOR ANY PURPOSE..F..  Some states do not allow disclaimers of certain impliedwarranties or the exclusion or limitation of certain types of damages.If any disclaimer or limitation set forth in this agreement violates thelaw of the state applicable to this agreement, the agreement shall beinterpreted to make the maximum disclaimer or limitation permitted bythe applicable state law.  The invalidity or unenforceability of anyprovision of this agreement shall not void the remaining provisions..F..  INDEMNITY  You agree to indemnify and hold the Foundation, thetrademark owner, any agent or employee of the Foundation, anyoneproviding copies of Project Gutenbergtm electronic works in accordancewith this agreement, and any volunteers associated with the production,promotion and distribution of Project Gutenbergtm electronic works,harmless from all liability, costs and expenses, including legal fees,that arise directly or indirectly from any of the following which you door cause to occur a distribution of this or any Project Gutenbergtmwork, b alteration, modification, or additions or deletions to anyProject Gutenbergtm work, and c any Defect you cause.Section  .  Information about the Mission of Project GutenbergtmProject Gutenbergtm is synonymous with the free distribution ofelectronic works in formats readable by the widest variety of computersincluding obsolete, old, middleaged and new computers.  It existsbecause of the efforts of hundreds of volunteers and donations frompeople in all walks of life.Volunteers and financial support to provide volunteers with theassistance they need, is critical to reaching Project Gutenbergtm'sgoals and ensuring that the Project Gutenbergtm collection willremain freely available for generations to come.  In , the ProjectGutenberg Literary Archive Foundation was created to provide a secureand permanent future for Project Gutenbergtm and future generations.To learn more about the Project Gutenberg Literary Archive Foundationand how your efforts and donations can help, see Sections  and and the Foundation web page at httpwww.pglaf.org.Section .  Information about the Project Gutenberg Literary ArchiveFoundationThe Project Gutenberg Literary Archive Foundation is a non profitc educational corporation organized under the laws of thestate of Mississippi and granted tax exempt status by the InternalRevenue Service.  The Foundation's EIN or federal tax identificationnumber is .  Its c letter is posted athttppglaf.orgfundraising.  Contributions to the Project GutenbergLiterary Archive Foundation are tax deductible to the full extentpermitted by U.S. federal laws and your state's laws.The Foundation's principal office is located at  Melan Dr. S.Fairbanks, AK, ., but its volunteers and employees are scatteredthroughout numerous locations.  Its business office is located at North  West, Salt Lake City, UT ,  , emailbusinesspglaf.org.  Email contact links and up to date contactinformation can be found at the Foundation's web site and officialpage at httppglaf.orgFor additional contact information     Dr. Gregory B. Newby     Chief Executive and Director     gbnewbypglaf.orgSection .  Information about Donations to the Project GutenbergLiterary Archive FoundationProject Gutenbergtm depends upon and cannot survive without widespread public support and donations to carry out its mission ofincreasing the number of public domain and licensed works that can befreely distributed in machine readable form accessible by the widestarray of equipment including outdated equipment.  Many small donations to , are particularly important to maintaining tax exemptstatus with the IRS.The Foundation is committed to complying with the laws regulatingcharities and charitable donations in all  states of the UnitedStates.  Compliance requirements are not uniform and it takes aconsiderable effort, much paperwork and many fees to meet and keep upwith these requirements.  We do not solicit donations in locationswhere we have not received written confirmation of compliance.  ToSEND DONATIONS or determine the status of compliance for anyparticular state visit httppglaf.orgWhile we cannot and do not solicit contributions from states where wehave not met the solicitation requirements, we know of no prohibitionagainst accepting unsolicited donations from donors in such states whoapproach us with offers to donate.International donations are gratefully accepted, but we cannot makeany statements concerning tax treatment of donations received fromoutside the United States.  U.S. laws alone swamp our small staff.Please check the Project Gutenberg Web pages for current donationmethods and addresses.  Donations are accepted in a number of otherways including checks, online payments and credit card donations.To donate, please visit httppglaf.orgdonateSection .  General Information About Project Gutenbergtm electronicworks.Professor Michael S. Hart is the originator of the Project Gutenbergtmconcept of a library of electronic works that could be freely sharedwith anyone.  For thirty years, he produced and distributed ProjectGutenbergtm eBooks with only a loose network of volunteer support.Project Gutenbergtm eBooks are often created from several printededitions, all of which are confirmed as Public Domain in the U.S.unless a copyright notice is included.  Thus, we do not necessarilykeep eBooks in compliance with any particular paper edition.Most people start at our Web site which has the main PG search facility     httpwww.gutenberg.orgThis Web site includes information about Project Gutenbergtm,including how to make donations to the Project Gutenberg LiteraryArchive Foundation, how to help produce our new eBooks, and how tosubscribe to our email newsletter to hear about new eBooks.\n",
            "[41 17 14 ... 10 18 53]\n"
          ],
          "name": "stdout"
        }
      ]
    },
    {
      "cell_type": "code",
      "metadata": {
        "id": "8WYPT772AmL2",
        "colab_type": "code",
        "colab": {}
      },
      "source": [
        "class CharLSTM(nn.ModuleList):\n",
        "    def __init__(self, sequence_len, vocab_size, hidden_dim, batch_size):\n",
        "        super(CharLSTM, self).__init__()\n",
        "        \n",
        "        # init the meta parameters\n",
        "        self.hidden_dim = hidden_dim\n",
        "        self.batch_size = batch_size\n",
        "        self.sequence_len = sequence_len\n",
        "        self.vocab_size = vocab_size\n",
        "        \n",
        "        # first layer lstm cell\n",
        "        self.lstm_1 = nn.LSTMCell(input_size=vocab_size, hidden_size=hidden_dim)\n",
        "        \n",
        "        # second layer lstm cell\n",
        "        self.lstm_2 = nn.LSTMCell(input_size=hidden_dim, hidden_size=hidden_dim) \n",
        "        \n",
        "        # dropout layer for the output of the second layer cell\n",
        "        self.dropout = nn.Dropout(p=0.5)\n",
        "        \n",
        "        # fully connected layer to connect the output of the LSTM cell to the output\n",
        "        self.fc = nn.Linear(in_features=hidden_dim, out_features=vocab_size)\n",
        "        \n",
        "    def forward(self, x, hc):\n",
        "        \"\"\"\n",
        "            x: input to the model\n",
        "                *  x[t] - input of shape (batch, input_size) at time t\n",
        "                \n",
        "            hc: hidden and cell states\n",
        "                *  tuple of hidden and cell state\n",
        "        \"\"\" \n",
        "        \n",
        "        # empty tensor for the output of the lstm\n",
        "        output_seq = torch.empty((self.sequence_len, \n",
        "                                  self.batch_size, \n",
        "                                  self.vocab_size)).cuda()\n",
        "        \n",
        "        # pass the hidden and the cell state from one lstm cell to the next one\n",
        "        # we also feed the output of the first layer lstm cell at time step t to the second layer cell\n",
        "        # init the both layer cells with the zero hidden and zero cell states\n",
        "        hc_1, hc_2 = hc, hc\n",
        "        \n",
        "        # for every step in the sequence\n",
        "        for t in range(self.sequence_len):\n",
        "            \n",
        "            # get the hidden and cell states from the first layer cell\n",
        "            hc_1 = self.lstm_1(x[t], hc_1)\n",
        "            \n",
        "            # unpack the hidden and the cell states from the first layer\n",
        "            h_1, c_1 = hc_1\n",
        "        \n",
        "            # pass the hidden state from the first layer to the cell in the second layer\n",
        "            hc_2 = self.lstm_2(h_1, hc_2)\n",
        "            \n",
        "            # unpack the hidden and cell states from the second layer cell\n",
        "            h_2, c_2 = hc_2\n",
        "        \n",
        "            # form the output of the fc\n",
        "            output_seq[t] = self.fc(h_2)\n",
        "        \n",
        "        # return the output sequence\n",
        "        return output_seq.view((self.sequence_len * self.batch_size, -1))\n",
        "          \n",
        "    def init_hidden(self):\n",
        "        \n",
        "        # initialize the hidden state and the cell state to zeros\n",
        "        return (torch.zeros(self.batch_size, self.hidden_dim), torch.zeros(self.batch_size, self.hidden_dim))\n",
        "\n",
        "    def init_hidden_predict(self):\n",
        "        \n",
        "        # initialize the hidden state and the cell state to zeros\n",
        "        # batch size is 1\n",
        "        return (torch.zeros(1, self.hidden_dim),torch.zeros(1, self.hidden_dim))\n",
        "    \n",
        "    def predict(self, char, top_k=5, seq_len=128):\n",
        "        ''' Given a character, predict the next character.\n",
        "        \n",
        "            Returns the predicted character and the hidden state.\n",
        "        '''\n",
        "        \n",
        "        # set the evaluation mode\n",
        "        self.eval()\n",
        "        \n",
        "        # placeholder for the generated text\n",
        "        seq = np.empty(seq_len+1)\n",
        "        seq[0] = letterToIndex(char)\n",
        "        \n",
        "        # initialize the hidden and cell states\n",
        "        h, c = self.init_hidden_predict()\n",
        "        h, c = h.cuda(), c.cuda()\n",
        "        hc = (h, c)\n",
        "        \n",
        "        # now we need to encode the character - (1, vocab_size)\n",
        "        char = to_categorical(letterToIndex(char), num_classes=self.vocab_size)\n",
        "        \n",
        "        # add the batch dimension\n",
        "        char = torch.from_numpy(char).unsqueeze(0).cuda()\n",
        "        \n",
        "        # now we need to pass the character to the first LSTM cell to obtain \n",
        "        # the predictions on the second character\n",
        "        hc_1, hc_2 = hc, hc\n",
        "        \n",
        "        # for the sequence length\n",
        "        for t in range(seq_len):\n",
        "            \n",
        "            # get the hidden and cell states from the first LSTM layer\n",
        "            hc_1 = self.lstm_1(char, hc_1)\n",
        "            h_1, _ = hc_1\n",
        "            \n",
        "            # get the hidden and cell states from the second LSTM layer\n",
        "            hc_2 = self.lstm_2(h_1, hc_2)\n",
        "            h_2, _ = hc_2            \n",
        "            \n",
        "            # pass the output of the cell through fully connected layer\n",
        "            h_2 = self.fc(h_2)\n",
        "            \n",
        "            # apply the softmax to the output to get the probabilities of the characters\n",
        "            h_2 = F.softmax(h_2, dim=1)\n",
        "            \n",
        "            # h_2 now holds the vector of predictions (1, vocab_size)\n",
        "            # we want to sample 5 top characters\n",
        "            p, top_char = h_2.topk(top_k)\n",
        "            \n",
        "            # get the top k characters by their probabilities\n",
        "            top_char = top_char.squeeze().cpu().numpy()\n",
        "            \n",
        "            # sample a character using its probability\n",
        "            p = p.detach().squeeze().cpu().numpy()\n",
        "            char = np.random.choice(top_char, p = p/p.sum())\n",
        "        \n",
        "            # append the character to the output sequence\n",
        "            seq[t+1] = char\n",
        "            \n",
        "            # prepare the character to be fed to the next LSTM cell\n",
        "            char = to_categorical(char, num_classes=self.vocab_size)\n",
        "            char = torch.from_numpy(char).unsqueeze(0).cuda()\n",
        "            \n",
        "        return seq"
      ],
      "execution_count": 0,
      "outputs": []
    },
    {
      "cell_type": "markdown",
      "metadata": {
        "id": "LdgwG4deDFRt",
        "colab_type": "text"
      },
      "source": [
        "We need to write the batching algorithm that will feed the data to our network."
      ]
    },
    {
      "cell_type": "code",
      "metadata": {
        "id": "Tgnn1tpPCYf6",
        "colab_type": "code",
        "colab": {}
      },
      "source": [
        "def to_categorical(y, num_classes=None, dtype='float32'):\n",
        "    \"\"\"Converts a class vector (integers) to binary class matrix.\n",
        "    E.g. for use with categorical_crossentropy.\n",
        "    # Arguments\n",
        "        y: class vector to be converted into a matrix\n",
        "            (integers from 0 to num_classes).\n",
        "        num_classes: total number of classes.\n",
        "        dtype: The data type expected by the input, as a string\n",
        "            (`float32`, `float64`, `int32`...)\n",
        "    # Returns\n",
        "        A binary matrix representation of the input. The classes axis\n",
        "        is placed last.\n",
        "    # Example\n",
        "    ```python\n",
        "    # Consider an array of 5 labels out of a set of 3 classes {0, 1, 2}:\n",
        "    > labels\n",
        "    array([0, 2, 1, 2, 0])\n",
        "    # `to_categorical` converts this into a matrix with as many\n",
        "    # columns as there are classes. The number of rows\n",
        "    # stays the same.\n",
        "    > to_categorical(labels)\n",
        "    array([[ 1.,  0.,  0.],\n",
        "           [ 0.,  0.,  1.],\n",
        "           [ 0.,  1.,  0.],\n",
        "           [ 0.,  0.,  1.],\n",
        "           [ 1.,  0.,  0.]], dtype=float32)\n",
        "    ```\n",
        "    \"\"\"\n",
        "\n",
        "    y = np.array(y, dtype='int')\n",
        "    input_shape = y.shape\n",
        "    if input_shape and input_shape[-1] == 1 and len(input_shape) > 1:\n",
        "        input_shape = tuple(input_shape[:-1])\n",
        "    y = y.ravel()\n",
        "    if not num_classes:\n",
        "        num_classes = np.max(y) + 1\n",
        "    n = y.shape[0]\n",
        "    categorical = np.zeros((n, num_classes), dtype=dtype)\n",
        "    categorical[np.arange(n), y] = 1\n",
        "    output_shape = input_shape + (num_classes,)\n",
        "    categorical = np.reshape(categorical, output_shape)\n",
        "    return categorical\n",
        "\n",
        "# batching function\n",
        "def get_batches(arr, n_seqs_in_a_batch, n_characters):\n",
        "    '''Create a generator that returns batches of size\n",
        "       n_seqs x n_steps from arr.\n",
        "       \n",
        "       Arguments\n",
        "       ---------\n",
        "       arr: Array you want to make batches from\n",
        "       n_seqs: Batch size, the number of sequences per batch\n",
        "       n_steps: Number of sequence steps per batch\n",
        "    '''\n",
        "    \n",
        "    batch_size = n_seqs_in_a_batch * n_characters\n",
        "    n_batches = len(arr)//batch_size\n",
        "    \n",
        "    # Keep only enough characters to make full batches\n",
        "    arr = arr[:n_batches * batch_size]\n",
        "    # Reshape into n_seqs rows\n",
        "    arr = arr.reshape((n_seqs_in_a_batch, -1))\n",
        "    \n",
        "    for n in range(0, arr.shape[1], n_characters):\n",
        "        # The features\n",
        "        x = arr[:, n:n+n_characters]\n",
        "        # The targets, shifted by one\n",
        "        y = np.zeros_like(x)\n",
        "        try:\n",
        "            y[:, :-1], y[:, -1] = x[:, 1:], arr[:, n+n_characters]\n",
        "        except IndexError:\n",
        "            y[:, :-1], y[:, -1] = x[:, 1:], arr[:, 0]\n",
        "        yield x, y"
      ],
      "execution_count": 0,
      "outputs": []
    },
    {
      "cell_type": "markdown",
      "metadata": {
        "id": "aPS4kU1HDU88",
        "colab_type": "text"
      },
      "source": [
        "Declare the network, the optimizer and the loss that we will use during training."
      ]
    },
    {
      "cell_type": "code",
      "metadata": {
        "id": "wpFBSfOuCbXt",
        "colab_type": "code",
        "colab": {}
      },
      "source": [
        "# compile the network - sequence_len, vocab_size, hidden_dim, batch_size\n",
        "net = CharLSTM(sequence_len=128, vocab_size=len(all_letters), hidden_dim=512, batch_size=100).cuda()\n",
        "\n",
        "# define the loss and the optimizer\n",
        "optimizer = torch.optim.Adam(net.parameters(), lr=0.001)\n",
        "criterion = nn.CrossEntropyLoss().cuda()"
      ],
      "execution_count": 0,
      "outputs": []
    },
    {
      "cell_type": "markdown",
      "metadata": {
        "id": "I2XtPqTDDrmh",
        "colab_type": "text"
      },
      "source": [
        "Do training and validation. The `samples` variable will save network predictions every 5 gradient steps."
      ]
    },
    {
      "cell_type": "code",
      "metadata": {
        "id": "XY3uV5y2DbJ9",
        "colab_type": "code",
        "colab": {
          "base_uri": "https://localhost:8080/",
          "height": 1924
        },
        "outputId": "af617c0b-b6e2-4a44-8fd7-d17c19e21fd3"
      },
      "source": [
        "# get the validation and the training data\n",
        "val_idx = int(len(encoded) * (1 - 0.1))\n",
        "data, val_data = encoded[:val_idx], encoded[val_idx:]\n",
        "\n",
        "# empty list for the validation losses\n",
        "train_losses = []\n",
        "val_losses = []\n",
        "\n",
        "# empty list for the samples\n",
        "samples = []\n",
        "samples.append(''.join([indexToLetter(int(int_)) for int_ in net.predict(\"A\", seq_len=1024)]))\n",
        "\n",
        "i = 0\n",
        "\n",
        "for epoch in range(50):\n",
        "    \n",
        "    # reinit the hidden and cell steates\n",
        "    hc = net.init_hidden()\n",
        "    h, c = hc[0].cuda(), hc[1].cuda()\n",
        "    hc = (h, c)\n",
        "    net.train()\n",
        "    for x, y in get_batches(data, 100, 128):\n",
        "        \n",
        "        # get the torch tensors from the one-hot of training data\n",
        "        # also transpose the axis for the training set and the targets\n",
        "        x_train = torch.from_numpy(to_categorical(x, num_classes=net.vocab_size).transpose([1, 0, 2]))\n",
        "        targets = torch.from_numpy(y.T).type(torch.LongTensor)  # tensor of the target\n",
        "        x_train, targets = x_train.cuda(), targets.cuda()\n",
        "        \n",
        "        # zero out the gradients\n",
        "        optimizer.zero_grad()\n",
        "        \n",
        "        # get the output sequence from the input and the initial hidden and cell states\n",
        "        output = net(x_train, hc)\n",
        "    \n",
        "        # calculate the loss\n",
        "        # we need to calculate the loss across all batches, so we have to flat the targets tensor\n",
        "        loss = criterion(output, targets.contiguous().view(-1))\n",
        "        \n",
        "        # calculate the gradients\n",
        "        loss.backward()\n",
        "        \n",
        "        # update the parameters of the model\n",
        "        optimizer.step()\n",
        "    \n",
        "        # feedback every 5 batches\n",
        "        if i % 5 == 0: \n",
        "            \n",
        "            # initialize the validation hidden state and cell state\n",
        "            val_h, val_c = net.init_hidden()\n",
        "            val_h, val_c = val_h.cuda(), val_c.cuda()\n",
        "            net.eval()\n",
        "            tmp_losses = []\n",
        "            for val_x, val_y in get_batches(val_data, 100, 128):\n",
        "                \n",
        "                # prepare the validation inputs and targets\n",
        "                val_x = torch.from_numpy(to_categorical(val_x).transpose([1, 0, 2]))\n",
        "                val_y = torch.from_numpy(val_y.T).type(torch.LongTensor).contiguous().view(-1)\n",
        "                val_x, val_y = val_x.cuda(), val_y.cuda()\n",
        "            \n",
        "                # get the validation output\n",
        "                val_output = net(val_x, (val_h, val_c))\n",
        "                \n",
        "                # get the validation loss\n",
        "                val_loss = criterion(val_output, val_y)\n",
        "                \n",
        "                # append the validation loss\n",
        "                tmp_losses.append(val_loss.item())\n",
        "                \n",
        "                # sample 256 chars\n",
        "                samples.append(''.join([indexToLetter(int(int_)) for int_ in net.predict(\"A\", seq_len=1024)]))\n",
        "            val_loss = np.mean(tmp_losses)\n",
        "            val_losses.append(val_loss)\n",
        "            train_losses.append(loss.item())\n",
        "            print(\"Epoch: {}, Total steps: {}, Train Loss: {:.6f}, Validation Loss: {:.6f}\".format(epoch, i, loss.item(), val_loss.item()))\n",
        "                \n",
        "        i += 1"
      ],
      "execution_count": 42,
      "outputs": [
        {
          "output_type": "stream",
          "text": [
            "Epoch: 0, Total steps: 0, Train Loss: 4.037354, Validation Loss: 4.006520\n",
            "Epoch: 0, Total steps: 5, Train Loss: 3.384221, Validation Loss: 3.412177\n",
            "Epoch: 0, Total steps: 10, Train Loss: 3.157248, Validation Loss: 3.320405\n",
            "Epoch: 1, Total steps: 15, Train Loss: 3.116139, Validation Loss: 3.278217\n",
            "Epoch: 1, Total steps: 20, Train Loss: 3.098053, Validation Loss: 3.289133\n",
            "Epoch: 2, Total steps: 25, Train Loss: 3.102530, Validation Loss: 3.289755\n",
            "Epoch: 2, Total steps: 30, Train Loss: 3.088704, Validation Loss: 3.276944\n",
            "Epoch: 3, Total steps: 35, Train Loss: 3.063580, Validation Loss: 3.267473\n",
            "Epoch: 3, Total steps: 40, Train Loss: 3.062662, Validation Loss: 3.264667\n",
            "Epoch: 4, Total steps: 45, Train Loss: 3.100790, Validation Loss: 3.263836\n",
            "Epoch: 4, Total steps: 50, Train Loss: 3.059229, Validation Loss: 3.262537\n",
            "Epoch: 5, Total steps: 55, Train Loss: 3.082022, Validation Loss: 3.262732\n",
            "Epoch: 5, Total steps: 60, Train Loss: 3.051021, Validation Loss: 3.259332\n",
            "Epoch: 5, Total steps: 65, Train Loss: 3.063303, Validation Loss: 3.256509\n",
            "Epoch: 6, Total steps: 70, Train Loss: 3.066939, Validation Loss: 3.243536\n",
            "Epoch: 6, Total steps: 75, Train Loss: 3.043675, Validation Loss: 3.230757\n",
            "Epoch: 7, Total steps: 80, Train Loss: 3.041476, Validation Loss: 3.226209\n",
            "Epoch: 7, Total steps: 85, Train Loss: 3.000311, Validation Loss: 3.205842\n",
            "Epoch: 8, Total steps: 90, Train Loss: 2.932121, Validation Loss: 3.175780\n",
            "Epoch: 8, Total steps: 95, Train Loss: 2.917066, Validation Loss: 3.159255\n",
            "Epoch: 9, Total steps: 100, Train Loss: 2.905862, Validation Loss: 3.155966\n",
            "Epoch: 9, Total steps: 105, Train Loss: 2.807393, Validation Loss: 3.081317\n",
            "Epoch: 10, Total steps: 110, Train Loss: 2.769862, Validation Loss: 3.027166\n",
            "Epoch: 10, Total steps: 115, Train Loss: 2.686751, Validation Loss: 2.995054\n",
            "Epoch: 10, Total steps: 120, Train Loss: 2.624465, Validation Loss: 2.967185\n",
            "Epoch: 11, Total steps: 125, Train Loss: 2.590017, Validation Loss: 2.922512\n",
            "Epoch: 11, Total steps: 130, Train Loss: 2.529303, Validation Loss: 2.914894\n",
            "Epoch: 12, Total steps: 135, Train Loss: 2.555438, Validation Loss: 2.857386\n",
            "Epoch: 12, Total steps: 140, Train Loss: 2.505517, Validation Loss: 2.838057\n",
            "Epoch: 13, Total steps: 145, Train Loss: 2.450037, Validation Loss: 2.817575\n",
            "Epoch: 13, Total steps: 150, Train Loss: 2.458373, Validation Loss: 2.809593\n",
            "Epoch: 14, Total steps: 155, Train Loss: 2.422639, Validation Loss: 2.812222\n",
            "Epoch: 14, Total steps: 160, Train Loss: 2.390839, Validation Loss: 2.781687\n",
            "Epoch: 15, Total steps: 165, Train Loss: 2.369921, Validation Loss: 2.764145\n",
            "Epoch: 15, Total steps: 170, Train Loss: 2.345413, Validation Loss: 2.765554\n",
            "Epoch: 15, Total steps: 175, Train Loss: 2.326058, Validation Loss: 2.767874\n",
            "Epoch: 16, Total steps: 180, Train Loss: 2.275252, Validation Loss: 2.733850\n",
            "Epoch: 16, Total steps: 185, Train Loss: 2.260557, Validation Loss: 2.724739\n",
            "Epoch: 17, Total steps: 190, Train Loss: 2.250543, Validation Loss: 2.711037\n",
            "Epoch: 17, Total steps: 195, Train Loss: 2.229197, Validation Loss: 2.713175\n",
            "Epoch: 18, Total steps: 200, Train Loss: 2.225550, Validation Loss: 2.800265\n",
            "Epoch: 18, Total steps: 205, Train Loss: 2.210887, Validation Loss: 2.697346\n",
            "Epoch: 19, Total steps: 210, Train Loss: 2.189132, Validation Loss: 2.660586\n",
            "Epoch: 19, Total steps: 215, Train Loss: 2.161929, Validation Loss: 2.667743\n",
            "Epoch: 20, Total steps: 220, Train Loss: 2.135956, Validation Loss: 2.660705\n",
            "Epoch: 20, Total steps: 225, Train Loss: 2.122084, Validation Loss: 2.653581\n",
            "Epoch: 20, Total steps: 230, Train Loss: 2.107680, Validation Loss: 2.645252\n",
            "Epoch: 21, Total steps: 235, Train Loss: 2.061597, Validation Loss: 2.641226\n",
            "Epoch: 21, Total steps: 240, Train Loss: 2.071083, Validation Loss: 2.625937\n",
            "Epoch: 22, Total steps: 245, Train Loss: 2.048957, Validation Loss: 2.626761\n",
            "Epoch: 22, Total steps: 250, Train Loss: 2.043499, Validation Loss: 2.627000\n",
            "Epoch: 23, Total steps: 255, Train Loss: 2.013028, Validation Loss: 2.620916\n",
            "Epoch: 23, Total steps: 260, Train Loss: 2.003041, Validation Loss: 2.605547\n",
            "Epoch: 24, Total steps: 265, Train Loss: 1.990852, Validation Loss: 2.598338\n",
            "Epoch: 24, Total steps: 270, Train Loss: 1.980734, Validation Loss: 2.608054\n",
            "Epoch: 25, Total steps: 275, Train Loss: 1.952415, Validation Loss: 2.582717\n",
            "Epoch: 25, Total steps: 280, Train Loss: 1.944441, Validation Loss: 2.581728\n",
            "Epoch: 25, Total steps: 285, Train Loss: 1.936943, Validation Loss: 2.578186\n",
            "Epoch: 26, Total steps: 290, Train Loss: 1.884116, Validation Loss: 2.576574\n",
            "Epoch: 26, Total steps: 295, Train Loss: 1.904823, Validation Loss: 2.560011\n",
            "Epoch: 27, Total steps: 300, Train Loss: 1.880939, Validation Loss: 2.567519\n",
            "Epoch: 27, Total steps: 305, Train Loss: 1.893568, Validation Loss: 2.558923\n",
            "Epoch: 28, Total steps: 310, Train Loss: 1.847417, Validation Loss: 2.548344\n",
            "Epoch: 28, Total steps: 315, Train Loss: 1.857519, Validation Loss: 2.541827\n",
            "Epoch: 29, Total steps: 320, Train Loss: 1.840694, Validation Loss: 2.531889\n",
            "Epoch: 29, Total steps: 325, Train Loss: 1.825837, Validation Loss: 2.542833\n",
            "Epoch: 30, Total steps: 330, Train Loss: 1.802114, Validation Loss: 2.528858\n",
            "Epoch: 30, Total steps: 335, Train Loss: 1.794840, Validation Loss: 2.521649\n",
            "Epoch: 30, Total steps: 340, Train Loss: 1.792961, Validation Loss: 2.511817\n",
            "Epoch: 31, Total steps: 345, Train Loss: 1.740905, Validation Loss: 2.510413\n",
            "Epoch: 31, Total steps: 350, Train Loss: 1.771240, Validation Loss: 2.492856\n",
            "Epoch: 32, Total steps: 355, Train Loss: 1.746577, Validation Loss: 2.508939\n",
            "Epoch: 32, Total steps: 360, Train Loss: 1.752141, Validation Loss: 2.496428\n",
            "Epoch: 33, Total steps: 365, Train Loss: 1.717153, Validation Loss: 2.491160\n",
            "Epoch: 33, Total steps: 370, Train Loss: 1.731809, Validation Loss: 2.491784\n",
            "Epoch: 34, Total steps: 375, Train Loss: 1.708755, Validation Loss: 2.475758\n",
            "Epoch: 34, Total steps: 380, Train Loss: 1.702639, Validation Loss: 2.490310\n",
            "Epoch: 35, Total steps: 385, Train Loss: 1.679223, Validation Loss: 2.467426\n",
            "Epoch: 35, Total steps: 390, Train Loss: 1.667617, Validation Loss: 2.473619\n",
            "Epoch: 35, Total steps: 395, Train Loss: 1.669256, Validation Loss: 2.456155\n",
            "Epoch: 36, Total steps: 400, Train Loss: 1.616962, Validation Loss: 2.462150\n",
            "Epoch: 36, Total steps: 405, Train Loss: 1.651396, Validation Loss: 2.461064\n",
            "Epoch: 37, Total steps: 410, Train Loss: 1.627166, Validation Loss: 2.457858\n",
            "Epoch: 37, Total steps: 415, Train Loss: 1.628802, Validation Loss: 2.459528\n",
            "Epoch: 38, Total steps: 420, Train Loss: 1.588795, Validation Loss: 2.452429\n",
            "Epoch: 38, Total steps: 425, Train Loss: 1.613609, Validation Loss: 2.446732\n",
            "Epoch: 39, Total steps: 430, Train Loss: 1.580963, Validation Loss: 2.451577\n",
            "Epoch: 39, Total steps: 435, Train Loss: 1.577222, Validation Loss: 2.448597\n",
            "Epoch: 40, Total steps: 440, Train Loss: 1.546965, Validation Loss: 2.441789\n",
            "Epoch: 40, Total steps: 445, Train Loss: 1.542438, Validation Loss: 2.450085\n",
            "Epoch: 40, Total steps: 450, Train Loss: 1.548209, Validation Loss: 2.439881\n",
            "Epoch: 41, Total steps: 455, Train Loss: 1.504785, Validation Loss: 2.462482\n",
            "Epoch: 41, Total steps: 460, Train Loss: 1.532581, Validation Loss: 2.420881\n",
            "Epoch: 42, Total steps: 465, Train Loss: 1.514626, Validation Loss: 2.448571\n",
            "Epoch: 42, Total steps: 470, Train Loss: 1.507250, Validation Loss: 2.434849\n",
            "Epoch: 43, Total steps: 475, Train Loss: 1.472973, Validation Loss: 2.440974\n",
            "Epoch: 43, Total steps: 480, Train Loss: 1.504787, Validation Loss: 2.446253\n",
            "Epoch: 44, Total steps: 485, Train Loss: 1.464143, Validation Loss: 2.435550\n",
            "Epoch: 44, Total steps: 490, Train Loss: 1.460584, Validation Loss: 2.456906\n",
            "Epoch: 45, Total steps: 495, Train Loss: 1.435182, Validation Loss: 2.429626\n",
            "Epoch: 45, Total steps: 500, Train Loss: 1.423327, Validation Loss: 2.462029\n",
            "Epoch: 45, Total steps: 505, Train Loss: 1.432189, Validation Loss: 2.444238\n",
            "Epoch: 46, Total steps: 510, Train Loss: 1.383664, Validation Loss: 2.432289\n",
            "Epoch: 46, Total steps: 515, Train Loss: 1.419443, Validation Loss: 2.440808\n",
            "Epoch: 47, Total steps: 520, Train Loss: 1.402782, Validation Loss: 2.462426\n",
            "Epoch: 47, Total steps: 525, Train Loss: 1.397168, Validation Loss: 2.448640\n",
            "Epoch: 48, Total steps: 530, Train Loss: 1.358787, Validation Loss: 2.458330\n",
            "Epoch: 48, Total steps: 535, Train Loss: 1.391697, Validation Loss: 2.489637\n",
            "Epoch: 49, Total steps: 540, Train Loss: 1.345196, Validation Loss: 2.466337\n",
            "Epoch: 49, Total steps: 545, Train Loss: 1.343246, Validation Loss: 2.448506\n"
          ],
          "name": "stdout"
        }
      ]
    },
    {
      "cell_type": "markdown",
      "metadata": {
        "id": "WdiU0hU9EDdq",
        "colab_type": "text"
      },
      "source": [
        "Plot the losses."
      ]
    },
    {
      "cell_type": "code",
      "metadata": {
        "id": "yTv1W981ZQNT",
        "colab_type": "code",
        "colab": {
          "base_uri": "https://localhost:8080/",
          "height": 287
        },
        "outputId": "53232026-bf64-48c6-8343-1500133a10cf"
      },
      "source": [
        "import matplotlib.pyplot as plt\n",
        "import matplotlib.ticker as ticker\n",
        "%matplotlib inline\n",
        "\n",
        "plt.figure()\n",
        "plt.plot(train_losses)\n",
        "plt.plot(val_losses)\n",
        "plt.legend([\"Train\", \"Validation\"])"
      ],
      "execution_count": 43,
      "outputs": [
        {
          "output_type": "execute_result",
          "data": {
            "text/plain": [
              "<matplotlib.legend.Legend at 0x7fdb959f1828>"
            ]
          },
          "metadata": {
            "tags": []
          },
          "execution_count": 43
        },
        {
          "output_type": "display_data",
          "data": {
            "image/png": "[encoded data removed]",
            "text/plain": [
              "<Figure size 432x288 with 1 Axes>"
            ]
          },
          "metadata": {
            "tags": []
          }
        }
      ]
    },
    {
      "cell_type": "markdown",
      "metadata": {
        "id": "VANSoHLdZdVt",
        "colab_type": "text"
      },
      "source": [
        "See some generated text samples."
      ]
    },
    {
      "cell_type": "code",
      "metadata": {
        "id": "Mg0m1YxcDsg8",
        "colab_type": "code",
        "colab": {
          "base_uri": "https://localhost:8080/",
          "height": 89
        },
        "outputId": "42c1b63c-b6c2-434c-9495-294ca91db8d8"
      },
      "source": [
        "print(samples[0])\n",
        "print(samples[5])\n",
        "print(samples[-1])"
      ],
      "execution_count": 44,
      "outputs": [
        {
          "output_type": "stream",
          "text": [
            "AUevnUvttvvvUttftUnUvUfUvtvvvnvtftnvfnttnntvUnvnvnnUtntfUntUfUntnvvvUnfUUUZnntntnvUvfvvtvfUnvnnUtUtnvttvvfUvUvftfvvtttvtntUfttvUnttvnvtntfUUfnnfnfvtvvtvvtfUtUvfUZfftttfetffvnnnnvnUvUtfUfUnnUvvfvtntfnfnfnUUvfvUnvnUUfvtfvUfUZvvfUfntftvUUnUfvnfnvvUnftftvtfntUvnvUUUttvnUfUUntvUfvvfvvfnvnUvtnttvttvnnffnfUUZnnvnUfnnnUftnfUfUtnnUUnnUtfnUUtnntfUfvnUvnfftfvUUnnUfUUtftUUtttntUvtUnnfvfUnUnUUtvvnUtnnUtvtfvtttvfnUnfnnntntnvnfvtfUUvUttntUttnnfUUZtUfnnftvffnUvnfnnftUvnfUnUUUvvnUUfnnfnttUnUntUnnttfUntUvfvUUtUnnfvvvftUvnttvtftnUvntUvvtttUnfUvtvtUUUUtnnvUfnUUvftfUZfnfUtUnfvftvfttnUvnfntntnftUnnfnfUnUntvfUnUvnffnUfvfvnnftnvnfvfvvfvUfvvftvUvvnfftUnfnnftvUvvUffvtUtUUtnnvfUvUnnUvUUtfvntttnfvUnUnnttnUvnfvvfftfvnnvfttvvntvntttnUvvnUUUfnvnvvUttvnvnUtvffUnvvUUUtUUtttnnUfnfnvftffUtfvUvnUvnfvfvfvtvttfnnvUfnUvtnvfUUvtnnUfnUUnvvnnftftUUvUtnfftnnUUUtUUZtvfUvUftvffnUftntvtUvvttvUtvvtUUvvUnntUvUffvvtvftnvnnUUUUnvfnfZtvtUttUUnUtnnffvttfnntfUUUUZZvfnfnUnfnftfvtfnntttfUfnttfnnUtUUnnUnntfUttUtntvvnvffUnUnnftnvfvtfUnUntvfvvvvfvvUtfvUnUntnnnnvtvfUv\n",
            "Anee titi  ttet o    e iot otee  t too   tt e oe  i   te ee   oe  oetteiete t te  ee tt  eoi i o o e o  oe  t  ieee ooioeeeeo ett t ttiio ei teitee t    te  oee ee ti  ieotoeo eeoieeie ei  oi e oeie  etee  te  oi oi itt  eieei too   te   o i    iei e  t oi   toi toe otie o  i      iet itoe   e e  te o ti  o   ioei  itieo   ei   it eie ei t   oit e ei ot eeote     eoeet o te ee iiet  te ie ttio t ee oe oeoe i  e ie   e   eet ot oeo   etoteoe eiiooe  otie   e oeeo  e  e iooo  ttt t ioet    ooio  e te tet  oi oeiteet tio ie    oe        i ieit  e  t oe ioeo  o  e   e e o   i i i oe etei  tei t  o tet  ei  ieet  e eeeo oo  e      otetettot t oi tii e ioeeo o   e i e  io iei t  e t ete teeie e  oo  ioeee  e     o  ie  o o   eeet  ee it  o t    et oe e eeeoo eio e  iee tto ii o teo oi oet oi et  t ieo  eo etee       oie to t  iooi  i e   i   t   e tei  e  i t oie  e  o    teotio  e otiii   ieee e t  et  oeeee    oe  eoe i oeto tte    e eeeoee e   e ti eeooet etitit   e i ii  te ieeo e te to  ote te ie e oeoe o t i  \n",
            "Ad the Gryphon. 'I dow' said they surply and ancharse, and hersail,t as it went executinges or tore of they were weres in to see to like,' caid Alice so a muster of to she shere a stoly of theroust, and was got again times, what I'manget of to sell the tise, and sheards the care was a minute atains that isslape. Alice could not, a thing, and hear the right threewonde of the time it.  So he she could not moke ort throwat again into a was the mouse, and they sar floor she a cat in alawrly who engaided as intle another took the reshed the wares it head sured all at has as ance she was to this she was going in, the forthangly speaked in the mimes in a reat offerther that, and then theereated all thing it, and alles were simes in thried herself, 'so see all there's in a see tome tonce.'Ard a wonder a little or ture, and, astild at therearrabling' Alice whendered a little to her fans of this that but the core sume then at atchos off timing about, and say all the pirching to them, she hear preplised a thoughts it sum\n"
          ],
          "name": "stdout"
        }
      ]
    },
    {
      "cell_type": "markdown",
      "metadata": {
        "id": "Ub95XArNY9aV",
        "colab_type": "text"
      },
      "source": [
        "**Exercise: ** did the network overfit? Try adding dropout and doing early stopping to improve its performance. You can also try to train the model with Ana Karenina or other books in txt format."
      ]
    },
    {
      "cell_type": "code",
      "metadata": {
        "id": "Hl5MLK0eIts3",
        "colab_type": "code",
        "colab": {}
      },
      "source": [
        ""
      ],
      "execution_count": 0,
      "outputs": []
    }
  ]
}